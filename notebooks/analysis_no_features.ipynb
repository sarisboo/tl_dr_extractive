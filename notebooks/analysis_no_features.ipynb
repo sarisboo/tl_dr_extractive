{
 "cells": [
  {
   "cell_type": "markdown",
   "metadata": {},
   "source": [
    "# TL;DR In-depth Analysis"
   ]
  },
  {
   "cell_type": "markdown",
   "metadata": {},
   "source": [
    "## Preprocessing"
   ]
  },
  {
   "cell_type": "code",
   "execution_count": 34,
   "metadata": {},
   "outputs": [],
   "source": [
    "import numpy as np \n",
    "import pandas as pd \n",
    "import matplotlib.pyplot as plt \n",
    "import seaborn as sns\n",
    "import warnings\n",
    "warnings.filterwarnings(\"ignore\")\n",
    "from eval_funcs import *"
   ]
  },
  {
   "cell_type": "code",
   "execution_count": 35,
   "metadata": {},
   "outputs": [],
   "source": [
    "wikihow_subset = pd.read_csv('./datasets/wikihow_sep_subset.csv')"
   ]
  },
  {
   "cell_type": "code",
   "execution_count": 36,
   "metadata": {},
   "outputs": [
    {
     "data": {
      "text/html": [
       "<div>\n",
       "<style scoped>\n",
       "    .dataframe tbody tr th:only-of-type {\n",
       "        vertical-align: middle;\n",
       "    }\n",
       "\n",
       "    .dataframe tbody tr th {\n",
       "        vertical-align: top;\n",
       "    }\n",
       "\n",
       "    .dataframe thead th {\n",
       "        text-align: right;\n",
       "    }\n",
       "</style>\n",
       "<table border=\"1\" class=\"dataframe\">\n",
       "  <thead>\n",
       "    <tr style=\"text-align: right;\">\n",
       "      <th></th>\n",
       "      <th>text_id</th>\n",
       "      <th>sentence</th>\n",
       "      <th>is_summary</th>\n",
       "      <th>words</th>\n",
       "      <th>title</th>\n",
       "      <th>sentence_len</th>\n",
       "      <th>tfidf_score</th>\n",
       "      <th>title_similarity</th>\n",
       "      <th>title_sim_categories</th>\n",
       "      <th>may</th>\n",
       "      <th>...</th>\n",
       "      <th>want</th>\n",
       "      <th>many</th>\n",
       "      <th>ask</th>\n",
       "      <th>good</th>\n",
       "      <th>find</th>\n",
       "      <th>work</th>\n",
       "      <th>go</th>\n",
       "      <th>include</th>\n",
       "      <th>important</th>\n",
       "      <th>know</th>\n",
       "    </tr>\n",
       "  </thead>\n",
       "  <tbody>\n",
       "    <tr>\n",
       "      <th>0</th>\n",
       "      <td>176320</td>\n",
       "      <td>Sell yourself first</td>\n",
       "      <td>1</td>\n",
       "      <td>['Sell', 'yourself', 'first']</td>\n",
       "      <td>How to Sell Fine Art Online</td>\n",
       "      <td>3</td>\n",
       "      <td>2.208904</td>\n",
       "      <td>0.828910</td>\n",
       "      <td>Strong</td>\n",
       "      <td>0</td>\n",
       "      <td>...</td>\n",
       "      <td>0</td>\n",
       "      <td>0</td>\n",
       "      <td>0</td>\n",
       "      <td>0</td>\n",
       "      <td>0</td>\n",
       "      <td>0</td>\n",
       "      <td>0</td>\n",
       "      <td>0</td>\n",
       "      <td>0</td>\n",
       "      <td>0</td>\n",
       "    </tr>\n",
       "    <tr>\n",
       "      <th>1</th>\n",
       "      <td>176320</td>\n",
       "      <td>Before doing anything else, stop and sum up yo...</td>\n",
       "      <td>0</td>\n",
       "      <td>['Before', 'doing', 'anything', 'else,', 'stop...</td>\n",
       "      <td>How to Sell Fine Art Online</td>\n",
       "      <td>12</td>\n",
       "      <td>4.242620</td>\n",
       "      <td>0.806864</td>\n",
       "      <td>Strong</td>\n",
       "      <td>0</td>\n",
       "      <td>...</td>\n",
       "      <td>0</td>\n",
       "      <td>0</td>\n",
       "      <td>0</td>\n",
       "      <td>0</td>\n",
       "      <td>0</td>\n",
       "      <td>0</td>\n",
       "      <td>0</td>\n",
       "      <td>0</td>\n",
       "      <td>0</td>\n",
       "      <td>0</td>\n",
       "    </tr>\n",
       "    <tr>\n",
       "      <th>2</th>\n",
       "      <td>176320</td>\n",
       "      <td>Now, think about how to translate that to an o...</td>\n",
       "      <td>0</td>\n",
       "      <td>['Now,', 'think', 'about', 'how', 'to', 'trans...</td>\n",
       "      <td>How to Sell Fine Art Online</td>\n",
       "      <td>11</td>\n",
       "      <td>2.700872</td>\n",
       "      <td>0.857768</td>\n",
       "      <td>Strong</td>\n",
       "      <td>0</td>\n",
       "      <td>...</td>\n",
       "      <td>0</td>\n",
       "      <td>0</td>\n",
       "      <td>0</td>\n",
       "      <td>0</td>\n",
       "      <td>0</td>\n",
       "      <td>0</td>\n",
       "      <td>0</td>\n",
       "      <td>0</td>\n",
       "      <td>0</td>\n",
       "      <td>0</td>\n",
       "    </tr>\n",
       "    <tr>\n",
       "      <th>3</th>\n",
       "      <td>176320</td>\n",
       "      <td>Be it the few words, Twitter allows you or an ...</td>\n",
       "      <td>0</td>\n",
       "      <td>['Be', 'it', 'the', 'few', 'words,', 'Twitter'...</td>\n",
       "      <td>How to Sell Fine Art Online</td>\n",
       "      <td>21</td>\n",
       "      <td>2.551936</td>\n",
       "      <td>0.815038</td>\n",
       "      <td>Strong</td>\n",
       "      <td>0</td>\n",
       "      <td>...</td>\n",
       "      <td>0</td>\n",
       "      <td>0</td>\n",
       "      <td>0</td>\n",
       "      <td>0</td>\n",
       "      <td>0</td>\n",
       "      <td>0</td>\n",
       "      <td>0</td>\n",
       "      <td>0</td>\n",
       "      <td>0</td>\n",
       "      <td>0</td>\n",
       "    </tr>\n",
       "    <tr>\n",
       "      <th>4</th>\n",
       "      <td>176320</td>\n",
       "      <td>Bring out the most salient features of your cr...</td>\n",
       "      <td>0</td>\n",
       "      <td>['Bring', 'out', 'the', 'most', 'salient', 'fe...</td>\n",
       "      <td>How to Sell Fine Art Online</td>\n",
       "      <td>18</td>\n",
       "      <td>4.182040</td>\n",
       "      <td>0.789926</td>\n",
       "      <td>Strong</td>\n",
       "      <td>0</td>\n",
       "      <td>...</td>\n",
       "      <td>0</td>\n",
       "      <td>0</td>\n",
       "      <td>0</td>\n",
       "      <td>0</td>\n",
       "      <td>0</td>\n",
       "      <td>0</td>\n",
       "      <td>0</td>\n",
       "      <td>0</td>\n",
       "      <td>0</td>\n",
       "      <td>0</td>\n",
       "    </tr>\n",
       "    <tr>\n",
       "      <th>5</th>\n",
       "      <td>176320</td>\n",
       "      <td>Make it clear to readers why you are an artist...</td>\n",
       "      <td>0</td>\n",
       "      <td>['Make', 'it', 'clear', 'to', 'readers', 'why'...</td>\n",
       "      <td>How to Sell Fine Art Online</td>\n",
       "      <td>24</td>\n",
       "      <td>4.577154</td>\n",
       "      <td>0.867380</td>\n",
       "      <td>Strong</td>\n",
       "      <td>0</td>\n",
       "      <td>...</td>\n",
       "      <td>0</td>\n",
       "      <td>0</td>\n",
       "      <td>0</td>\n",
       "      <td>0</td>\n",
       "      <td>0</td>\n",
       "      <td>0</td>\n",
       "      <td>0</td>\n",
       "      <td>0</td>\n",
       "      <td>0</td>\n",
       "      <td>0</td>\n",
       "    </tr>\n",
       "    <tr>\n",
       "      <th>6</th>\n",
       "      <td>176320</td>\n",
       "      <td>If you re not great with words, find a friend ...</td>\n",
       "      <td>0</td>\n",
       "      <td>['If', 'you', 're', 'not', 'great', 'with', 'w...</td>\n",
       "      <td>How to Sell Fine Art Online</td>\n",
       "      <td>29</td>\n",
       "      <td>4.299002</td>\n",
       "      <td>0.840578</td>\n",
       "      <td>Strong</td>\n",
       "      <td>0</td>\n",
       "      <td>...</td>\n",
       "      <td>0</td>\n",
       "      <td>0</td>\n",
       "      <td>0</td>\n",
       "      <td>0</td>\n",
       "      <td>0</td>\n",
       "      <td>0</td>\n",
       "      <td>0</td>\n",
       "      <td>0</td>\n",
       "      <td>0</td>\n",
       "      <td>0</td>\n",
       "    </tr>\n",
       "    <tr>\n",
       "      <th>7</th>\n",
       "      <td>12342</td>\n",
       "      <td>Read the classics before</td>\n",
       "      <td>1</td>\n",
       "      <td>['Read', 'the', 'classics', 'before']</td>\n",
       "      <td>How to Be Well Read</td>\n",
       "      <td>4</td>\n",
       "      <td>4.168238</td>\n",
       "      <td>0.790482</td>\n",
       "      <td>Strong</td>\n",
       "      <td>0</td>\n",
       "      <td>...</td>\n",
       "      <td>0</td>\n",
       "      <td>0</td>\n",
       "      <td>0</td>\n",
       "      <td>0</td>\n",
       "      <td>0</td>\n",
       "      <td>0</td>\n",
       "      <td>0</td>\n",
       "      <td>0</td>\n",
       "      <td>0</td>\n",
       "      <td>0</td>\n",
       "    </tr>\n",
       "    <tr>\n",
       "      <th>8</th>\n",
       "      <td>12342</td>\n",
       "      <td>Reading the classics is the very first thing y...</td>\n",
       "      <td>0</td>\n",
       "      <td>['Reading', 'the', 'classics', 'is', 'the', 'v...</td>\n",
       "      <td>How to Be Well Read</td>\n",
       "      <td>16</td>\n",
       "      <td>3.720692</td>\n",
       "      <td>0.958614</td>\n",
       "      <td>Very Strong</td>\n",
       "      <td>0</td>\n",
       "      <td>...</td>\n",
       "      <td>0</td>\n",
       "      <td>0</td>\n",
       "      <td>0</td>\n",
       "      <td>0</td>\n",
       "      <td>0</td>\n",
       "      <td>0</td>\n",
       "      <td>0</td>\n",
       "      <td>0</td>\n",
       "      <td>0</td>\n",
       "      <td>0</td>\n",
       "    </tr>\n",
       "    <tr>\n",
       "      <th>9</th>\n",
       "      <td>12342</td>\n",
       "      <td>If you want to build a solid foundation for yo...</td>\n",
       "      <td>0</td>\n",
       "      <td>['If', 'you', 'want', 'to', 'build', 'a', 'sol...</td>\n",
       "      <td>How to Be Well Read</td>\n",
       "      <td>33</td>\n",
       "      <td>4.493084</td>\n",
       "      <td>0.919967</td>\n",
       "      <td>Very Strong</td>\n",
       "      <td>0</td>\n",
       "      <td>...</td>\n",
       "      <td>0</td>\n",
       "      <td>0</td>\n",
       "      <td>0</td>\n",
       "      <td>0</td>\n",
       "      <td>0</td>\n",
       "      <td>0</td>\n",
       "      <td>0</td>\n",
       "      <td>0</td>\n",
       "      <td>0</td>\n",
       "      <td>0</td>\n",
       "    </tr>\n",
       "    <tr>\n",
       "      <th>10</th>\n",
       "      <td>12342</td>\n",
       "      <td>Remember that the novel didn t really get popu...</td>\n",
       "      <td>0</td>\n",
       "      <td>['Remember', 'that', 'the', 'novel', 'didn', '...</td>\n",
       "      <td>How to Be Well Read</td>\n",
       "      <td>22</td>\n",
       "      <td>4.672714</td>\n",
       "      <td>0.887798</td>\n",
       "      <td>Strong</td>\n",
       "      <td>0</td>\n",
       "      <td>...</td>\n",
       "      <td>0</td>\n",
       "      <td>0</td>\n",
       "      <td>0</td>\n",
       "      <td>0</td>\n",
       "      <td>0</td>\n",
       "      <td>0</td>\n",
       "      <td>0</td>\n",
       "      <td>0</td>\n",
       "      <td>0</td>\n",
       "      <td>0</td>\n",
       "    </tr>\n",
       "    <tr>\n",
       "      <th>11</th>\n",
       "      <td>12342</td>\n",
       "      <td>Without reading the poetry of Homer or the pla...</td>\n",
       "      <td>0</td>\n",
       "      <td>['Without', 'reading', 'the', 'poetry', 'of', ...</td>\n",
       "      <td>How to Be Well Read</td>\n",
       "      <td>21</td>\n",
       "      <td>2.744895</td>\n",
       "      <td>0.898607</td>\n",
       "      <td>Strong</td>\n",
       "      <td>0</td>\n",
       "      <td>...</td>\n",
       "      <td>0</td>\n",
       "      <td>0</td>\n",
       "      <td>0</td>\n",
       "      <td>0</td>\n",
       "      <td>0</td>\n",
       "      <td>0</td>\n",
       "      <td>0</td>\n",
       "      <td>0</td>\n",
       "      <td>0</td>\n",
       "      <td>0</td>\n",
       "    </tr>\n",
       "    <tr>\n",
       "      <th>12</th>\n",
       "      <td>176320</td>\n",
       "      <td>Join online artist communities</td>\n",
       "      <td>1</td>\n",
       "      <td>['Join', 'online', 'artist', 'communities']</td>\n",
       "      <td>How to Sell Fine Art Online</td>\n",
       "      <td>4</td>\n",
       "      <td>3.526044</td>\n",
       "      <td>0.753255</td>\n",
       "      <td>Strong</td>\n",
       "      <td>0</td>\n",
       "      <td>...</td>\n",
       "      <td>0</td>\n",
       "      <td>0</td>\n",
       "      <td>0</td>\n",
       "      <td>0</td>\n",
       "      <td>0</td>\n",
       "      <td>0</td>\n",
       "      <td>0</td>\n",
       "      <td>0</td>\n",
       "      <td>0</td>\n",
       "      <td>0</td>\n",
       "    </tr>\n",
       "    <tr>\n",
       "      <th>13</th>\n",
       "      <td>176320</td>\n",
       "      <td>Depending on what scale you intend to sell you...</td>\n",
       "      <td>0</td>\n",
       "      <td>['Depending', 'on', 'what', 'scale', 'you', 'i...</td>\n",
       "      <td>How to Sell Fine Art Online</td>\n",
       "      <td>28</td>\n",
       "      <td>2.413566</td>\n",
       "      <td>0.920119</td>\n",
       "      <td>Very Strong</td>\n",
       "      <td>0</td>\n",
       "      <td>...</td>\n",
       "      <td>0</td>\n",
       "      <td>0</td>\n",
       "      <td>0</td>\n",
       "      <td>0</td>\n",
       "      <td>0</td>\n",
       "      <td>0</td>\n",
       "      <td>0</td>\n",
       "      <td>0</td>\n",
       "      <td>0</td>\n",
       "      <td>0</td>\n",
       "    </tr>\n",
       "    <tr>\n",
       "      <th>14</th>\n",
       "      <td>176320</td>\n",
       "      <td>With brokerage, you can also find many online ...</td>\n",
       "      <td>0</td>\n",
       "      <td>['With', 'brokerage,', 'you', 'can', 'also', '...</td>\n",
       "      <td>How to Sell Fine Art Online</td>\n",
       "      <td>35</td>\n",
       "      <td>2.734446</td>\n",
       "      <td>0.920458</td>\n",
       "      <td>Very Strong</td>\n",
       "      <td>0</td>\n",
       "      <td>...</td>\n",
       "      <td>0</td>\n",
       "      <td>0</td>\n",
       "      <td>0</td>\n",
       "      <td>0</td>\n",
       "      <td>0</td>\n",
       "      <td>0</td>\n",
       "      <td>0</td>\n",
       "      <td>0</td>\n",
       "      <td>0</td>\n",
       "      <td>0</td>\n",
       "    </tr>\n",
       "    <tr>\n",
       "      <th>15</th>\n",
       "      <td>176320</td>\n",
       "      <td>There are also many other possible sites, such...</td>\n",
       "      <td>0</td>\n",
       "      <td>['There', 'are', 'also', 'many', 'other', 'pos...</td>\n",
       "      <td>How to Sell Fine Art Online</td>\n",
       "      <td>58</td>\n",
       "      <td>2.170327</td>\n",
       "      <td>0.875969</td>\n",
       "      <td>Strong</td>\n",
       "      <td>0</td>\n",
       "      <td>...</td>\n",
       "      <td>0</td>\n",
       "      <td>0</td>\n",
       "      <td>0</td>\n",
       "      <td>0</td>\n",
       "      <td>0</td>\n",
       "      <td>0</td>\n",
       "      <td>0</td>\n",
       "      <td>0</td>\n",
       "      <td>0</td>\n",
       "      <td>0</td>\n",
       "    </tr>\n",
       "    <tr>\n",
       "      <th>16</th>\n",
       "      <td>176320</td>\n",
       "      <td>Read the terms and conditions of every site ve...</td>\n",
       "      <td>0</td>\n",
       "      <td>['Read', 'the', 'terms', 'and', 'conditions', ...</td>\n",
       "      <td>How to Sell Fine Art Online</td>\n",
       "      <td>10</td>\n",
       "      <td>2.103716</td>\n",
       "      <td>0.767268</td>\n",
       "      <td>Strong</td>\n",
       "      <td>0</td>\n",
       "      <td>...</td>\n",
       "      <td>0</td>\n",
       "      <td>0</td>\n",
       "      <td>0</td>\n",
       "      <td>0</td>\n",
       "      <td>0</td>\n",
       "      <td>0</td>\n",
       "      <td>0</td>\n",
       "      <td>0</td>\n",
       "      <td>0</td>\n",
       "      <td>0</td>\n",
       "    </tr>\n",
       "    <tr>\n",
       "      <th>17</th>\n",
       "      <td>176320</td>\n",
       "      <td>Know what commission or percentage the site ta...</td>\n",
       "      <td>0</td>\n",
       "      <td>['Know', 'what', 'commission', 'or', 'percenta...</td>\n",
       "      <td>How to Sell Fine Art Online</td>\n",
       "      <td>45</td>\n",
       "      <td>2.691538</td>\n",
       "      <td>0.837819</td>\n",
       "      <td>Strong</td>\n",
       "      <td>0</td>\n",
       "      <td>...</td>\n",
       "      <td>0</td>\n",
       "      <td>0</td>\n",
       "      <td>0</td>\n",
       "      <td>0</td>\n",
       "      <td>0</td>\n",
       "      <td>0</td>\n",
       "      <td>0</td>\n",
       "      <td>0</td>\n",
       "      <td>0</td>\n",
       "      <td>1</td>\n",
       "    </tr>\n",
       "    <tr>\n",
       "      <th>18</th>\n",
       "      <td>176320</td>\n",
       "      <td>If your goal is to turn your art into an inves...</td>\n",
       "      <td>0</td>\n",
       "      <td>['If', 'your', 'goal', 'is', 'to', 'turn', 'yo...</td>\n",
       "      <td>How to Sell Fine Art Online</td>\n",
       "      <td>26</td>\n",
       "      <td>2.905198</td>\n",
       "      <td>0.845320</td>\n",
       "      <td>Strong</td>\n",
       "      <td>0</td>\n",
       "      <td>...</td>\n",
       "      <td>0</td>\n",
       "      <td>0</td>\n",
       "      <td>0</td>\n",
       "      <td>0</td>\n",
       "      <td>0</td>\n",
       "      <td>0</td>\n",
       "      <td>0</td>\n",
       "      <td>0</td>\n",
       "      <td>0</td>\n",
       "      <td>0</td>\n",
       "    </tr>\n",
       "    <tr>\n",
       "      <th>19</th>\n",
       "      <td>176320</td>\n",
       "      <td>This is largely because it is generally more d...</td>\n",
       "      <td>0</td>\n",
       "      <td>['This', 'is', 'largely', 'because', 'it', 'is...</td>\n",
       "      <td>How to Sell Fine Art Online</td>\n",
       "      <td>36</td>\n",
       "      <td>3.524292</td>\n",
       "      <td>0.848015</td>\n",
       "      <td>Strong</td>\n",
       "      <td>0</td>\n",
       "      <td>...</td>\n",
       "      <td>0</td>\n",
       "      <td>0</td>\n",
       "      <td>0</td>\n",
       "      <td>0</td>\n",
       "      <td>0</td>\n",
       "      <td>0</td>\n",
       "      <td>0</td>\n",
       "      <td>0</td>\n",
       "      <td>0</td>\n",
       "      <td>0</td>\n",
       "    </tr>\n",
       "    <tr>\n",
       "      <th>20</th>\n",
       "      <td>176320</td>\n",
       "      <td>It is best to see selling art online as an adj...</td>\n",
       "      <td>0</td>\n",
       "      <td>['It', 'is', 'best', 'to', 'see', 'selling', '...</td>\n",
       "      <td>How to Sell Fine Art Online</td>\n",
       "      <td>22</td>\n",
       "      <td>3.900584</td>\n",
       "      <td>0.900424</td>\n",
       "      <td>Very Strong</td>\n",
       "      <td>0</td>\n",
       "      <td>...</td>\n",
       "      <td>0</td>\n",
       "      <td>0</td>\n",
       "      <td>0</td>\n",
       "      <td>0</td>\n",
       "      <td>0</td>\n",
       "      <td>0</td>\n",
       "      <td>0</td>\n",
       "      <td>0</td>\n",
       "      <td>0</td>\n",
       "      <td>0</td>\n",
       "    </tr>\n",
       "    <tr>\n",
       "      <th>21</th>\n",
       "      <td>176320</td>\n",
       "      <td>Make yourself public</td>\n",
       "      <td>1</td>\n",
       "      <td>['Make', 'yourself', 'public']</td>\n",
       "      <td>How to Sell Fine Art Online</td>\n",
       "      <td>3</td>\n",
       "      <td>2.117669</td>\n",
       "      <td>0.758464</td>\n",
       "      <td>Strong</td>\n",
       "      <td>0</td>\n",
       "      <td>...</td>\n",
       "      <td>0</td>\n",
       "      <td>0</td>\n",
       "      <td>0</td>\n",
       "      <td>0</td>\n",
       "      <td>0</td>\n",
       "      <td>0</td>\n",
       "      <td>0</td>\n",
       "      <td>0</td>\n",
       "      <td>0</td>\n",
       "      <td>0</td>\n",
       "    </tr>\n",
       "    <tr>\n",
       "      <th>22</th>\n",
       "      <td>176320</td>\n",
       "      <td>Get yourself out there as best as you can by a...</td>\n",
       "      <td>0</td>\n",
       "      <td>['Get', 'yourself', 'out', 'there', 'as', 'bes...</td>\n",
       "      <td>How to Sell Fine Art Online</td>\n",
       "      <td>12</td>\n",
       "      <td>3.253392</td>\n",
       "      <td>0.836041</td>\n",
       "      <td>Strong</td>\n",
       "      <td>0</td>\n",
       "      <td>...</td>\n",
       "      <td>0</td>\n",
       "      <td>0</td>\n",
       "      <td>0</td>\n",
       "      <td>0</td>\n",
       "      <td>0</td>\n",
       "      <td>0</td>\n",
       "      <td>0</td>\n",
       "      <td>0</td>\n",
       "      <td>0</td>\n",
       "      <td>0</td>\n",
       "    </tr>\n",
       "    <tr>\n",
       "      <th>23</th>\n",
       "      <td>176320</td>\n",
       "      <td>Publish some example pieces around the web to ...</td>\n",
       "      <td>0</td>\n",
       "      <td>['Publish', 'some', 'example', 'pieces', 'arou...</td>\n",
       "      <td>How to Sell Fine Art Online</td>\n",
       "      <td>18</td>\n",
       "      <td>3.969059</td>\n",
       "      <td>0.861896</td>\n",
       "      <td>Strong</td>\n",
       "      <td>0</td>\n",
       "      <td>...</td>\n",
       "      <td>0</td>\n",
       "      <td>0</td>\n",
       "      <td>0</td>\n",
       "      <td>0</td>\n",
       "      <td>0</td>\n",
       "      <td>0</td>\n",
       "      <td>0</td>\n",
       "      <td>0</td>\n",
       "      <td>0</td>\n",
       "      <td>0</td>\n",
       "    </tr>\n",
       "    <tr>\n",
       "      <th>24</th>\n",
       "      <td>176320</td>\n",
       "      <td>Be sure to add a watermark to your digital ver...</td>\n",
       "      <td>0</td>\n",
       "      <td>['Be', 'sure', 'to', 'add', 'a', 'watermark', ...</td>\n",
       "      <td>How to Sell Fine Art Online</td>\n",
       "      <td>17</td>\n",
       "      <td>2.508898</td>\n",
       "      <td>0.845116</td>\n",
       "      <td>Strong</td>\n",
       "      <td>0</td>\n",
       "      <td>...</td>\n",
       "      <td>0</td>\n",
       "      <td>0</td>\n",
       "      <td>0</td>\n",
       "      <td>0</td>\n",
       "      <td>0</td>\n",
       "      <td>0</td>\n",
       "      <td>0</td>\n",
       "      <td>0</td>\n",
       "      <td>0</td>\n",
       "      <td>0</td>\n",
       "    </tr>\n",
       "    <tr>\n",
       "      <th>25</th>\n",
       "      <td>176320</td>\n",
       "      <td>Spend a little time researching online the way...</td>\n",
       "      <td>0</td>\n",
       "      <td>['Spend', 'a', 'little', 'time', 'researching'...</td>\n",
       "      <td>How to Sell Fine Art Online</td>\n",
       "      <td>15</td>\n",
       "      <td>2.657664</td>\n",
       "      <td>0.847232</td>\n",
       "      <td>Strong</td>\n",
       "      <td>0</td>\n",
       "      <td>...</td>\n",
       "      <td>0</td>\n",
       "      <td>0</td>\n",
       "      <td>0</td>\n",
       "      <td>0</td>\n",
       "      <td>0</td>\n",
       "      <td>0</td>\n",
       "      <td>0</td>\n",
       "      <td>0</td>\n",
       "      <td>0</td>\n",
       "      <td>0</td>\n",
       "    </tr>\n",
       "    <tr>\n",
       "      <th>26</th>\n",
       "      <td>176320</td>\n",
       "      <td>What works for them and what doesn t</td>\n",
       "      <td>0</td>\n",
       "      <td>['What', 'works', 'for', 'them', 'and', 'what'...</td>\n",
       "      <td>How to Sell Fine Art Online</td>\n",
       "      <td>8</td>\n",
       "      <td>3.062849</td>\n",
       "      <td>0.804387</td>\n",
       "      <td>Strong</td>\n",
       "      <td>0</td>\n",
       "      <td>...</td>\n",
       "      <td>0</td>\n",
       "      <td>0</td>\n",
       "      <td>0</td>\n",
       "      <td>0</td>\n",
       "      <td>0</td>\n",
       "      <td>0</td>\n",
       "      <td>0</td>\n",
       "      <td>0</td>\n",
       "      <td>0</td>\n",
       "      <td>0</td>\n",
       "    </tr>\n",
       "    <tr>\n",
       "      <th>27</th>\n",
       "      <td>176320</td>\n",
       "      <td>What do you like about their promotional strat...</td>\n",
       "      <td>0</td>\n",
       "      <td>['What', 'do', 'you', 'like', 'about', 'their'...</td>\n",
       "      <td>How to Sell Fine Art Online</td>\n",
       "      <td>15</td>\n",
       "      <td>3.689940</td>\n",
       "      <td>0.829169</td>\n",
       "      <td>Strong</td>\n",
       "      <td>0</td>\n",
       "      <td>...</td>\n",
       "      <td>0</td>\n",
       "      <td>0</td>\n",
       "      <td>0</td>\n",
       "      <td>0</td>\n",
       "      <td>0</td>\n",
       "      <td>0</td>\n",
       "      <td>0</td>\n",
       "      <td>0</td>\n",
       "      <td>0</td>\n",
       "      <td>0</td>\n",
       "    </tr>\n",
       "    <tr>\n",
       "      <th>28</th>\n",
       "      <td>176320</td>\n",
       "      <td>This type of research can give you a lot of id...</td>\n",
       "      <td>0</td>\n",
       "      <td>['This', 'type', 'of', 'research', 'can', 'giv...</td>\n",
       "      <td>How to Sell Fine Art Online</td>\n",
       "      <td>29</td>\n",
       "      <td>3.615599</td>\n",
       "      <td>0.841478</td>\n",
       "      <td>Strong</td>\n",
       "      <td>0</td>\n",
       "      <td>...</td>\n",
       "      <td>0</td>\n",
       "      <td>0</td>\n",
       "      <td>0</td>\n",
       "      <td>0</td>\n",
       "      <td>0</td>\n",
       "      <td>0</td>\n",
       "      <td>0</td>\n",
       "      <td>0</td>\n",
       "      <td>0</td>\n",
       "      <td>0</td>\n",
       "    </tr>\n",
       "    <tr>\n",
       "      <th>29</th>\n",
       "      <td>176320</td>\n",
       "      <td>Bookmark the sites of artists selling online t...</td>\n",
       "      <td>0</td>\n",
       "      <td>['Bookmark', 'the', 'sites', 'of', 'artists', ...</td>\n",
       "      <td>How to Sell Fine Art Online</td>\n",
       "      <td>28</td>\n",
       "      <td>3.430052</td>\n",
       "      <td>0.876318</td>\n",
       "      <td>Strong</td>\n",
       "      <td>0</td>\n",
       "      <td>...</td>\n",
       "      <td>0</td>\n",
       "      <td>0</td>\n",
       "      <td>0</td>\n",
       "      <td>0</td>\n",
       "      <td>0</td>\n",
       "      <td>0</td>\n",
       "      <td>0</td>\n",
       "      <td>0</td>\n",
       "      <td>0</td>\n",
       "      <td>0</td>\n",
       "    </tr>\n",
       "    <tr>\n",
       "      <th>30</th>\n",
       "      <td>176320</td>\n",
       "      <td>Seize the power of Twitter and Facebook to inc...</td>\n",
       "      <td>0</td>\n",
       "      <td>['Seize', 'the', 'power', 'of', 'Twitter', 'an...</td>\n",
       "      <td>How to Sell Fine Art Online</td>\n",
       "      <td>14</td>\n",
       "      <td>3.346507</td>\n",
       "      <td>0.780292</td>\n",
       "      <td>Strong</td>\n",
       "      <td>0</td>\n",
       "      <td>...</td>\n",
       "      <td>0</td>\n",
       "      <td>0</td>\n",
       "      <td>0</td>\n",
       "      <td>0</td>\n",
       "      <td>0</td>\n",
       "      <td>0</td>\n",
       "      <td>0</td>\n",
       "      <td>0</td>\n",
       "      <td>0</td>\n",
       "      <td>0</td>\n",
       "    </tr>\n",
       "    <tr>\n",
       "      <th>31</th>\n",
       "      <td>176320</td>\n",
       "      <td>Tweet updates about your new paintings, your t...</td>\n",
       "      <td>0</td>\n",
       "      <td>['Tweet', 'updates', 'about', 'your', 'new', '...</td>\n",
       "      <td>How to Sell Fine Art Online</td>\n",
       "      <td>17</td>\n",
       "      <td>2.582843</td>\n",
       "      <td>0.838981</td>\n",
       "      <td>Strong</td>\n",
       "      <td>0</td>\n",
       "      <td>...</td>\n",
       "      <td>0</td>\n",
       "      <td>0</td>\n",
       "      <td>0</td>\n",
       "      <td>0</td>\n",
       "      <td>0</td>\n",
       "      <td>0</td>\n",
       "      <td>0</td>\n",
       "      <td>0</td>\n",
       "      <td>0</td>\n",
       "      <td>0</td>\n",
       "    </tr>\n",
       "    <tr>\n",
       "      <th>32</th>\n",
       "      <td>176320</td>\n",
       "      <td>On Facebook, place photos of your artwork, dig...</td>\n",
       "      <td>0</td>\n",
       "      <td>['On', 'Facebook,', 'place', 'photos', 'of', '...</td>\n",
       "      <td>How to Sell Fine Art Online</td>\n",
       "      <td>30</td>\n",
       "      <td>2.518263</td>\n",
       "      <td>0.819495</td>\n",
       "      <td>Strong</td>\n",
       "      <td>0</td>\n",
       "      <td>...</td>\n",
       "      <td>0</td>\n",
       "      <td>0</td>\n",
       "      <td>0</td>\n",
       "      <td>0</td>\n",
       "      <td>0</td>\n",
       "      <td>0</td>\n",
       "      <td>0</td>\n",
       "      <td>0</td>\n",
       "      <td>0</td>\n",
       "      <td>0</td>\n",
       "    </tr>\n",
       "    <tr>\n",
       "      <th>33</th>\n",
       "      <td>176320</td>\n",
       "      <td>Blog about your artwork</td>\n",
       "      <td>1</td>\n",
       "      <td>['Blog', 'about', 'your', 'artwork']</td>\n",
       "      <td>How to Sell Fine Art Online</td>\n",
       "      <td>4</td>\n",
       "      <td>3.648748</td>\n",
       "      <td>0.756903</td>\n",
       "      <td>Strong</td>\n",
       "      <td>0</td>\n",
       "      <td>...</td>\n",
       "      <td>0</td>\n",
       "      <td>0</td>\n",
       "      <td>0</td>\n",
       "      <td>0</td>\n",
       "      <td>0</td>\n",
       "      <td>0</td>\n",
       "      <td>0</td>\n",
       "      <td>0</td>\n",
       "      <td>0</td>\n",
       "      <td>0</td>\n",
       "    </tr>\n",
       "    <tr>\n",
       "      <th>34</th>\n",
       "      <td>176320</td>\n",
       "      <td>Given the hundreds of free blogging websites, ...</td>\n",
       "      <td>0</td>\n",
       "      <td>['Given', 'the', 'hundreds', 'of', 'free', 'bl...</td>\n",
       "      <td>How to Sell Fine Art Online</td>\n",
       "      <td>17</td>\n",
       "      <td>3.602936</td>\n",
       "      <td>0.826264</td>\n",
       "      <td>Strong</td>\n",
       "      <td>0</td>\n",
       "      <td>...</td>\n",
       "      <td>0</td>\n",
       "      <td>0</td>\n",
       "      <td>0</td>\n",
       "      <td>0</td>\n",
       "      <td>0</td>\n",
       "      <td>0</td>\n",
       "      <td>0</td>\n",
       "      <td>0</td>\n",
       "      <td>0</td>\n",
       "      <td>0</td>\n",
       "    </tr>\n",
       "    <tr>\n",
       "      <th>35</th>\n",
       "      <td>176320</td>\n",
       "      <td>Most importantly, it s extremely useful to kee...</td>\n",
       "      <td>0</td>\n",
       "      <td>['Most', 'importantly,', 'it', 's', 'extremely...</td>\n",
       "      <td>How to Sell Fine Art Online</td>\n",
       "      <td>34</td>\n",
       "      <td>3.427765</td>\n",
       "      <td>0.821262</td>\n",
       "      <td>Strong</td>\n",
       "      <td>0</td>\n",
       "      <td>...</td>\n",
       "      <td>0</td>\n",
       "      <td>0</td>\n",
       "      <td>0</td>\n",
       "      <td>0</td>\n",
       "      <td>0</td>\n",
       "      <td>0</td>\n",
       "      <td>0</td>\n",
       "      <td>0</td>\n",
       "      <td>0</td>\n",
       "      <td>0</td>\n",
       "    </tr>\n",
       "    <tr>\n",
       "      <th>36</th>\n",
       "      <td>176320</td>\n",
       "      <td>A blog can pick up a lot of hits from search e...</td>\n",
       "      <td>0</td>\n",
       "      <td>['A', 'blog', 'can', 'pick', 'up', 'a', 'lot',...</td>\n",
       "      <td>How to Sell Fine Art Online</td>\n",
       "      <td>24</td>\n",
       "      <td>3.709278</td>\n",
       "      <td>0.820113</td>\n",
       "      <td>Strong</td>\n",
       "      <td>0</td>\n",
       "      <td>...</td>\n",
       "      <td>0</td>\n",
       "      <td>0</td>\n",
       "      <td>0</td>\n",
       "      <td>0</td>\n",
       "      <td>0</td>\n",
       "      <td>0</td>\n",
       "      <td>0</td>\n",
       "      <td>0</td>\n",
       "      <td>0</td>\n",
       "      <td>0</td>\n",
       "    </tr>\n",
       "    <tr>\n",
       "      <th>37</th>\n",
       "      <td>176320</td>\n",
       "      <td>Be sure to name your blog something simple but...</td>\n",
       "      <td>0</td>\n",
       "      <td>['Be', 'sure', 'to', 'name', 'your', 'blog', '...</td>\n",
       "      <td>How to Sell Fine Art Online</td>\n",
       "      <td>22</td>\n",
       "      <td>3.526250</td>\n",
       "      <td>0.826646</td>\n",
       "      <td>Strong</td>\n",
       "      <td>0</td>\n",
       "      <td>...</td>\n",
       "      <td>0</td>\n",
       "      <td>0</td>\n",
       "      <td>0</td>\n",
       "      <td>0</td>\n",
       "      <td>0</td>\n",
       "      <td>0</td>\n",
       "      <td>0</td>\n",
       "      <td>0</td>\n",
       "      <td>0</td>\n",
       "      <td>0</td>\n",
       "    </tr>\n",
       "    <tr>\n",
       "      <th>38</th>\n",
       "      <td>176320</td>\n",
       "      <td>Read How to start a blog and How to increase w...</td>\n",
       "      <td>0</td>\n",
       "      <td>['Read', 'How', 'to', 'start', 'a', 'blog', 'a...</td>\n",
       "      <td>How to Sell Fine Art Online</td>\n",
       "      <td>16</td>\n",
       "      <td>2.157411</td>\n",
       "      <td>0.840483</td>\n",
       "      <td>Strong</td>\n",
       "      <td>0</td>\n",
       "      <td>...</td>\n",
       "      <td>0</td>\n",
       "      <td>0</td>\n",
       "      <td>0</td>\n",
       "      <td>0</td>\n",
       "      <td>0</td>\n",
       "      <td>0</td>\n",
       "      <td>0</td>\n",
       "      <td>0</td>\n",
       "      <td>0</td>\n",
       "      <td>0</td>\n",
       "    </tr>\n",
       "    <tr>\n",
       "      <th>39</th>\n",
       "      <td>176320</td>\n",
       "      <td>A good way to test keywords for very little co...</td>\n",
       "      <td>0</td>\n",
       "      <td>['A', 'good', 'way', 'to', 'test', 'keywords',...</td>\n",
       "      <td>How to Sell Fine Art Online</td>\n",
       "      <td>16</td>\n",
       "      <td>3.861779</td>\n",
       "      <td>0.836152</td>\n",
       "      <td>Strong</td>\n",
       "      <td>0</td>\n",
       "      <td>...</td>\n",
       "      <td>0</td>\n",
       "      <td>0</td>\n",
       "      <td>0</td>\n",
       "      <td>0</td>\n",
       "      <td>0</td>\n",
       "      <td>0</td>\n",
       "      <td>0</td>\n",
       "      <td>0</td>\n",
       "      <td>0</td>\n",
       "      <td>0</td>\n",
       "    </tr>\n",
       "    <tr>\n",
       "      <th>40</th>\n",
       "      <td>176320</td>\n",
       "      <td>Play around with the words you use to title yo...</td>\n",
       "      <td>0</td>\n",
       "      <td>['Play', 'around', 'with', 'the', 'words', 'yo...</td>\n",
       "      <td>How to Sell Fine Art Online</td>\n",
       "      <td>24</td>\n",
       "      <td>3.780490</td>\n",
       "      <td>0.813565</td>\n",
       "      <td>Strong</td>\n",
       "      <td>0</td>\n",
       "      <td>...</td>\n",
       "      <td>0</td>\n",
       "      <td>0</td>\n",
       "      <td>0</td>\n",
       "      <td>0</td>\n",
       "      <td>0</td>\n",
       "      <td>0</td>\n",
       "      <td>0</td>\n",
       "      <td>0</td>\n",
       "      <td>0</td>\n",
       "      <td>0</td>\n",
       "    </tr>\n",
       "    <tr>\n",
       "      <th>41</th>\n",
       "      <td>176320</td>\n",
       "      <td>Keep changing the words until you find the swe...</td>\n",
       "      <td>0</td>\n",
       "      <td>['Keep', 'changing', 'the', 'words', 'until', ...</td>\n",
       "      <td>How to Sell Fine Art Online</td>\n",
       "      <td>20</td>\n",
       "      <td>3.349848</td>\n",
       "      <td>0.792748</td>\n",
       "      <td>Strong</td>\n",
       "      <td>0</td>\n",
       "      <td>...</td>\n",
       "      <td>0</td>\n",
       "      <td>0</td>\n",
       "      <td>0</td>\n",
       "      <td>0</td>\n",
       "      <td>0</td>\n",
       "      <td>0</td>\n",
       "      <td>0</td>\n",
       "      <td>0</td>\n",
       "      <td>0</td>\n",
       "      <td>0</td>\n",
       "    </tr>\n",
       "    <tr>\n",
       "      <th>42</th>\n",
       "      <td>176320</td>\n",
       "      <td>Create a mailing list</td>\n",
       "      <td>1</td>\n",
       "      <td>['Create', 'a', 'mailing', 'list']</td>\n",
       "      <td>How to Sell Fine Art Online</td>\n",
       "      <td>4</td>\n",
       "      <td>3.553474</td>\n",
       "      <td>0.662695</td>\n",
       "      <td>Medium</td>\n",
       "      <td>0</td>\n",
       "      <td>...</td>\n",
       "      <td>0</td>\n",
       "      <td>0</td>\n",
       "      <td>0</td>\n",
       "      <td>0</td>\n",
       "      <td>0</td>\n",
       "      <td>0</td>\n",
       "      <td>0</td>\n",
       "      <td>0</td>\n",
       "      <td>0</td>\n",
       "      <td>0</td>\n",
       "    </tr>\n",
       "    <tr>\n",
       "      <th>43</th>\n",
       "      <td>176320</td>\n",
       "      <td>This could be your most effective tool if mana...</td>\n",
       "      <td>0</td>\n",
       "      <td>['This', 'could', 'be', 'your', 'most', 'effec...</td>\n",
       "      <td>How to Sell Fine Art Online</td>\n",
       "      <td>10</td>\n",
       "      <td>3.822759</td>\n",
       "      <td>0.793108</td>\n",
       "      <td>Strong</td>\n",
       "      <td>0</td>\n",
       "      <td>...</td>\n",
       "      <td>0</td>\n",
       "      <td>0</td>\n",
       "      <td>0</td>\n",
       "      <td>0</td>\n",
       "      <td>0</td>\n",
       "      <td>0</td>\n",
       "      <td>0</td>\n",
       "      <td>0</td>\n",
       "      <td>0</td>\n",
       "      <td>0</td>\n",
       "    </tr>\n",
       "    <tr>\n",
       "      <th>44</th>\n",
       "      <td>176320</td>\n",
       "      <td>For every sale you make, every person who send...</td>\n",
       "      <td>0</td>\n",
       "      <td>['For', 'every', 'sale', 'you', 'make,', 'ever...</td>\n",
       "      <td>How to Sell Fine Art Online</td>\n",
       "      <td>29</td>\n",
       "      <td>2.515035</td>\n",
       "      <td>0.833991</td>\n",
       "      <td>Strong</td>\n",
       "      <td>0</td>\n",
       "      <td>...</td>\n",
       "      <td>0</td>\n",
       "      <td>0</td>\n",
       "      <td>0</td>\n",
       "      <td>0</td>\n",
       "      <td>0</td>\n",
       "      <td>0</td>\n",
       "      <td>0</td>\n",
       "      <td>0</td>\n",
       "      <td>0</td>\n",
       "      <td>0</td>\n",
       "    </tr>\n",
       "  </tbody>\n",
       "</table>\n",
       "<p>45 rows × 30 columns</p>\n",
       "</div>"
      ],
      "text/plain": [
       "    text_id                                           sentence  is_summary  \\\n",
       "0    176320                                Sell yourself first           1   \n",
       "1    176320  Before doing anything else, stop and sum up yo...           0   \n",
       "2    176320  Now, think about how to translate that to an o...           0   \n",
       "3    176320  Be it the few words, Twitter allows you or an ...           0   \n",
       "4    176320  Bring out the most salient features of your cr...           0   \n",
       "5    176320  Make it clear to readers why you are an artist...           0   \n",
       "6    176320  If you re not great with words, find a friend ...           0   \n",
       "7     12342                           Read the classics before           1   \n",
       "8     12342  Reading the classics is the very first thing y...           0   \n",
       "9     12342  If you want to build a solid foundation for yo...           0   \n",
       "10    12342  Remember that the novel didn t really get popu...           0   \n",
       "11    12342  Without reading the poetry of Homer or the pla...           0   \n",
       "12   176320                     Join online artist communities           1   \n",
       "13   176320  Depending on what scale you intend to sell you...           0   \n",
       "14   176320  With brokerage, you can also find many online ...           0   \n",
       "15   176320  There are also many other possible sites, such...           0   \n",
       "16   176320  Read the terms and conditions of every site ve...           0   \n",
       "17   176320  Know what commission or percentage the site ta...           0   \n",
       "18   176320  If your goal is to turn your art into an inves...           0   \n",
       "19   176320  This is largely because it is generally more d...           0   \n",
       "20   176320  It is best to see selling art online as an adj...           0   \n",
       "21   176320                               Make yourself public           1   \n",
       "22   176320  Get yourself out there as best as you can by a...           0   \n",
       "23   176320  Publish some example pieces around the web to ...           0   \n",
       "24   176320  Be sure to add a watermark to your digital ver...           0   \n",
       "25   176320  Spend a little time researching online the way...           0   \n",
       "26   176320               What works for them and what doesn t           0   \n",
       "27   176320  What do you like about their promotional strat...           0   \n",
       "28   176320  This type of research can give you a lot of id...           0   \n",
       "29   176320  Bookmark the sites of artists selling online t...           0   \n",
       "30   176320  Seize the power of Twitter and Facebook to inc...           0   \n",
       "31   176320  Tweet updates about your new paintings, your t...           0   \n",
       "32   176320  On Facebook, place photos of your artwork, dig...           0   \n",
       "33   176320                            Blog about your artwork           1   \n",
       "34   176320  Given the hundreds of free blogging websites, ...           0   \n",
       "35   176320  Most importantly, it s extremely useful to kee...           0   \n",
       "36   176320  A blog can pick up a lot of hits from search e...           0   \n",
       "37   176320  Be sure to name your blog something simple but...           0   \n",
       "38   176320  Read How to start a blog and How to increase w...           0   \n",
       "39   176320  A good way to test keywords for very little co...           0   \n",
       "40   176320  Play around with the words you use to title yo...           0   \n",
       "41   176320  Keep changing the words until you find the swe...           0   \n",
       "42   176320                              Create a mailing list           1   \n",
       "43   176320  This could be your most effective tool if mana...           0   \n",
       "44   176320  For every sale you make, every person who send...           0   \n",
       "\n",
       "                                                words  \\\n",
       "0                       ['Sell', 'yourself', 'first']   \n",
       "1   ['Before', 'doing', 'anything', 'else,', 'stop...   \n",
       "2   ['Now,', 'think', 'about', 'how', 'to', 'trans...   \n",
       "3   ['Be', 'it', 'the', 'few', 'words,', 'Twitter'...   \n",
       "4   ['Bring', 'out', 'the', 'most', 'salient', 'fe...   \n",
       "5   ['Make', 'it', 'clear', 'to', 'readers', 'why'...   \n",
       "6   ['If', 'you', 're', 'not', 'great', 'with', 'w...   \n",
       "7               ['Read', 'the', 'classics', 'before']   \n",
       "8   ['Reading', 'the', 'classics', 'is', 'the', 'v...   \n",
       "9   ['If', 'you', 'want', 'to', 'build', 'a', 'sol...   \n",
       "10  ['Remember', 'that', 'the', 'novel', 'didn', '...   \n",
       "11  ['Without', 'reading', 'the', 'poetry', 'of', ...   \n",
       "12        ['Join', 'online', 'artist', 'communities']   \n",
       "13  ['Depending', 'on', 'what', 'scale', 'you', 'i...   \n",
       "14  ['With', 'brokerage,', 'you', 'can', 'also', '...   \n",
       "15  ['There', 'are', 'also', 'many', 'other', 'pos...   \n",
       "16  ['Read', 'the', 'terms', 'and', 'conditions', ...   \n",
       "17  ['Know', 'what', 'commission', 'or', 'percenta...   \n",
       "18  ['If', 'your', 'goal', 'is', 'to', 'turn', 'yo...   \n",
       "19  ['This', 'is', 'largely', 'because', 'it', 'is...   \n",
       "20  ['It', 'is', 'best', 'to', 'see', 'selling', '...   \n",
       "21                     ['Make', 'yourself', 'public']   \n",
       "22  ['Get', 'yourself', 'out', 'there', 'as', 'bes...   \n",
       "23  ['Publish', 'some', 'example', 'pieces', 'arou...   \n",
       "24  ['Be', 'sure', 'to', 'add', 'a', 'watermark', ...   \n",
       "25  ['Spend', 'a', 'little', 'time', 'researching'...   \n",
       "26  ['What', 'works', 'for', 'them', 'and', 'what'...   \n",
       "27  ['What', 'do', 'you', 'like', 'about', 'their'...   \n",
       "28  ['This', 'type', 'of', 'research', 'can', 'giv...   \n",
       "29  ['Bookmark', 'the', 'sites', 'of', 'artists', ...   \n",
       "30  ['Seize', 'the', 'power', 'of', 'Twitter', 'an...   \n",
       "31  ['Tweet', 'updates', 'about', 'your', 'new', '...   \n",
       "32  ['On', 'Facebook,', 'place', 'photos', 'of', '...   \n",
       "33               ['Blog', 'about', 'your', 'artwork']   \n",
       "34  ['Given', 'the', 'hundreds', 'of', 'free', 'bl...   \n",
       "35  ['Most', 'importantly,', 'it', 's', 'extremely...   \n",
       "36  ['A', 'blog', 'can', 'pick', 'up', 'a', 'lot',...   \n",
       "37  ['Be', 'sure', 'to', 'name', 'your', 'blog', '...   \n",
       "38  ['Read', 'How', 'to', 'start', 'a', 'blog', 'a...   \n",
       "39  ['A', 'good', 'way', 'to', 'test', 'keywords',...   \n",
       "40  ['Play', 'around', 'with', 'the', 'words', 'yo...   \n",
       "41  ['Keep', 'changing', 'the', 'words', 'until', ...   \n",
       "42                 ['Create', 'a', 'mailing', 'list']   \n",
       "43  ['This', 'could', 'be', 'your', 'most', 'effec...   \n",
       "44  ['For', 'every', 'sale', 'you', 'make,', 'ever...   \n",
       "\n",
       "                          title  sentence_len  tfidf_score  title_similarity  \\\n",
       "0   How to Sell Fine Art Online             3     2.208904          0.828910   \n",
       "1   How to Sell Fine Art Online            12     4.242620          0.806864   \n",
       "2   How to Sell Fine Art Online            11     2.700872          0.857768   \n",
       "3   How to Sell Fine Art Online            21     2.551936          0.815038   \n",
       "4   How to Sell Fine Art Online            18     4.182040          0.789926   \n",
       "5   How to Sell Fine Art Online            24     4.577154          0.867380   \n",
       "6   How to Sell Fine Art Online            29     4.299002          0.840578   \n",
       "7           How to Be Well Read             4     4.168238          0.790482   \n",
       "8           How to Be Well Read            16     3.720692          0.958614   \n",
       "9           How to Be Well Read            33     4.493084          0.919967   \n",
       "10          How to Be Well Read            22     4.672714          0.887798   \n",
       "11          How to Be Well Read            21     2.744895          0.898607   \n",
       "12  How to Sell Fine Art Online             4     3.526044          0.753255   \n",
       "13  How to Sell Fine Art Online            28     2.413566          0.920119   \n",
       "14  How to Sell Fine Art Online            35     2.734446          0.920458   \n",
       "15  How to Sell Fine Art Online            58     2.170327          0.875969   \n",
       "16  How to Sell Fine Art Online            10     2.103716          0.767268   \n",
       "17  How to Sell Fine Art Online            45     2.691538          0.837819   \n",
       "18  How to Sell Fine Art Online            26     2.905198          0.845320   \n",
       "19  How to Sell Fine Art Online            36     3.524292          0.848015   \n",
       "20  How to Sell Fine Art Online            22     3.900584          0.900424   \n",
       "21  How to Sell Fine Art Online             3     2.117669          0.758464   \n",
       "22  How to Sell Fine Art Online            12     3.253392          0.836041   \n",
       "23  How to Sell Fine Art Online            18     3.969059          0.861896   \n",
       "24  How to Sell Fine Art Online            17     2.508898          0.845116   \n",
       "25  How to Sell Fine Art Online            15     2.657664          0.847232   \n",
       "26  How to Sell Fine Art Online             8     3.062849          0.804387   \n",
       "27  How to Sell Fine Art Online            15     3.689940          0.829169   \n",
       "28  How to Sell Fine Art Online            29     3.615599          0.841478   \n",
       "29  How to Sell Fine Art Online            28     3.430052          0.876318   \n",
       "30  How to Sell Fine Art Online            14     3.346507          0.780292   \n",
       "31  How to Sell Fine Art Online            17     2.582843          0.838981   \n",
       "32  How to Sell Fine Art Online            30     2.518263          0.819495   \n",
       "33  How to Sell Fine Art Online             4     3.648748          0.756903   \n",
       "34  How to Sell Fine Art Online            17     3.602936          0.826264   \n",
       "35  How to Sell Fine Art Online            34     3.427765          0.821262   \n",
       "36  How to Sell Fine Art Online            24     3.709278          0.820113   \n",
       "37  How to Sell Fine Art Online            22     3.526250          0.826646   \n",
       "38  How to Sell Fine Art Online            16     2.157411          0.840483   \n",
       "39  How to Sell Fine Art Online            16     3.861779          0.836152   \n",
       "40  How to Sell Fine Art Online            24     3.780490          0.813565   \n",
       "41  How to Sell Fine Art Online            20     3.349848          0.792748   \n",
       "42  How to Sell Fine Art Online             4     3.553474          0.662695   \n",
       "43  How to Sell Fine Art Online            10     3.822759          0.793108   \n",
       "44  How to Sell Fine Art Online            29     2.515035          0.833991   \n",
       "\n",
       "   title_sim_categories  may  ...  want  many  ask  good  find  work  go  \\\n",
       "0                Strong    0  ...     0     0    0     0     0     0   0   \n",
       "1                Strong    0  ...     0     0    0     0     0     0   0   \n",
       "2                Strong    0  ...     0     0    0     0     0     0   0   \n",
       "3                Strong    0  ...     0     0    0     0     0     0   0   \n",
       "4                Strong    0  ...     0     0    0     0     0     0   0   \n",
       "5                Strong    0  ...     0     0    0     0     0     0   0   \n",
       "6                Strong    0  ...     0     0    0     0     0     0   0   \n",
       "7                Strong    0  ...     0     0    0     0     0     0   0   \n",
       "8           Very Strong    0  ...     0     0    0     0     0     0   0   \n",
       "9           Very Strong    0  ...     0     0    0     0     0     0   0   \n",
       "10               Strong    0  ...     0     0    0     0     0     0   0   \n",
       "11               Strong    0  ...     0     0    0     0     0     0   0   \n",
       "12               Strong    0  ...     0     0    0     0     0     0   0   \n",
       "13          Very Strong    0  ...     0     0    0     0     0     0   0   \n",
       "14          Very Strong    0  ...     0     0    0     0     0     0   0   \n",
       "15               Strong    0  ...     0     0    0     0     0     0   0   \n",
       "16               Strong    0  ...     0     0    0     0     0     0   0   \n",
       "17               Strong    0  ...     0     0    0     0     0     0   0   \n",
       "18               Strong    0  ...     0     0    0     0     0     0   0   \n",
       "19               Strong    0  ...     0     0    0     0     0     0   0   \n",
       "20          Very Strong    0  ...     0     0    0     0     0     0   0   \n",
       "21               Strong    0  ...     0     0    0     0     0     0   0   \n",
       "22               Strong    0  ...     0     0    0     0     0     0   0   \n",
       "23               Strong    0  ...     0     0    0     0     0     0   0   \n",
       "24               Strong    0  ...     0     0    0     0     0     0   0   \n",
       "25               Strong    0  ...     0     0    0     0     0     0   0   \n",
       "26               Strong    0  ...     0     0    0     0     0     0   0   \n",
       "27               Strong    0  ...     0     0    0     0     0     0   0   \n",
       "28               Strong    0  ...     0     0    0     0     0     0   0   \n",
       "29               Strong    0  ...     0     0    0     0     0     0   0   \n",
       "30               Strong    0  ...     0     0    0     0     0     0   0   \n",
       "31               Strong    0  ...     0     0    0     0     0     0   0   \n",
       "32               Strong    0  ...     0     0    0     0     0     0   0   \n",
       "33               Strong    0  ...     0     0    0     0     0     0   0   \n",
       "34               Strong    0  ...     0     0    0     0     0     0   0   \n",
       "35               Strong    0  ...     0     0    0     0     0     0   0   \n",
       "36               Strong    0  ...     0     0    0     0     0     0   0   \n",
       "37               Strong    0  ...     0     0    0     0     0     0   0   \n",
       "38               Strong    0  ...     0     0    0     0     0     0   0   \n",
       "39               Strong    0  ...     0     0    0     0     0     0   0   \n",
       "40               Strong    0  ...     0     0    0     0     0     0   0   \n",
       "41               Strong    0  ...     0     0    0     0     0     0   0   \n",
       "42               Medium    0  ...     0     0    0     0     0     0   0   \n",
       "43               Strong    0  ...     0     0    0     0     0     0   0   \n",
       "44               Strong    0  ...     0     0    0     0     0     0   0   \n",
       "\n",
       "    include  important  know  \n",
       "0         0          0     0  \n",
       "1         0          0     0  \n",
       "2         0          0     0  \n",
       "3         0          0     0  \n",
       "4         0          0     0  \n",
       "5         0          0     0  \n",
       "6         0          0     0  \n",
       "7         0          0     0  \n",
       "8         0          0     0  \n",
       "9         0          0     0  \n",
       "10        0          0     0  \n",
       "11        0          0     0  \n",
       "12        0          0     0  \n",
       "13        0          0     0  \n",
       "14        0          0     0  \n",
       "15        0          0     0  \n",
       "16        0          0     0  \n",
       "17        0          0     1  \n",
       "18        0          0     0  \n",
       "19        0          0     0  \n",
       "20        0          0     0  \n",
       "21        0          0     0  \n",
       "22        0          0     0  \n",
       "23        0          0     0  \n",
       "24        0          0     0  \n",
       "25        0          0     0  \n",
       "26        0          0     0  \n",
       "27        0          0     0  \n",
       "28        0          0     0  \n",
       "29        0          0     0  \n",
       "30        0          0     0  \n",
       "31        0          0     0  \n",
       "32        0          0     0  \n",
       "33        0          0     0  \n",
       "34        0          0     0  \n",
       "35        0          0     0  \n",
       "36        0          0     0  \n",
       "37        0          0     0  \n",
       "38        0          0     0  \n",
       "39        0          0     0  \n",
       "40        0          0     0  \n",
       "41        0          0     0  \n",
       "42        0          0     0  \n",
       "43        0          0     0  \n",
       "44        0          0     0  \n",
       "\n",
       "[45 rows x 30 columns]"
      ]
     },
     "execution_count": 36,
     "metadata": {},
     "output_type": "execute_result"
    }
   ],
   "source": [
    "wikihow_subset.head(45)"
   ]
  },
  {
   "cell_type": "code",
   "execution_count": 37,
   "metadata": {},
   "outputs": [],
   "source": [
    "# Features to keep\n",
    "features = wikihow_subset[['text_id','title','sentence', 'is_summary','sentence_len','tfidf_score', 'title_similarity']]"
   ]
  },
  {
   "cell_type": "code",
   "execution_count": 38,
   "metadata": {},
   "outputs": [
    {
     "data": {
      "text/plain": [
       "0    83417\n",
       "1    16583\n",
       "Name: is_summary, dtype: int64"
      ]
     },
     "execution_count": 38,
     "metadata": {},
     "output_type": "execute_result"
    }
   ],
   "source": [
    "#Visulatize the class distribution\n",
    "features['is_summary'].value_counts()"
   ]
  },
  {
   "cell_type": "code",
   "execution_count": 39,
   "metadata": {},
   "outputs": [
    {
     "data": {
      "text/plain": [
       "0.83417"
      ]
     },
     "execution_count": 39,
     "metadata": {},
     "output_type": "execute_result"
    }
   ],
   "source": [
    "#Computing null accuracy \n",
    "null_accuracy = 83417/(83417+16583)\n",
    "null_accuracy"
   ]
  },
  {
   "cell_type": "markdown",
   "metadata": {},
   "source": [
    "## Performing Cross-Validation on CountVectorizer and MultinomialNB"
   ]
  },
  {
   "cell_type": "code",
   "execution_count": 40,
   "metadata": {},
   "outputs": [],
   "source": [
    "# Splitting the dataset \n",
    "from sklearn.model_selection import train_test_split\n",
    "X = features[['text_id','sentence', 'sentence_len', 'tfidf_score','title_similarity']]\n",
    "y = features['is_summary']\n",
    "X_train, X_test, y_train, y_test = train_test_split(X, y, test_size=0.3, random_state=42)"
   ]
  },
  {
   "cell_type": "code",
   "execution_count": 41,
   "metadata": {},
   "outputs": [],
   "source": [
    "X_train_no_feat = X_train['sentence']\n",
    "X_test_no_feat = X_test['sentence']"
   ]
  },
  {
   "cell_type": "code",
   "execution_count": 42,
   "metadata": {},
   "outputs": [],
   "source": [
    "#Performing Cross Validation for the best combination of parameters\n",
    "from sklearn.model_selection import GridSearchCV\n",
    "from sklearn.feature_extraction.text import CountVectorizer\n",
    "from sklearn.naive_bayes import MultinomialNB\n",
    "from sklearn import metrics\n",
    "from sklearn.pipeline import Pipeline\n",
    "# Define a pipeline combining a text feature extractor with a simple classifier\n",
    "pipeline = Pipeline([\n",
    "    ('vect', CountVectorizer(stop_words='english')),\n",
    "    ('nb', MultinomialNB()),\n",
    "])\n",
    "\n",
    "\n",
    "parameters = {\n",
    "    'vect__min_df': (2, 5, 10, 15, 20, 30, 40, 50),\n",
    "    'vect__ngram_range': ((1, 1), (1, 2)),  # unigrams or bigrams\n",
    "    'nb__alpha': (0.1, 1, 5, 10, 50),\n",
    "}"
   ]
  },
  {
   "cell_type": "code",
   "execution_count": 43,
   "metadata": {},
   "outputs": [],
   "source": [
    "# Find the best parameters for both the feature extraction and the classifier\n",
    "grid_search = GridSearchCV(pipeline, parameters, n_jobs=-1, verbose=1, scoring = 'f1')"
   ]
  },
  {
   "cell_type": "code",
   "execution_count": 44,
   "metadata": {},
   "outputs": [
    {
     "name": "stdout",
     "output_type": "stream",
     "text": [
      "Performing grid search...\n",
      "pipeline: ['vect', 'nb']\n",
      "parameters:\n",
      "{'vect__min_df': (2, 5, 10, 15, 20, 30, 40, 50), 'vect__ngram_range': ((1, 1), (1, 2)), 'nb__alpha': (0.1, 1, 5, 10, 50)}\n",
      "Fitting 5 folds for each of 80 candidates, totalling 400 fits\n"
     ]
    },
    {
     "name": "stderr",
     "output_type": "stream",
     "text": [
      "[Parallel(n_jobs=-1)]: Using backend LokyBackend with 4 concurrent workers.\n",
      "[Parallel(n_jobs=-1)]: Done  42 tasks      | elapsed:  1.1min\n",
      "[Parallel(n_jobs=-1)]: Done 192 tasks      | elapsed:  4.3min\n",
      "[Parallel(n_jobs=-1)]: Done 400 out of 400 | elapsed:  8.5min finished\n"
     ]
    },
    {
     "name": "stdout",
     "output_type": "stream",
     "text": [
      "Best score: 0.432\n",
      "Best parameters set:\n",
      "\tnb__alpha: 0.1\n",
      "\tvect__min_df: 2\n",
      "\tvect__ngram_range: (1, 2)\n"
     ]
    }
   ],
   "source": [
    "print(\"Performing grid search...\")\n",
    "print(\"pipeline:\", [name for name, _ in pipeline.steps])\n",
    "print(\"parameters:\")\n",
    "print(parameters)\n",
    "grid_search.fit(X_train_no_feat, y_train)\n",
    "print(\"Best score: %0.3f\" % grid_search.best_score_)\n",
    "print(\"Best parameters set:\")\n",
    "best_parameters = grid_search.best_estimator_.get_params()\n",
    "for param_name in sorted(parameters.keys()):\n",
    "    print(\"\\t%s: %r\" % (param_name, best_parameters[param_name]))"
   ]
  },
  {
   "cell_type": "markdown",
   "metadata": {},
   "source": [
    "## Creating a BOW model with the best parameters "
   ]
  },
  {
   "cell_type": "code",
   "execution_count": 45,
   "metadata": {},
   "outputs": [
    {
     "data": {
      "text/plain": [
       "array([[0, 0, 0, ..., 0, 0, 0],\n",
       "       [0, 0, 0, ..., 0, 0, 0],\n",
       "       [0, 0, 0, ..., 0, 0, 0],\n",
       "       ...,\n",
       "       [0, 0, 0, ..., 0, 0, 0],\n",
       "       [0, 0, 0, ..., 0, 0, 0],\n",
       "       [0, 0, 0, ..., 0, 0, 0]])"
      ]
     },
     "execution_count": 45,
     "metadata": {},
     "output_type": "execute_result"
    }
   ],
   "source": [
    "vectorizer = CountVectorizer(ngram_range=(1, 2), min_df=2)\n",
    "Xtrain_dtm = vectorizer.fit_transform(X_train_no_feat)\n",
    "Xtrain_dtm_dense = Xtrain_dtm.toarray() \n",
    "Xtrain_dtm_dense"
   ]
  },
  {
   "cell_type": "code",
   "execution_count": 46,
   "metadata": {},
   "outputs": [
    {
     "data": {
      "text/plain": [
       "<30000x99756 sparse matrix of type '<class 'numpy.int64'>'\n",
       "\twith 675443 stored elements in Compressed Sparse Row format>"
      ]
     },
     "execution_count": 46,
     "metadata": {},
     "output_type": "execute_result"
    }
   ],
   "source": [
    "# transform testing data (using fitted vocabulary) into a document-term matrix\n",
    "X_test_dtm = vectorizer.transform(X_test_no_feat)\n",
    "X_test_dtm"
   ]
  },
  {
   "cell_type": "markdown",
   "metadata": {},
   "source": [
    "## Using Multinomial Naive Bayes with the best parameters"
   ]
  },
  {
   "cell_type": "code",
   "execution_count": 47,
   "metadata": {},
   "outputs": [],
   "source": [
    "best_nb = MultinomialNB(alpha = 0.1)"
   ]
  },
  {
   "cell_type": "code",
   "execution_count": 48,
   "metadata": {},
   "outputs": [
    {
     "data": {
      "text/plain": [
       "MultinomialNB(alpha=0.1, class_prior=None, fit_prior=True)"
      ]
     },
     "execution_count": 48,
     "metadata": {},
     "output_type": "execute_result"
    }
   ],
   "source": [
    "# train the model using X_train_dtm\n",
    "best_nb.fit(Xtrain_dtm, y_train)"
   ]
  },
  {
   "cell_type": "code",
   "execution_count": 49,
   "metadata": {},
   "outputs": [],
   "source": [
    "# make class predictions for X_test_dtm\n",
    "y_pred_class = best_nb.predict(X_test_dtm)"
   ]
  },
  {
   "cell_type": "code",
   "execution_count": 50,
   "metadata": {},
   "outputs": [
    {
     "name": "stdout",
     "output_type": "stream",
     "text": [
      "Confusion Matrix: \n",
      " [[23539  1528]\n",
      " [ 2018  2915]]\n"
     ]
    }
   ],
   "source": [
    "# calculate performance metrics\n",
    "from sklearn import metrics\n",
    "print(f'Confusion Matrix: \\n {metrics.confusion_matrix(y_test, y_pred_class)}')"
   ]
  },
  {
   "cell_type": "code",
   "execution_count": 51,
   "metadata": {},
   "outputs": [
    {
     "name": "stdout",
     "output_type": "stream",
     "text": [
      "Classification Report: \n",
      "\n",
      "               precision    recall  f1-score   support\n",
      "\n",
      "           0       0.92      0.94      0.93     25067\n",
      "           1       0.66      0.59      0.62      4933\n",
      "\n",
      "    accuracy                           0.88     30000\n",
      "   macro avg       0.79      0.76      0.78     30000\n",
      "weighted avg       0.88      0.88      0.88     30000\n",
      "\n"
     ]
    }
   ],
   "source": [
    "print(f'Classification Report: \\n\\n {metrics.classification_report(y_test, y_pred_class)}')"
   ]
  },
  {
   "cell_type": "markdown",
   "metadata": {},
   "source": [
    "Low recall, high precision -> classifier is very picky and misses a lot of actual summary sentences."
   ]
  },
  {
   "cell_type": "code",
   "execution_count": 52,
   "metadata": {},
   "outputs": [
    {
     "name": "stdout",
     "output_type": "stream",
     "text": [
      "Accuracy: 0.8818\n"
     ]
    }
   ],
   "source": [
    "print(f'Accuracy: {metrics.accuracy_score(y_test, y_pred_class)}')"
   ]
  },
  {
   "cell_type": "markdown",
   "metadata": {},
   "source": [
    "Our model performs slightly better than the null accuracy, we will need to do some parameter tuning and add some features in order to improve it."
   ]
  },
  {
   "cell_type": "code",
   "execution_count": 53,
   "metadata": {},
   "outputs": [
    {
     "data": {
      "text/html": [
       "<div>\n",
       "<style scoped>\n",
       "    .dataframe tbody tr th:only-of-type {\n",
       "        vertical-align: middle;\n",
       "    }\n",
       "\n",
       "    .dataframe tbody tr th {\n",
       "        vertical-align: top;\n",
       "    }\n",
       "\n",
       "    .dataframe thead th {\n",
       "        text-align: right;\n",
       "    }\n",
       "</style>\n",
       "<table border=\"1\" class=\"dataframe\">\n",
       "  <thead>\n",
       "    <tr style=\"text-align: right;\">\n",
       "      <th></th>\n",
       "      <th>text_id</th>\n",
       "      <th>sentence</th>\n",
       "      <th>sentence_len</th>\n",
       "      <th>tfidf_score</th>\n",
       "      <th>title_similarity</th>\n",
       "    </tr>\n",
       "  </thead>\n",
       "  <tbody>\n",
       "    <tr>\n",
       "      <th>92991</th>\n",
       "      <td>45396</td>\n",
       "      <td>You can use a denture cleaner, brush it with a...</td>\n",
       "      <td>24</td>\n",
       "      <td>2.531362</td>\n",
       "      <td>0.734440</td>\n",
       "    </tr>\n",
       "    <tr>\n",
       "      <th>16638</th>\n",
       "      <td>144155</td>\n",
       "      <td>Talk with your doctor to determine if medicati...</td>\n",
       "      <td>15</td>\n",
       "      <td>3.710942</td>\n",
       "      <td>0.813787</td>\n",
       "    </tr>\n",
       "    <tr>\n",
       "      <th>94892</th>\n",
       "      <td>5010</td>\n",
       "      <td>Before using Bactroban nasal, make sure that y...</td>\n",
       "      <td>18</td>\n",
       "      <td>3.689405</td>\n",
       "      <td>0.837647</td>\n",
       "    </tr>\n",
       "    <tr>\n",
       "      <th>84936</th>\n",
       "      <td>172381</td>\n",
       "      <td>To avoid any possible spoiling of the ingredie...</td>\n",
       "      <td>13</td>\n",
       "      <td>1.364994</td>\n",
       "      <td>0.703091</td>\n",
       "    </tr>\n",
       "    <tr>\n",
       "      <th>84463</th>\n",
       "      <td>206984</td>\n",
       "      <td>Look for odor neutralizers in the active ingre...</td>\n",
       "      <td>12</td>\n",
       "      <td>4.720933</td>\n",
       "      <td>0.777347</td>\n",
       "    </tr>\n",
       "  </tbody>\n",
       "</table>\n",
       "</div>"
      ],
      "text/plain": [
       "       text_id                                           sentence  \\\n",
       "92991    45396  You can use a denture cleaner, brush it with a...   \n",
       "16638   144155  Talk with your doctor to determine if medicati...   \n",
       "94892     5010  Before using Bactroban nasal, make sure that y...   \n",
       "84936   172381  To avoid any possible spoiling of the ingredie...   \n",
       "84463   206984  Look for odor neutralizers in the active ingre...   \n",
       "\n",
       "       sentence_len  tfidf_score  title_similarity  \n",
       "92991            24     2.531362          0.734440  \n",
       "16638            15     3.710942          0.813787  \n",
       "94892            18     3.689405          0.837647  \n",
       "84936            13     1.364994          0.703091  \n",
       "84463            12     4.720933          0.777347  "
      ]
     },
     "execution_count": 53,
     "metadata": {},
     "output_type": "execute_result"
    }
   ],
   "source": [
    "# false positive summaries (non summaries incorrectly classified as summaries)\n",
    "X_test[y_pred_class > y_test].head()"
   ]
  },
  {
   "cell_type": "code",
   "execution_count": 54,
   "metadata": {},
   "outputs": [
    {
     "data": {
      "text/html": [
       "<div>\n",
       "<style scoped>\n",
       "    .dataframe tbody tr th:only-of-type {\n",
       "        vertical-align: middle;\n",
       "    }\n",
       "\n",
       "    .dataframe tbody tr th {\n",
       "        vertical-align: top;\n",
       "    }\n",
       "\n",
       "    .dataframe thead th {\n",
       "        text-align: right;\n",
       "    }\n",
       "</style>\n",
       "<table border=\"1\" class=\"dataframe\">\n",
       "  <thead>\n",
       "    <tr style=\"text-align: right;\">\n",
       "      <th></th>\n",
       "      <th>text_id</th>\n",
       "      <th>sentence</th>\n",
       "      <th>sentence_len</th>\n",
       "      <th>tfidf_score</th>\n",
       "      <th>title_similarity</th>\n",
       "    </tr>\n",
       "  </thead>\n",
       "  <tbody>\n",
       "    <tr>\n",
       "      <th>76699</th>\n",
       "      <td>185854</td>\n",
       "      <td>Don t pick at peeling lips</td>\n",
       "      <td>6</td>\n",
       "      <td>2.433804</td>\n",
       "      <td>0.768558</td>\n",
       "    </tr>\n",
       "    <tr>\n",
       "      <th>27701</th>\n",
       "      <td>190556</td>\n",
       "      <td>Encourage physical activity</td>\n",
       "      <td>3</td>\n",
       "      <td>2.887682</td>\n",
       "      <td>0.654665</td>\n",
       "    </tr>\n",
       "    <tr>\n",
       "      <th>45080</th>\n",
       "      <td>149780</td>\n",
       "      <td>Protect certain surfaces in case your waters b...</td>\n",
       "      <td>8</td>\n",
       "      <td>1.729480</td>\n",
       "      <td>0.785424</td>\n",
       "    </tr>\n",
       "    <tr>\n",
       "      <th>88636</th>\n",
       "      <td>33916</td>\n",
       "      <td>Look for one that freshens breath</td>\n",
       "      <td>6</td>\n",
       "      <td>2.796623</td>\n",
       "      <td>0.735709</td>\n",
       "    </tr>\n",
       "    <tr>\n",
       "      <th>66598</th>\n",
       "      <td>182146</td>\n",
       "      <td>Begin treatment</td>\n",
       "      <td>2</td>\n",
       "      <td>4.136054</td>\n",
       "      <td>0.666312</td>\n",
       "    </tr>\n",
       "  </tbody>\n",
       "</table>\n",
       "</div>"
      ],
      "text/plain": [
       "       text_id                                           sentence  \\\n",
       "76699   185854                         Don t pick at peeling lips   \n",
       "27701   190556                        Encourage physical activity   \n",
       "45080   149780  Protect certain surfaces in case your waters b...   \n",
       "88636    33916                  Look for one that freshens breath   \n",
       "66598   182146                                    Begin treatment   \n",
       "\n",
       "       sentence_len  tfidf_score  title_similarity  \n",
       "76699             6     2.433804          0.768558  \n",
       "27701             3     2.887682          0.654665  \n",
       "45080             8     1.729480          0.785424  \n",
       "88636             6     2.796623          0.735709  \n",
       "66598             2     4.136054          0.666312  "
      ]
     },
     "execution_count": 54,
     "metadata": {},
     "output_type": "execute_result"
    }
   ],
   "source": [
    "# false negative summaries (summaries incorrectly classified as non summaries)\n",
    "X_test[y_pred_class < y_test].head()"
   ]
  },
  {
   "cell_type": "code",
   "execution_count": 55,
   "metadata": {},
   "outputs": [
    {
     "data": {
      "text/plain": [
       "array([[9.99502974e-01, 4.97025550e-04],\n",
       "       [9.99997408e-01, 2.59194962e-06],\n",
       "       [1.00000000e+00, 1.60440966e-12],\n",
       "       ...,\n",
       "       [9.48318701e-01, 5.16812986e-02],\n",
       "       [9.99536954e-01, 4.63046376e-04],\n",
       "       [9.99994224e-01, 5.77593214e-06]])"
      ]
     },
     "execution_count": 55,
     "metadata": {},
     "output_type": "execute_result"
    }
   ],
   "source": [
    "# Left: proba the class is 0, Right: proba the class is 1 \n",
    "best_nb.predict_proba(X_test_dtm)"
   ]
  },
  {
   "cell_type": "code",
   "execution_count": 56,
   "metadata": {},
   "outputs": [
    {
     "data": {
      "text/plain": [
       "0.9200675576845097"
      ]
     },
     "execution_count": 56,
     "metadata": {},
     "output_type": "execute_result"
    }
   ],
   "source": [
    "y_pred_prob = best_nb.predict_proba(X_test_dtm)[:, 1]\n",
    "metrics.roc_auc_score(y_test, y_pred_prob)"
   ]
  },
  {
   "cell_type": "markdown",
   "metadata": {},
   "source": [
    "### Which words are more prone to be in a summary ?"
   ]
  },
  {
   "cell_type": "code",
   "execution_count": 57,
   "metadata": {},
   "outputs": [
    {
     "data": {
      "text/plain": [
       "99756"
      ]
     },
     "execution_count": 57,
     "metadata": {},
     "output_type": "execute_result"
    }
   ],
   "source": [
    "# store the vocabulary of X_train\n",
    "X_train_tokens = vectorizer.get_feature_names()\n",
    "len(X_train_tokens)"
   ]
  },
  {
   "cell_type": "code",
   "execution_count": 58,
   "metadata": {},
   "outputs": [
    {
     "data": {
      "text/plain": [
       "array([[4., 4., 3., ..., 7., 1., 2.],\n",
       "       [1., 0., 0., ..., 1., 1., 0.]])"
      ]
     },
     "execution_count": 58,
     "metadata": {},
     "output_type": "execute_result"
    }
   ],
   "source": [
    "# Naive Bayes counts the number of times each token appears in each class\n",
    "best_nb.feature_count_"
   ]
  },
  {
   "cell_type": "code",
   "execution_count": 59,
   "metadata": {},
   "outputs": [
    {
     "data": {
      "text/plain": [
       "(2, 99756)"
      ]
     },
     "execution_count": 59,
     "metadata": {},
     "output_type": "execute_result"
    }
   ],
   "source": [
    "# rows represent classes, columns represent tokens\n",
    "best_nb.feature_count_.shape"
   ]
  },
  {
   "cell_type": "code",
   "execution_count": 60,
   "metadata": {},
   "outputs": [
    {
     "data": {
      "text/plain": [
       "array([4., 4., 3., ..., 7., 1., 2.])"
      ]
     },
     "execution_count": 60,
     "metadata": {},
     "output_type": "execute_result"
    }
   ],
   "source": [
    "# number of times each token appears across all summary sentences\n",
    "non_summary_token_count = best_nb.feature_count_[0, :]\n",
    "non_summary_token_count"
   ]
  },
  {
   "cell_type": "code",
   "execution_count": 61,
   "metadata": {},
   "outputs": [
    {
     "data": {
      "text/plain": [
       "array([1., 0., 0., ..., 1., 1., 0.])"
      ]
     },
     "execution_count": 61,
     "metadata": {},
     "output_type": "execute_result"
    }
   ],
   "source": [
    "# number of times each token appears across all non-summary sentences\n",
    "summary_token_count = best_nb.feature_count_[1, :]\n",
    "summary_token_count"
   ]
  },
  {
   "cell_type": "code",
   "execution_count": 62,
   "metadata": {},
   "outputs": [
    {
     "data": {
      "text/html": [
       "<div>\n",
       "<style scoped>\n",
       "    .dataframe tbody tr th:only-of-type {\n",
       "        vertical-align: middle;\n",
       "    }\n",
       "\n",
       "    .dataframe tbody tr th {\n",
       "        vertical-align: top;\n",
       "    }\n",
       "\n",
       "    .dataframe thead th {\n",
       "        text-align: right;\n",
       "    }\n",
       "</style>\n",
       "<table border=\"1\" class=\"dataframe\">\n",
       "  <thead>\n",
       "    <tr style=\"text-align: right;\">\n",
       "      <th></th>\n",
       "      <th>summary</th>\n",
       "      <th>non_summary</th>\n",
       "    </tr>\n",
       "    <tr>\n",
       "      <th>token</th>\n",
       "      <th></th>\n",
       "      <th></th>\n",
       "    </tr>\n",
       "  </thead>\n",
       "  <tbody>\n",
       "    <tr>\n",
       "      <th>ab</th>\n",
       "      <td>1.0</td>\n",
       "      <td>4.0</td>\n",
       "    </tr>\n",
       "    <tr>\n",
       "      <th>abate</th>\n",
       "      <td>0.0</td>\n",
       "      <td>4.0</td>\n",
       "    </tr>\n",
       "    <tr>\n",
       "      <th>abatement</th>\n",
       "      <td>0.0</td>\n",
       "      <td>3.0</td>\n",
       "    </tr>\n",
       "    <tr>\n",
       "      <th>abc</th>\n",
       "      <td>0.0</td>\n",
       "      <td>3.0</td>\n",
       "    </tr>\n",
       "    <tr>\n",
       "      <th>abdomen</th>\n",
       "      <td>14.0</td>\n",
       "      <td>135.0</td>\n",
       "    </tr>\n",
       "  </tbody>\n",
       "</table>\n",
       "</div>"
      ],
      "text/plain": [
       "           summary  non_summary\n",
       "token                          \n",
       "ab             1.0          4.0\n",
       "abate          0.0          4.0\n",
       "abatement      0.0          3.0\n",
       "abc            0.0          3.0\n",
       "abdomen       14.0        135.0"
      ]
     },
     "execution_count": 62,
     "metadata": {},
     "output_type": "execute_result"
    }
   ],
   "source": [
    "# create a DataFrame of tokens with their separate ham and spam counts\n",
    "tokens = pd.DataFrame({'token':X_train_tokens, 'summary':summary_token_count, 'non_summary':non_summary_token_count}).set_index('token')\n",
    "tokens.head()"
   ]
  },
  {
   "cell_type": "code",
   "execution_count": 63,
   "metadata": {},
   "outputs": [
    {
     "data": {
      "text/html": [
       "<div>\n",
       "<style scoped>\n",
       "    .dataframe tbody tr th:only-of-type {\n",
       "        vertical-align: middle;\n",
       "    }\n",
       "\n",
       "    .dataframe tbody tr th {\n",
       "        vertical-align: top;\n",
       "    }\n",
       "\n",
       "    .dataframe thead th {\n",
       "        text-align: right;\n",
       "    }\n",
       "</style>\n",
       "<table border=\"1\" class=\"dataframe\">\n",
       "  <thead>\n",
       "    <tr style=\"text-align: right;\">\n",
       "      <th></th>\n",
       "      <th>summary</th>\n",
       "      <th>non_summary</th>\n",
       "    </tr>\n",
       "    <tr>\n",
       "      <th>token</th>\n",
       "      <th></th>\n",
       "      <th></th>\n",
       "    </tr>\n",
       "  </thead>\n",
       "  <tbody>\n",
       "    <tr>\n",
       "      <th>natural emulsifier</th>\n",
       "      <td>0.0</td>\n",
       "      <td>5.0</td>\n",
       "    </tr>\n",
       "    <tr>\n",
       "      <th>bumped</th>\n",
       "      <td>0.0</td>\n",
       "      <td>2.0</td>\n",
       "    </tr>\n",
       "    <tr>\n",
       "      <th>priorities</th>\n",
       "      <td>0.0</td>\n",
       "      <td>3.0</td>\n",
       "    </tr>\n",
       "    <tr>\n",
       "      <th>surfaces of</th>\n",
       "      <td>3.0</td>\n",
       "      <td>22.0</td>\n",
       "    </tr>\n",
       "    <tr>\n",
       "      <th>fibrous bristles</th>\n",
       "      <td>0.0</td>\n",
       "      <td>2.0</td>\n",
       "    </tr>\n",
       "  </tbody>\n",
       "</table>\n",
       "</div>"
      ],
      "text/plain": [
       "                    summary  non_summary\n",
       "token                                   \n",
       "natural emulsifier      0.0          5.0\n",
       "bumped                  0.0          2.0\n",
       "priorities              0.0          3.0\n",
       "surfaces of             3.0         22.0\n",
       "fibrous bristles        0.0          2.0"
      ]
     },
     "execution_count": 63,
     "metadata": {},
     "output_type": "execute_result"
    }
   ],
   "source": [
    "# examine 5 random DataFrame rows\n",
    "tokens.sample(5, random_state=42)"
   ]
  },
  {
   "cell_type": "code",
   "execution_count": 64,
   "metadata": {},
   "outputs": [
    {
     "data": {
      "text/plain": [
       "array([58350., 11650.])"
      ]
     },
     "execution_count": 64,
     "metadata": {},
     "output_type": "execute_result"
    }
   ],
   "source": [
    "# Naive Bayes counts the number of observations in each class\n",
    "best_nb.class_count_"
   ]
  },
  {
   "cell_type": "markdown",
   "metadata": {},
   "source": [
    "## Random Forest Classifier"
   ]
  },
  {
   "cell_type": "code",
   "execution_count": 65,
   "metadata": {},
   "outputs": [],
   "source": [
    "from sklearn.ensemble import RandomForestClassifier\n",
    "#Performing Cross Validation for the best combination of parameters\n",
    "# Define a pipeline combining a text feature extractor with a simple classifier\n",
    "# Maximum number of levels in tree\n",
    "max_depth = [80, 90, 100, 110]\n",
    "max_depth.append(None)\n",
    "# Minimum number of samples required to split a node\n",
    "min_samples_split = [8, 10, 12]\n",
    "# Minimum number of samples required at each leaf node\n",
    "min_samples_leaf = [1, 2, 4]\n",
    "# Method of selecting samples for training each tree\n",
    "bootstrap = [True, False]\n",
    "\n",
    "rfc = RandomForestClassifier(random_state=42,n_jobs=-1, class_weight='balanced')\n",
    "param_grid = {\n",
    "    'n_estimators': [100, 200, 500],\n",
    "    'max_depth':[4,5,6,7,8]\n",
    "}"
   ]
  },
  {
   "cell_type": "code",
   "execution_count": 66,
   "metadata": {},
   "outputs": [
    {
     "data": {
      "text/plain": [
       "GridSearchCV(cv=5, error_score=nan,\n",
       "             estimator=RandomForestClassifier(bootstrap=True, ccp_alpha=0.0,\n",
       "                                              class_weight='balanced',\n",
       "                                              criterion='gini', max_depth=None,\n",
       "                                              max_features='auto',\n",
       "                                              max_leaf_nodes=None,\n",
       "                                              max_samples=None,\n",
       "                                              min_impurity_decrease=0.0,\n",
       "                                              min_impurity_split=None,\n",
       "                                              min_samples_leaf=1,\n",
       "                                              min_samples_split=2,\n",
       "                                              min_weight_fraction_leaf=0.0,\n",
       "                                              n_estimators=100, n_jobs=-1,\n",
       "                                              oob_score=False, random_state=42,\n",
       "                                              verbose=0, warm_start=False),\n",
       "             iid='deprecated', n_jobs=None,\n",
       "             param_grid={'max_depth': [4, 5, 6, 7, 8],\n",
       "                         'n_estimators': [100, 200, 500]},\n",
       "             pre_dispatch='2*n_jobs', refit=True, return_train_score=False,\n",
       "             scoring='f1', verbose=0)"
      ]
     },
     "execution_count": 66,
     "metadata": {},
     "output_type": "execute_result"
    }
   ],
   "source": [
    "# Find the best parameters for both the feature extraction and the classifier\n",
    "CV_rfc = GridSearchCV(estimator=rfc, param_grid=param_grid, cv=5, scoring = 'f1')\n",
    "CV_rfc.fit(Xtrain_dtm, y_train)"
   ]
  },
  {
   "cell_type": "code",
   "execution_count": 67,
   "metadata": {},
   "outputs": [
    {
     "data": {
      "text/plain": [
       "{'max_depth': 8, 'n_estimators': 500}"
      ]
     },
     "execution_count": 67,
     "metadata": {},
     "output_type": "execute_result"
    }
   ],
   "source": [
    "CV_rfc.best_params_"
   ]
  },
  {
   "cell_type": "code",
   "execution_count": 68,
   "metadata": {},
   "outputs": [
    {
     "data": {
      "text/plain": [
       "array([1, 0, 0, ..., 1, 1, 1])"
      ]
     },
     "execution_count": 68,
     "metadata": {},
     "output_type": "execute_result"
    }
   ],
   "source": [
    "y_pred_class_rf = CV_rfc.predict(X_test_dtm)\n",
    "y_pred_class_rf"
   ]
  },
  {
   "cell_type": "code",
   "execution_count": 69,
   "metadata": {},
   "outputs": [
    {
     "name": "stdout",
     "output_type": "stream",
     "text": [
      "Confusion Matrix: \n",
      " [[19085  5982]\n",
      " [  446  4487]]\n"
     ]
    }
   ],
   "source": [
    "print(f'Confusion Matrix: \\n {metrics.confusion_matrix(y_test, y_pred_class_rf)}')"
   ]
  },
  {
   "cell_type": "code",
   "execution_count": 70,
   "metadata": {},
   "outputs": [
    {
     "name": "stdout",
     "output_type": "stream",
     "text": [
      "Classification Report: \n",
      "\n",
      "               precision    recall  f1-score   support\n",
      "\n",
      "           0       0.98      0.76      0.86     25067\n",
      "           1       0.43      0.91      0.58      4933\n",
      "\n",
      "    accuracy                           0.79     30000\n",
      "   macro avg       0.70      0.84      0.72     30000\n",
      "weighted avg       0.89      0.79      0.81     30000\n",
      "\n"
     ]
    }
   ],
   "source": [
    "print(f'Classification Report: \\n\\n {metrics.classification_report(y_test, y_pred_class_rf)}')"
   ]
  },
  {
   "cell_type": "code",
   "execution_count": 71,
   "metadata": {},
   "outputs": [
    {
     "data": {
      "text/plain": [
       "0.7857333333333333"
      ]
     },
     "execution_count": 71,
     "metadata": {},
     "output_type": "execute_result"
    }
   ],
   "source": [
    "# calculate accuracy\n",
    "metrics.accuracy_score(y_test, y_pred_class_rf)"
   ]
  },
  {
   "cell_type": "markdown",
   "metadata": {},
   "source": [
    "The Naive Bayes Classifier seems to to an overall better job than Random Forest"
   ]
  },
  {
   "cell_type": "markdown",
   "metadata": {},
   "source": [
    "## Using TF IDF"
   ]
  },
  {
   "cell_type": "code",
   "execution_count": 72,
   "metadata": {},
   "outputs": [],
   "source": [
    "#Divide X_train by groups of summary sentences and non summary sentences\n",
    "X_train.head()\n",
    "X_y_train_df= pd.DataFrame(data=X_train_no_feat, columns= ['sentence'])\n",
    "X_y_train_df['summary_id'] = y_train\n",
    "X_train_sum = X_y_train_df[X_y_train_df['summary_id']==1]['sentence']\n",
    "X_train_no_sum = X_y_train_df[X_y_train_df['summary_id']==0]['sentence']"
   ]
  },
  {
   "cell_type": "code",
   "execution_count": 73,
   "metadata": {},
   "outputs": [],
   "source": [
    "#Performing Cross Validation for the best combination of parameters\n",
    "from sklearn.feature_extraction.text import TfidfVectorizer\n",
    "# Define a pipeline combining a text feature extractor with a simple classifier\n",
    "pipeline = Pipeline([\n",
    "    ('tfidf', TfidfVectorizer(stop_words='english')),\n",
    "    ('tfidf_nb', MultinomialNB()),\n",
    "])\n",
    "\n",
    "\n",
    "parameters = {\n",
    "    'tfidf__min_df': (2, 5, 10, 15, 20, 30, 40, 50),\n",
    "    'tfidf__ngram_range': ((1, 1), (1, 2)),  # unigrams or bigrams\n",
    "    'tfidf__use_idf': (True, False),\n",
    "    'tfidf_nb__alpha': (0.1, 1, 5, 10, 50),\n",
    "}"
   ]
  },
  {
   "cell_type": "code",
   "execution_count": 74,
   "metadata": {},
   "outputs": [],
   "source": [
    "# Find the best parameters for both the feature extraction and the classifier\n",
    "grid_search = GridSearchCV(pipeline, parameters, n_jobs=-1, verbose=1, scoring = 'f1')"
   ]
  },
  {
   "cell_type": "code",
   "execution_count": 75,
   "metadata": {},
   "outputs": [
    {
     "name": "stdout",
     "output_type": "stream",
     "text": [
      "Performing grid search...\n",
      "pipeline: ['tfidf', 'tfidf_nb']\n",
      "parameters:\n",
      "{'tfidf__min_df': (2, 5, 10, 15, 20, 30, 40, 50), 'tfidf__ngram_range': ((1, 1), (1, 2)), 'tfidf__use_idf': (True, False), 'tfidf_nb__alpha': (0.1, 1, 5, 10, 50)}\n",
      "Fitting 5 folds for each of 160 candidates, totalling 800 fits\n"
     ]
    },
    {
     "name": "stderr",
     "output_type": "stream",
     "text": [
      "[Parallel(n_jobs=-1)]: Using backend LokyBackend with 4 concurrent workers.\n",
      "[Parallel(n_jobs=-1)]: Done  42 tasks      | elapsed:   31.6s\n",
      "[Parallel(n_jobs=-1)]: Done 192 tasks      | elapsed:  3.6min\n",
      "[Parallel(n_jobs=-1)]: Done 442 tasks      | elapsed:  7.8min\n",
      "[Parallel(n_jobs=-1)]: Done 792 tasks      | elapsed: 15.2min\n",
      "[Parallel(n_jobs=-1)]: Done 800 out of 800 | elapsed: 15.4min finished\n"
     ]
    },
    {
     "name": "stdout",
     "output_type": "stream",
     "text": [
      "Best score: 0.297\n",
      "Best parameters set:\n",
      "\ttfidf__min_df: 2\n",
      "\ttfidf__ngram_range: (1, 2)\n",
      "\ttfidf__use_idf: True\n",
      "\ttfidf_nb__alpha: 0.1\n"
     ]
    }
   ],
   "source": [
    "print(\"Performing grid search...\")\n",
    "print(\"pipeline:\", [name for name, _ in pipeline.steps])\n",
    "print(\"parameters:\")\n",
    "print(parameters)\n",
    "grid_search.fit(X_train_no_feat, y_train)\n",
    "print(\"Best score: %0.3f\" % grid_search.best_score_)\n",
    "print(\"Best parameters set:\")\n",
    "best_parameters = grid_search.best_estimator_.get_params()\n",
    "for param_name in sorted(parameters.keys()):\n",
    "    print(\"\\t%s: %r\" % (param_name, best_parameters[param_name]))"
   ]
  },
  {
   "cell_type": "code",
   "execution_count": 76,
   "metadata": {},
   "outputs": [
    {
     "data": {
      "text/plain": [
       "array([[0., 0., 0., ..., 0., 0., 0.],\n",
       "       [0., 0., 0., ..., 0., 0., 0.],\n",
       "       [0., 0., 0., ..., 0., 0., 0.],\n",
       "       ...,\n",
       "       [0., 0., 0., ..., 0., 0., 0.],\n",
       "       [0., 0., 0., ..., 0., 0., 0.],\n",
       "       [0., 0., 0., ..., 0., 0., 0.]])"
      ]
     },
     "execution_count": 76,
     "metadata": {},
     "output_type": "execute_result"
    }
   ],
   "source": [
    "#Representing text as tfidf score of different unigrams and bigrams \n",
    "from sklearn.feature_extraction.text import TfidfVectorizer \n",
    "tfidf=TfidfVectorizer(min_df =2, ngram_range=(1,2), use_idf = True)\n",
    "\n",
    "#Fitting the vectorizer to summary and non summary sentences separately\n",
    "tfidf.fit(X_train_no_sum, X_train_sum)\n",
    "tf_idf_vectors = tfidf.transform(X_train_no_feat)\n",
    "\n",
    "#Converting the sparse matrix into a dense matrix\n",
    "tf_idf_vectors.toarray()"
   ]
  },
  {
   "cell_type": "code",
   "execution_count": 77,
   "metadata": {},
   "outputs": [],
   "source": [
    "X_test_tfidf = tfidf.transform(X_test_no_feat)"
   ]
  },
  {
   "cell_type": "markdown",
   "metadata": {},
   "source": [
    "## Use MultinomialNB with tf-idf \n",
    "\n",
    "Should we be using Naive Bayes with tf-idf ? naive bayes works better with integers..."
   ]
  },
  {
   "cell_type": "code",
   "execution_count": 78,
   "metadata": {},
   "outputs": [],
   "source": [
    "nb_tfidf = MultinomialNB(alpha = 0.1)"
   ]
  },
  {
   "cell_type": "code",
   "execution_count": 79,
   "metadata": {},
   "outputs": [
    {
     "data": {
      "text/plain": [
       "MultinomialNB(alpha=0.1, class_prior=None, fit_prior=True)"
      ]
     },
     "execution_count": 79,
     "metadata": {},
     "output_type": "execute_result"
    }
   ],
   "source": [
    "nb_tfidf.fit(tf_idf_vectors, y_train)"
   ]
  },
  {
   "cell_type": "code",
   "execution_count": 80,
   "metadata": {},
   "outputs": [],
   "source": [
    "nb_tfidf_pred = nb_tfidf.predict(X_test_tfidf)"
   ]
  },
  {
   "cell_type": "code",
   "execution_count": 81,
   "metadata": {},
   "outputs": [
    {
     "data": {
      "text/plain": [
       "0.8787666666666667"
      ]
     },
     "execution_count": 81,
     "metadata": {},
     "output_type": "execute_result"
    }
   ],
   "source": [
    "#Accuracy\n",
    "metrics.accuracy_score(y_test, nb_tfidf_pred)"
   ]
  },
  {
   "cell_type": "code",
   "execution_count": 82,
   "metadata": {},
   "outputs": [
    {
     "name": "stdout",
     "output_type": "stream",
     "text": [
      "Confusion Matrix: \n",
      " [[24716   351]\n",
      " [ 3286  1647]]\n"
     ]
    }
   ],
   "source": [
    "print(f'Confusion Matrix: \\n {metrics.confusion_matrix(y_test, nb_tfidf_pred)}')"
   ]
  },
  {
   "cell_type": "code",
   "execution_count": 83,
   "metadata": {},
   "outputs": [
    {
     "name": "stdout",
     "output_type": "stream",
     "text": [
      "Classification Report: \n",
      "\n",
      "               precision    recall  f1-score   support\n",
      "\n",
      "           0       0.88      0.99      0.93     25067\n",
      "           1       0.82      0.33      0.48      4933\n",
      "\n",
      "    accuracy                           0.88     30000\n",
      "   macro avg       0.85      0.66      0.70     30000\n",
      "weighted avg       0.87      0.88      0.86     30000\n",
      "\n"
     ]
    }
   ],
   "source": [
    "print(f'Classification Report: \\n\\n {metrics.classification_report(y_test, nb_tfidf_pred)}')"
   ]
  },
  {
   "cell_type": "code",
   "execution_count": 84,
   "metadata": {},
   "outputs": [
    {
     "data": {
      "image/png": "[encoded data removed]",
      "text/plain": [
       "<Figure size 1440x720 with 1 Axes>"
      ]
     },
     "metadata": {
      "needs_background": "light"
     },
     "output_type": "display_data"
    }
   ],
   "source": [
    "#Plotting recall distribution \n",
    "recalls = calculate_recall_distribution(X_test, nb_tfidf_pred, y_test)\n",
    "ids = [item[0] for item in recalls ]\n",
    "recalls = [item[1] for item in recalls ]\n",
    "recalls_df = pd.DataFrame(ids , columns=['id'])\n",
    "recalls_df['recalls']= recalls\n",
    "\n",
    "import matplotlib.pyplot as plt\n",
    "plt.figure(figsize=(20,10))\n",
    "\n",
    "plt.hist(recalls_df['recalls'])\n",
    "plt.show()"
   ]
  },
  {
   "cell_type": "markdown",
   "metadata": {},
   "source": [
    "## Using Tf-idf with Random Forest"
   ]
  },
  {
   "cell_type": "code",
   "execution_count": 85,
   "metadata": {},
   "outputs": [],
   "source": [
    "#Performing Cross Validation for the best combination of parameters\n",
    "\n",
    "tfidf_rfc = RandomForestClassifier(random_state=42,n_jobs=-1, class_weight = 'balanced')\n",
    "param_grid = {\n",
    "    \n",
    "    'n_estimators': [200, 500],\n",
    "    'max_depth':[4,5,6,7,8]\n",
    "}"
   ]
  },
  {
   "cell_type": "code",
   "execution_count": 86,
   "metadata": {},
   "outputs": [
    {
     "data": {
      "text/plain": [
       "GridSearchCV(cv=5, error_score=nan,\n",
       "             estimator=RandomForestClassifier(bootstrap=True, ccp_alpha=0.0,\n",
       "                                              class_weight='balanced',\n",
       "                                              criterion='gini', max_depth=None,\n",
       "                                              max_features='auto',\n",
       "                                              max_leaf_nodes=None,\n",
       "                                              max_samples=None,\n",
       "                                              min_impurity_decrease=0.0,\n",
       "                                              min_impurity_split=None,\n",
       "                                              min_samples_leaf=1,\n",
       "                                              min_samples_split=2,\n",
       "                                              min_weight_fraction_leaf=0.0,\n",
       "                                              n_estimators=100, n_jobs=-1,\n",
       "                                              oob_score=False, random_state=42,\n",
       "                                              verbose=0, warm_start=False),\n",
       "             iid='deprecated', n_jobs=None,\n",
       "             param_grid={'max_depth': [4, 5, 6, 7, 8],\n",
       "                         'n_estimators': [200, 500]},\n",
       "             pre_dispatch='2*n_jobs', refit=True, return_train_score=False,\n",
       "             scoring='f1', verbose=0)"
      ]
     },
     "execution_count": 86,
     "metadata": {},
     "output_type": "execute_result"
    }
   ],
   "source": [
    "# Find the best parameters for both the feature extraction and the classifier\n",
    "tfidf_CV_rfc = GridSearchCV(estimator=tfidf_rfc, param_grid=param_grid, cv=5, scoring = 'f1')\n",
    "tfidf_CV_rfc.fit(tf_idf_vectors, y_train)"
   ]
  },
  {
   "cell_type": "code",
   "execution_count": 87,
   "metadata": {},
   "outputs": [
    {
     "data": {
      "text/plain": [
       "{'max_depth': 8, 'n_estimators': 500}"
      ]
     },
     "execution_count": 87,
     "metadata": {},
     "output_type": "execute_result"
    }
   ],
   "source": [
    "tfidf_CV_rfc.best_params_"
   ]
  },
  {
   "cell_type": "code",
   "execution_count": 88,
   "metadata": {},
   "outputs": [],
   "source": [
    "# Now use best params for rf\n",
    "rf_tfidf_pred=tfidf_CV_rfc.predict(X_test_tfidf)"
   ]
  },
  {
   "cell_type": "code",
   "execution_count": 89,
   "metadata": {},
   "outputs": [
    {
     "data": {
      "text/plain": [
       "0.8118666666666666"
      ]
     },
     "execution_count": 89,
     "metadata": {},
     "output_type": "execute_result"
    }
   ],
   "source": [
    "#Accuracy\n",
    "metrics.accuracy_score(y_test, rf_tfidf_pred)"
   ]
  },
  {
   "cell_type": "code",
   "execution_count": 90,
   "metadata": {},
   "outputs": [
    {
     "name": "stdout",
     "output_type": "stream",
     "text": [
      "Confusion Matrix: \n",
      " [[19888  5179]\n",
      " [  465  4468]]\n"
     ]
    }
   ],
   "source": [
    "#Confusion matrix \n",
    "print(f'Confusion Matrix: \\n {metrics.confusion_matrix(y_test, rf_tfidf_pred)}')"
   ]
  },
  {
   "cell_type": "code",
   "execution_count": 91,
   "metadata": {},
   "outputs": [
    {
     "name": "stdout",
     "output_type": "stream",
     "text": [
      "Classification Report: \n",
      "\n",
      "               precision    recall  f1-score   support\n",
      "\n",
      "           0       0.98      0.79      0.88     25067\n",
      "           1       0.46      0.91      0.61      4933\n",
      "\n",
      "    accuracy                           0.81     30000\n",
      "   macro avg       0.72      0.85      0.74     30000\n",
      "weighted avg       0.89      0.81      0.83     30000\n",
      "\n"
     ]
    }
   ],
   "source": [
    "#Classification report\n",
    "print(f'Classification Report: \\n\\n {metrics.classification_report(y_test, rf_tfidf_pred)}')"
   ]
  },
  {
   "cell_type": "markdown",
   "metadata": {},
   "source": [
    "## Saving Dataframes to add more features later\n"
   ]
  },
  {
   "cell_type": "code",
   "execution_count": 92,
   "metadata": {},
   "outputs": [
    {
     "data": {
      "text/plain": [
       "scipy.sparse.csr.csr_matrix"
      ]
     },
     "execution_count": 92,
     "metadata": {},
     "output_type": "execute_result"
    }
   ],
   "source": [
    "type(tf_idf_vectors)"
   ]
  },
  {
   "cell_type": "code",
   "execution_count": 93,
   "metadata": {},
   "outputs": [],
   "source": [
    "#Save tfidf sparse matrices  \n",
    "import scipy.sparse\n",
    "scipy.sparse.save_npz('./datasets/train_sparse_matrix.npz', tf_idf_vectors)\n",
    "scipy.sparse.save_npz('./datasets/test_sparse_matrix.npz', X_test_tfidf)"
   ]
  },
  {
   "cell_type": "code",
   "execution_count": 94,
   "metadata": {},
   "outputs": [],
   "source": [
    "#Save feature names \n",
    "import pickle\n",
    "with open(\"tfidf_features.txt\", 'wb') as f:\n",
    "    pickle.dump(tfidf.get_feature_names(), f) "
   ]
  },
  {
   "cell_type": "code",
   "execution_count": 95,
   "metadata": {},
   "outputs": [],
   "source": [
    "#Save training and testing dataframes (without tfidf)\n",
    "X_train.to_csv('./datasets/wikihow_X_train.csv', index=False)\n",
    "X_test.to_csv('./datasets/wikihow_X_test.csv', index=False)"
   ]
  },
  {
   "cell_type": "code",
   "execution_count": 96,
   "metadata": {},
   "outputs": [],
   "source": [
    "#Save labels  \n",
    "y_train.to_csv('./datasets/wikihow_y_train.csv', index=False)\n",
    "y_test.to_csv('./datasets/wikihow_y_test.csv', index=False)"
   ]
  }
 ],
 "metadata": {
  "kernelspec": {
   "display_name": "Python 3",
   "language": "python",
   "name": "python3"
  },
  "language_info": {
   "codemirror_mode": {
    "name": "ipython",
    "version": 3
   },
   "file_extension": ".py",
   "mimetype": "text/x-python",
   "name": "python",
   "nbconvert_exporter": "python",
   "pygments_lexer": "ipython3",
   "version": "3.7.0"
  }
 },
 "nbformat": 4,
 "nbformat_minor": 2
}
