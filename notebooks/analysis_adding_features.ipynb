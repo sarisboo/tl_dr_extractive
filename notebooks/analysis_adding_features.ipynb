{
 "cells": [
  {
   "cell_type": "code",
   "execution_count": 1,
   "metadata": {},
   "outputs": [],
   "source": [
    "import numpy as np\n",
    "import pandas as pd\n",
    "import warnings\n",
    "from sklearn.model_selection import GridSearchCV\n",
    "from sklearn.naive_bayes import MultinomialNB\n",
    "from sklearn import metrics\n",
    "from sklearn.pipeline import Pipeline\n",
    "import pickle\n",
    "import scipy.sparse\n",
    "import os\n",
    "from eval_funcs import *\n",
    "warnings.filterwarnings(\"ignore\")"
   ]
  },
  {
   "cell_type": "markdown",
   "metadata": {},
   "source": [
    "## Loading datasets from `analysis_no_features` notebook"
   ]
  },
  {
   "cell_type": "code",
   "execution_count": 2,
   "metadata": {},
   "outputs": [],
   "source": [
    "# Load sparse matrices\n",
    "tf_idf_vectors = scipy.sparse.load_npz('./datasets/train_sparse_matrix.npz')\n",
    "X_test_tfidf = scipy.sparse.load_npz('./datasets/test_sparse_matrix.npz')"
   ]
  },
  {
   "cell_type": "code",
   "execution_count": 3,
   "metadata": {},
   "outputs": [],
   "source": [
    "# Load tfidf feature names list\n",
    "# if file exists we have already pickled a list\n",
    "if os.path.isfile(\"tfidf_features.txt\"):\n",
    "    with open(\"tfidf_features.txt\", 'rb') as f:\n",
    "        tfidf_feature_names = pickle.load(f)"
   ]
  },
  {
   "cell_type": "code",
   "execution_count": 4,
   "metadata": {},
   "outputs": [],
   "source": [
    "#Load X_train and X_test\n",
    "X_train = pd.read_csv('./datasets/wikihow_X_train.csv') \n",
    "X_test = pd.read_csv('./datasets/wikihow_X_test.csv') "
   ]
  },
  {
   "cell_type": "code",
   "execution_count": 5,
   "metadata": {},
   "outputs": [],
   "source": [
    "#Load y_train and y_test \n",
    "y_train = pd.read_csv('./datasets/wikihow_y_train.csv', header = None) \n",
    "y_test = pd.read_csv('./datasets/wikihow_y_test.csv', header = None) "
   ]
  },
  {
   "cell_type": "markdown",
   "metadata": {},
   "source": [
    "## Reconstructing Dataframes for analysis \n",
    "Let's add some features to see if our model performs better. We start by adding the sentences length feture to see how it performs."
   ]
  },
  {
   "cell_type": "code",
   "execution_count": 6,
   "metadata": {},
   "outputs": [],
   "source": [
    "X_train_ft = X_train[['sentence','sentence_len']]"
   ]
  },
  {
   "cell_type": "code",
   "execution_count": 7,
   "metadata": {},
   "outputs": [],
   "source": [
    "#Reshaping the sentence lengths array \n",
    "sent_lengths = np.array(X_train_ft['sentence_len'].values).reshape(-1, 1)"
   ]
  },
  {
   "cell_type": "code",
   "execution_count": 8,
   "metadata": {},
   "outputs": [
    {
     "data": {
      "text/plain": [
       "array([[14],\n",
       "       [ 9],\n",
       "       [11],\n",
       "       ...,\n",
       "       [ 7],\n",
       "       [ 9],\n",
       "       [14]])"
      ]
     },
     "execution_count": 8,
     "metadata": {},
     "output_type": "execute_result"
    }
   ],
   "source": [
    "sent_lengths"
   ]
  },
  {
   "cell_type": "code",
   "execution_count": 9,
   "metadata": {},
   "outputs": [],
   "source": [
    "#Converting sentence lengths array to sparse matrix\n",
    "sparse_sent_lengths = scipy.sparse.csr_matrix(sent_lengths)"
   ]
  },
  {
   "cell_type": "code",
   "execution_count": 10,
   "metadata": {},
   "outputs": [
    {
     "data": {
      "text/plain": [
       "<70000x1 sparse matrix of type '<class 'numpy.int64'>'\n",
       "\twith 70000 stored elements in Compressed Sparse Row format>"
      ]
     },
     "execution_count": 10,
     "metadata": {},
     "output_type": "execute_result"
    }
   ],
   "source": [
    "sparse_sent_lengths"
   ]
  },
  {
   "cell_type": "code",
   "execution_count": 11,
   "metadata": {},
   "outputs": [],
   "source": [
    "#Concatenating the two sparse arrays  \n",
    "X_train_feats = scipy.sparse.hstack([tf_idf_vectors,sparse_sent_lengths ])"
   ]
  },
  {
   "cell_type": "code",
   "execution_count": 12,
   "metadata": {},
   "outputs": [
    {
     "data": {
      "text/plain": [
       "(70000, 94995)"
      ]
     },
     "execution_count": 12,
     "metadata": {},
     "output_type": "execute_result"
    }
   ],
   "source": [
    "#Check the shape of the arrays  \n",
    "X_train_feats.shape"
   ]
  },
  {
   "cell_type": "code",
   "execution_count": 13,
   "metadata": {},
   "outputs": [],
   "source": [
    "#Same with test set \n",
    "X_test_ft = X_test[['sentence','sentence_len']]"
   ]
  },
  {
   "cell_type": "code",
   "execution_count": 14,
   "metadata": {},
   "outputs": [],
   "source": [
    "#Reshaping the sentence lengths array \n",
    "sent_lengths_test = np.array(X_test_ft['sentence_len'].values).reshape(-1, 1)"
   ]
  },
  {
   "cell_type": "code",
   "execution_count": 15,
   "metadata": {},
   "outputs": [],
   "source": [
    "#Converting sentence lengths array to sparse matrix\n",
    "sparse_sent_lengths_test = scipy.sparse.csr_matrix(sent_lengths_test)"
   ]
  },
  {
   "cell_type": "code",
   "execution_count": 16,
   "metadata": {},
   "outputs": [],
   "source": [
    "#Concatenating the two sparse arrays  \n",
    "X_test_feats = scipy.sparse.hstack([X_test_tfidf,sparse_sent_lengths_test ])"
   ]
  },
  {
   "cell_type": "code",
   "execution_count": 17,
   "metadata": {},
   "outputs": [
    {
     "data": {
      "text/plain": [
       "(30000, 94995)"
      ]
     },
     "execution_count": 17,
     "metadata": {},
     "output_type": "execute_result"
    }
   ],
   "source": [
    "X_test_feats.shape"
   ]
  },
  {
   "cell_type": "markdown",
   "metadata": {},
   "source": [
    "## Perform Cross-Validation with a Naive Bayes Classifier "
   ]
  },
  {
   "cell_type": "code",
   "execution_count": 18,
   "metadata": {},
   "outputs": [],
   "source": [
    "nb = MultinomialNB()\n",
    "param_grid = {'alpha': (0.1, 1, 5, 10, 50)}"
   ]
  },
  {
   "cell_type": "code",
   "execution_count": 19,
   "metadata": {},
   "outputs": [],
   "source": [
    "nb_CV = GridSearchCV(estimator=nb, param_grid=param_grid, cv=5, scoring = 'f1')"
   ]
  },
  {
   "cell_type": "code",
   "execution_count": 20,
   "metadata": {},
   "outputs": [
    {
     "data": {
      "text/plain": [
       "GridSearchCV(cv=5, error_score=nan,\n",
       "             estimator=MultinomialNB(alpha=1.0, class_prior=None,\n",
       "                                     fit_prior=True),\n",
       "             iid='deprecated', n_jobs=None,\n",
       "             param_grid={'alpha': (0.1, 1, 5, 10, 50)}, pre_dispatch='2*n_jobs',\n",
       "             refit=True, return_train_score=False, scoring='f1', verbose=0)"
      ]
     },
     "execution_count": 20,
     "metadata": {},
     "output_type": "execute_result"
    }
   ],
   "source": [
    "nb_CV.fit(X_train_feats, y_train)"
   ]
  },
  {
   "cell_type": "code",
   "execution_count": 21,
   "metadata": {},
   "outputs": [
    {
     "data": {
      "text/plain": [
       "{'alpha': 0.1}"
      ]
     },
     "execution_count": 21,
     "metadata": {},
     "output_type": "execute_result"
    }
   ],
   "source": [
    "nb_CV.best_params_"
   ]
  },
  {
   "cell_type": "markdown",
   "metadata": {},
   "source": [
    "## Classification using Naive Bayes with tf idf scores and sentence lengths"
   ]
  },
  {
   "cell_type": "code",
   "execution_count": 22,
   "metadata": {},
   "outputs": [],
   "source": [
    "preds = nb_CV.predict(X_test_feats)"
   ]
  },
  {
   "cell_type": "code",
   "execution_count": 23,
   "metadata": {},
   "outputs": [
    {
     "name": "stdout",
     "output_type": "stream",
     "text": [
      "Confusion Matrix: \n",
      " [[24809   258]\n",
      " [ 3114  1819]]\n"
     ]
    }
   ],
   "source": [
    "print(f'Confusion Matrix: \\n {metrics.confusion_matrix(y_test, preds)}')"
   ]
  },
  {
   "cell_type": "code",
   "execution_count": 24,
   "metadata": {},
   "outputs": [
    {
     "name": "stdout",
     "output_type": "stream",
     "text": [
      "Classification Report: \n",
      "\n",
      "               precision    recall  f1-score   support\n",
      "\n",
      "           0       0.89      0.99      0.94     25067\n",
      "           1       0.88      0.37      0.52      4933\n",
      "\n",
      "    accuracy                           0.89     30000\n",
      "   macro avg       0.88      0.68      0.73     30000\n",
      "weighted avg       0.89      0.89      0.87     30000\n",
      "\n"
     ]
    }
   ],
   "source": [
    "print(f'Classification Report: \\n\\n {metrics.classification_report(y_test, preds)}')"
   ]
  },
  {
   "cell_type": "markdown",
   "metadata": {},
   "source": [
    "## Classification using Naive Bayes with BoW and sentence lengths"
   ]
  },
  {
   "cell_type": "code",
   "execution_count": 25,
   "metadata": {},
   "outputs": [
    {
     "data": {
      "text/plain": [
       "70000"
      ]
     },
     "execution_count": 25,
     "metadata": {},
     "output_type": "execute_result"
    }
   ],
   "source": [
    "#Performing Cross Validation for the best combination of parameters\n",
    "from sklearn.feature_extraction.text import CountVectorizer\n",
    "vectorizer = CountVectorizer(ngram_range=(1, 2), min_df=2)\n",
    "X_train_dtm = vectorizer.fit_transform(X_train['sentence'])\n",
    "X_train_dtm_dense = X_train_dtm.toarray() \n",
    "len(X_train_dtm_dense)"
   ]
  },
  {
   "cell_type": "markdown",
   "metadata": {},
   "source": [
    "### Add features to X_train_dtm and X_test_dtm "
   ]
  },
  {
   "cell_type": "code",
   "execution_count": 26,
   "metadata": {},
   "outputs": [
    {
     "data": {
      "text/plain": [
       "<70000x99757 sparse matrix of type '<class 'numpy.int64'>'\n",
       "\twith 1718399 stored elements in COOrdinate format>"
      ]
     },
     "execution_count": 26,
     "metadata": {},
     "output_type": "execute_result"
    }
   ],
   "source": [
    "X_train_bow_feats = scipy.sparse.hstack([X_train_dtm ,sparse_sent_lengths ])\n",
    "X_train_bow_feats"
   ]
  },
  {
   "cell_type": "code",
   "execution_count": 27,
   "metadata": {},
   "outputs": [
    {
     "data": {
      "text/plain": [
       "<30000x99756 sparse matrix of type '<class 'numpy.int64'>'\n",
       "\twith 675443 stored elements in Compressed Sparse Row format>"
      ]
     },
     "execution_count": 27,
     "metadata": {},
     "output_type": "execute_result"
    }
   ],
   "source": [
    "# transform testing data (using fitted vocabulary) into a document-term matrix\n",
    "X_test_dtm = vectorizer.transform(X_test['sentence'])\n",
    "X_test_dtm"
   ]
  },
  {
   "cell_type": "code",
   "execution_count": 28,
   "metadata": {},
   "outputs": [
    {
     "data": {
      "text/plain": [
       "<30000x99757 sparse matrix of type '<class 'numpy.int64'>'\n",
       "\twith 705443 stored elements in COOrdinate format>"
      ]
     },
     "execution_count": 28,
     "metadata": {},
     "output_type": "execute_result"
    }
   ],
   "source": [
    "X_test_bow_feats =scipy.sparse.hstack([X_test_dtm ,sparse_sent_lengths_test ])\n",
    "X_test_bow_feats"
   ]
  },
  {
   "cell_type": "markdown",
   "metadata": {},
   "source": [
    "### Perform MultinomialNB Classification "
   ]
  },
  {
   "cell_type": "code",
   "execution_count": 29,
   "metadata": {},
   "outputs": [],
   "source": [
    "nb_bow = MultinomialNB(alpha=0.1)"
   ]
  },
  {
   "cell_type": "code",
   "execution_count": 30,
   "metadata": {},
   "outputs": [
    {
     "data": {
      "text/plain": [
       "MultinomialNB(alpha=0.1, class_prior=None, fit_prior=True)"
      ]
     },
     "execution_count": 30,
     "metadata": {},
     "output_type": "execute_result"
    }
   ],
   "source": [
    "nb_bow.fit(X_train_bow_feats, y_train)"
   ]
  },
  {
   "cell_type": "code",
   "execution_count": 31,
   "metadata": {},
   "outputs": [],
   "source": [
    "preds_bow= nb_bow.predict(X_test_bow_feats)"
   ]
  },
  {
   "cell_type": "code",
   "execution_count": 32,
   "metadata": {},
   "outputs": [
    {
     "name": "stdout",
     "output_type": "stream",
     "text": [
      "Confusion Matrix: \n",
      " [[23551  1516]\n",
      " [ 2022  2911]]\n"
     ]
    }
   ],
   "source": [
    "print(f'Confusion Matrix: \\n {metrics.confusion_matrix(y_test, preds_bow)}')"
   ]
  },
  {
   "cell_type": "code",
   "execution_count": 33,
   "metadata": {},
   "outputs": [
    {
     "name": "stdout",
     "output_type": "stream",
     "text": [
      "Classification Report: \n",
      "\n",
      "               precision    recall  f1-score   support\n",
      "\n",
      "           0       0.92      0.94      0.93     25067\n",
      "           1       0.66      0.59      0.62      4933\n",
      "\n",
      "    accuracy                           0.88     30000\n",
      "   macro avg       0.79      0.76      0.78     30000\n",
      "weighted avg       0.88      0.88      0.88     30000\n",
      "\n"
     ]
    }
   ],
   "source": [
    "print(f'Classification Report: \\n\\n {metrics.classification_report(y_test, preds_bow)}')"
   ]
  },
  {
   "cell_type": "markdown",
   "metadata": {},
   "source": [
    "**Precision** - For both classes we have pretty high precision although for class 1 it is lower than the precision for the same class with th multinomialNB classifier with no features (0.77)"
   ]
  },
  {
   "cell_type": "markdown",
   "metadata": {},
   "source": [
    "**Recall (sensitivity)** - is the ratio of correctly predicted positive observations to the all observations in actual class, with adding the sentence length feature, we get a higher recall for class 1 (summary) as opposed to the same classifier without this feature (0.41)."
   ]
  },
  {
   "cell_type": "markdown",
   "metadata": {},
   "source": [
    "**F1 score** - F1 is usually more useful than accuracy, especially since we have an uneven class distribution. In our case, F1 score is 0.88, but we notice the the F1 score for the summary class has improved (0.62) compared to the model without the `sentence_len` feature (0.53)."
   ]
  },
  {
   "cell_type": "markdown",
   "metadata": {},
   "source": [
    "Overall the recall for the summary class here is significantly better probably because the MultinomialNB classifier works best with integers (suitable for classification with discrete features)."
   ]
  },
  {
   "cell_type": "markdown",
   "metadata": {},
   "source": [
    "## Adding the `tfidf_score` to the MultinomialNB model"
   ]
  },
  {
   "cell_type": "code",
   "execution_count": 34,
   "metadata": {},
   "outputs": [],
   "source": [
    "X_train_ft = X_train[['sentence_len', 'tfidf_score']]"
   ]
  },
  {
   "cell_type": "code",
   "execution_count": 35,
   "metadata": {},
   "outputs": [],
   "source": [
    "sent_tfidf = np.array(X_train_ft['tfidf_score'].values).reshape(-1, 1)"
   ]
  },
  {
   "cell_type": "code",
   "execution_count": 36,
   "metadata": {},
   "outputs": [],
   "source": [
    "#Converting sentence tfidf array to sparse matrix\n",
    "sparse_sent_tfidf = scipy.sparse.csr_matrix(sent_tfidf)"
   ]
  },
  {
   "cell_type": "code",
   "execution_count": 37,
   "metadata": {},
   "outputs": [
    {
     "data": {
      "text/plain": [
       "<70000x99758 sparse matrix of type '<class 'numpy.float64'>'\n",
       "\twith 1788390 stored elements in COOrdinate format>"
      ]
     },
     "execution_count": 37,
     "metadata": {},
     "output_type": "execute_result"
    }
   ],
   "source": [
    "X_train_bow_feats_1 = scipy.sparse.hstack([X_train_bow_feats ,sparse_sent_tfidf])\n",
    "X_train_bow_feats_1"
   ]
  },
  {
   "cell_type": "code",
   "execution_count": 38,
   "metadata": {},
   "outputs": [],
   "source": [
    "#Same for test set\n",
    "X_test_ft = X_test[['sentence','tfidf_score']]\n",
    "sent_tfidf_test = np.array(X_test_ft['tfidf_score'].values).reshape(-1, 1)\n",
    "#Converting sentence tfidf array to sparse matrix\n",
    "sparse_sent_tfidf_test = scipy.sparse.csr_matrix(sent_tfidf_test)\n",
    "#Concatenating the two sparse arrays  \n",
    "X_test_bow_feats_1 = scipy.sparse.hstack([X_test_bow_feats,sparse_sent_tfidf_test])"
   ]
  },
  {
   "cell_type": "code",
   "execution_count": 39,
   "metadata": {
    "scrolled": true
   },
   "outputs": [
    {
     "data": {
      "text/plain": [
       "<30000x99758 sparse matrix of type '<class 'numpy.float64'>'\n",
       "\twith 735440 stored elements in COOrdinate format>"
      ]
     },
     "execution_count": 39,
     "metadata": {},
     "output_type": "execute_result"
    }
   ],
   "source": [
    "X_test_bow_feats_1"
   ]
  },
  {
   "cell_type": "code",
   "execution_count": 40,
   "metadata": {},
   "outputs": [],
   "source": [
    "nb_bow_1 = MultinomialNB(alpha=0.1)\n",
    "nb_bow_1.fit(X_train_bow_feats_1, y_train)\n",
    "preds_bow_1= nb_bow_1.predict(X_test_bow_feats_1)"
   ]
  },
  {
   "cell_type": "code",
   "execution_count": 41,
   "metadata": {},
   "outputs": [
    {
     "name": "stdout",
     "output_type": "stream",
     "text": [
      "Confusion Matrix: \n",
      " [[23508  1559]\n",
      " [ 1472  3461]]\n"
     ]
    }
   ],
   "source": [
    "print(f'Confusion Matrix: \\n {metrics.confusion_matrix(y_test, preds_bow_1)}')"
   ]
  },
  {
   "cell_type": "code",
   "execution_count": 42,
   "metadata": {},
   "outputs": [
    {
     "name": "stdout",
     "output_type": "stream",
     "text": [
      "Classification Report: \n",
      "\n",
      "               precision    recall  f1-score   support\n",
      "\n",
      "           0       0.94      0.94      0.94     25067\n",
      "           1       0.69      0.70      0.70      4933\n",
      "\n",
      "    accuracy                           0.90     30000\n",
      "   macro avg       0.82      0.82      0.82     30000\n",
      "weighted avg       0.90      0.90      0.90     30000\n",
      "\n"
     ]
    }
   ],
   "source": [
    "print(f'Classification Report: \\n\\n {metrics.classification_report(y_test, preds_bow_1)}')"
   ]
  },
  {
   "cell_type": "markdown",
   "metadata": {},
   "source": [
    "This model performs even better "
   ]
  },
  {
   "cell_type": "markdown",
   "metadata": {},
   "source": [
    "## Adding the `title_similarity` feature to the MultinomialNB model"
   ]
  },
  {
   "cell_type": "code",
   "execution_count": 43,
   "metadata": {},
   "outputs": [],
   "source": [
    "X_train_ft = X_train[['sentence_len', 'title_similarity']]"
   ]
  },
  {
   "cell_type": "code",
   "execution_count": 44,
   "metadata": {},
   "outputs": [
    {
     "data": {
      "text/plain": [
       "sentence_len        4\n",
       "title_similarity    4\n",
       "dtype: int64"
      ]
     },
     "execution_count": 44,
     "metadata": {},
     "output_type": "execute_result"
    }
   ],
   "source": [
    "X_train_ft[X_train_ft['title_similarity'] < 0].count()"
   ]
  },
  {
   "cell_type": "code",
   "execution_count": 45,
   "metadata": {},
   "outputs": [],
   "source": [
    "#We only have 3 negative values, let's try making them 0 and see if the model is better this way\n",
    "X_train_ft[X_train_ft['title_similarity'] < 0] = 0"
   ]
  },
  {
   "cell_type": "code",
   "execution_count": 46,
   "metadata": {},
   "outputs": [
    {
     "data": {
      "text/plain": [
       "sentence_len        0\n",
       "title_similarity    0\n",
       "dtype: int64"
      ]
     },
     "execution_count": 46,
     "metadata": {},
     "output_type": "execute_result"
    }
   ],
   "source": [
    "X_train_ft[X_train_ft['title_similarity'] < 0].count()"
   ]
  },
  {
   "cell_type": "code",
   "execution_count": 47,
   "metadata": {},
   "outputs": [],
   "source": [
    "sent_title_similarity = np.array(X_train_ft['title_similarity'].values).reshape(-1, 1)"
   ]
  },
  {
   "cell_type": "code",
   "execution_count": 48,
   "metadata": {},
   "outputs": [],
   "source": [
    "#Converting sentence tfidf array to sparse matrix\n",
    "sparse_sent_title_similarity = scipy.sparse.csr_matrix(sent_title_similarity)"
   ]
  },
  {
   "cell_type": "code",
   "execution_count": 49,
   "metadata": {},
   "outputs": [
    {
     "data": {
      "text/plain": [
       "<70000x99759 sparse matrix of type '<class 'numpy.float64'>'\n",
       "\twith 1858386 stored elements in COOrdinate format>"
      ]
     },
     "execution_count": 49,
     "metadata": {},
     "output_type": "execute_result"
    }
   ],
   "source": [
    "X_train_bow_feats_2 = scipy.sparse.hstack([X_train_bow_feats_1 ,sparse_sent_title_similarity])\n",
    "X_train_bow_feats_2"
   ]
  },
  {
   "cell_type": "code",
   "execution_count": 50,
   "metadata": {},
   "outputs": [],
   "source": [
    "#Same for test set\n",
    "X_test_ft = X_test[['sentence','title_similarity']]\n",
    "sent_title_similarity_test = np.array(X_test_ft['title_similarity'].values).reshape(-1, 1)\n",
    "#Converting sentence tfidf array to sparse matrix\n",
    "sparse_sent_title_similarity_test = scipy.sparse.csr_matrix(sent_title_similarity_test)\n",
    "#Concatenating the two sparse arrays  \n",
    "X_test_bow_feats_2 = scipy.sparse.hstack([X_test_bow_feats_1,sparse_sent_title_similarity_test])"
   ]
  },
  {
   "cell_type": "code",
   "execution_count": 51,
   "metadata": {},
   "outputs": [
    {
     "data": {
      "text/plain": [
       "<30000x99759 sparse matrix of type '<class 'numpy.float64'>'\n",
       "\twith 765438 stored elements in COOrdinate format>"
      ]
     },
     "execution_count": 51,
     "metadata": {},
     "output_type": "execute_result"
    }
   ],
   "source": [
    "X_test_bow_feats_2"
   ]
  },
  {
   "cell_type": "code",
   "execution_count": 52,
   "metadata": {},
   "outputs": [],
   "source": [
    "nb_bow_2 = MultinomialNB(alpha=0.1)\n",
    "nb_bow_2.fit(X_train_bow_feats_2, y_train)\n",
    "preds_bow_2= nb_bow_2.predict(X_test_bow_feats_2)"
   ]
  },
  {
   "cell_type": "code",
   "execution_count": 53,
   "metadata": {},
   "outputs": [
    {
     "name": "stdout",
     "output_type": "stream",
     "text": [
      "Confusion Matrix: \n",
      " [[23491  1576]\n",
      " [ 1403  3530]]\n"
     ]
    }
   ],
   "source": [
    "print(f'Confusion Matrix: \\n {metrics.confusion_matrix(y_test, preds_bow_2)}')"
   ]
  },
  {
   "cell_type": "code",
   "execution_count": 54,
   "metadata": {},
   "outputs": [
    {
     "name": "stdout",
     "output_type": "stream",
     "text": [
      "Classification Report: \n",
      "\n",
      "               precision    recall  f1-score   support\n",
      "\n",
      "           0       0.94      0.94      0.94     25067\n",
      "           1       0.69      0.72      0.70      4933\n",
      "\n",
      "    accuracy                           0.90     30000\n",
      "   macro avg       0.82      0.83      0.82     30000\n",
      "weighted avg       0.90      0.90      0.90     30000\n",
      "\n"
     ]
    }
   ],
   "source": [
    "print(f'Classification Report: \\n\\n {metrics.classification_report(y_test, preds_bow_2)}')"
   ]
  },
  {
   "cell_type": "markdown",
   "metadata": {},
   "source": [
    "This model give slighlty better results."
   ]
  },
  {
   "cell_type": "code",
   "execution_count": 55,
   "metadata": {},
   "outputs": [
    {
     "name": "stdout",
     "output_type": "stream",
     "text": [
      "Real Summary: \n",
      "\n",
      "Stop what you re doing. Take a break. Focus on your senses. Take some deep breaths. Inhale slowly through your nose. Try to relax your muscles. Get some exercise. Recognize what stress looks like for you. Identify the cause of your stress. Acknowledge your role. Determine if you re stressing about something that is in the past. Determine whether you re stressed about the future. Practice relaxation. Inhale deeply through your nose. Think about something else. Choose your response. Make a plan. Be realistic. Take one step at a time. Stop procrastinating. Practice mindfulness. Try a self compassion break. Use the RAIN reminder. Repeat positive statements. Release stress productively. Cry if you want to. Listen to some soothing music. Take a hot shower or bath \n",
      "\n",
      "Predicted Summary: \n",
      "\n",
      "Take a break. Focus on your senses. I feel nauseated. Try to relax your muscles. Loosen tight clothing if possible. Give yourself seconds to notice how these areas feel. Give yourself a second relaxation break between groups. Get some exercise. Recognize what stress looks like for you. Identify the cause of your stress. School or work. Acknowledge your role. Take a step back and consider how you think about stress. Determine whether you re stressed about the future. Remember the future isn t set. Practice relaxation. Think about something else. Choose your response. Be realistic. If that s the case, revise your timeline or lower your expectations. Learn from your experience, but let it go. Stop procrastinating. Often, perfectionism is a culprit. Watch out for should statements. Practice mindfulness. Try it for minutes a day. Examine the raisin visually. Smell the raisin. Place the raisin on your tongue. Try a self compassion break. Think of the stressful situation. Use the RAIN reminder. Investigate with kindness. Repeat positive statements. Cry if you want to. Listen to some soothing music. Take a hot shower or bath\n",
      "None\n"
     ]
    }
   ],
   "source": [
    "from eval_funcs import *\n",
    "#New text never before seen and make predictions on it \n",
    "text_1_df = pd.read_csv('./datasets/text_1.csv')\n",
    "text_1_vectors = vectorizer.transform(text_1_df['sentence'])\n",
    "text_1_df['title_similarity'] = text_1_df.apply(lambda x: get_similarity(x['sentence'], x['title']), axis=1)\n",
    "text_1_feat = prediction_preprocessing(text_1_df)\n",
    "text_1_full_feats = scipy.sparse.hstack([text_1_vectors,text_1_feat])\n",
    "pred_text_1 = nb_bow_2.predict(text_1_full_feats)\n",
    "results_text_1 = text_1_df[['sentence','is_summary']]\n",
    "results_text_1['predictions'] = pred_text_1\n",
    "print(recreate_summaries(results_text_1))"
   ]
  },
  {
   "cell_type": "code",
   "execution_count": 56,
   "metadata": {},
   "outputs": [
    {
     "data": {
      "text/plain": [
       "0.7142857142857143"
      ]
     },
     "execution_count": 56,
     "metadata": {},
     "output_type": "execute_result"
    }
   ],
   "source": [
    "#Calculate recall for text 1\n",
    "len(results_text_1[(results_text_1['is_summary'] == results_text_1['predictions'])&(results_text_1['predictions']==1)])\n",
    "len(results_text_1[results_text_1['is_summary']==1])\n",
    "\n",
    "recall_text_1 = len(results_text_1[(results_text_1['is_summary'] == results_text_1['predictions'])&(results_text_1['predictions']==1)])/len(results_text_1[results_text_1['is_summary']==1])\n",
    "recall_text_1\n"
   ]
  },
  {
   "cell_type": "code",
   "execution_count": 57,
   "metadata": {},
   "outputs": [
    {
     "name": "stdout",
     "output_type": "stream",
     "text": [
      "Real Summary: \n",
      "\n",
      "Know that everyone has their own unique experience with grief. Acknowledge that there are many kinds of loss. Recognize that stages of mourning do not really exist. Distinguish between grief and mourning. Learn about the necessary tasks of mourning. Acknowledge that you and others may not experience grief the same way. Recognize physical symptoms of grief. Recognize emotional symptoms of grief. Recognize signs of grief in children. Recognize signs of complicated grief. Acknowledge your emotions. Express your feelings through a tangible medium. Acknowledge that your grief is yours. Maintain your physical health. Avoid using alcohol, drugs, or food to deal with your grief. Do things that you enjoy. Prepare for things that may trigger your grief. Pamper yourself. Look to family members and friends for support. Join a support group. Speak with a grief counselor or therapist. Find comfort in the things you believe in. Get involved with your community. Allow yourself to remember your loss. Recognize that you are changed by loss. Allow yourself to feel shock. Recognize denial. Know that you may feel anger. Know that at some point you may make mental bargains. Allow yourself to feel great sadness. Search for acceptance within yourself \n",
      "\n",
      "Predicted Summary: \n",
      "\n",
      "Acknowledge your emotions as a natural response. Distinguish between grief and mourning. Learn about the necessary tasks of mourning. Processing grief. Recognize physical symptoms of grief. Recognize emotional symptoms of grief. Grief is emotionally complex and deeply personal. Recognize signs of grief in children. Regressive or immature behaviors. Physical symptoms. Recognize signs of complicated grief. Acknowledge your emotions. Express your feelings through a tangible medium. Acknowledge that your grief is yours. Maintain your physical health. Avoid highly processed foods and foods with a lot of fat or sugar. Focus on the good things about your relationship with your loved one. Pamper yourself. Look to family members and friends for support. Join a support group. Try to focus on positive memories and things you loved about your relationship. Allow yourself to feel shock. Recognize denial. Search for acceptance within yourself\n",
      "None\n"
     ]
    }
   ],
   "source": [
    "#New text never before seen and make predictions on it \n",
    "text_2_df = pd.read_csv('./datasets/text_2.csv')\n",
    "text_2_vectors = vectorizer.transform(text_2_df['sentence'])\n",
    "text_2_df['title_similarity'] = text_2_df.apply(lambda x: get_similarity(x['sentence'], x['title']), axis=1)\n",
    "text_2_feat = prediction_preprocessing(text_2_df)\n",
    "text_2_full_feats = scipy.sparse.hstack([text_2_vectors,text_2_feat])\n",
    "pred_text_2 = nb_bow_2.predict(text_2_full_feats)\n",
    "results_text_2 = text_2_df[['sentence','is_summary']]\n",
    "results_text_2['predictions'] = pred_text_2\n",
    "print(recreate_summaries(results_text_2))"
   ]
  },
  {
   "cell_type": "code",
   "execution_count": 58,
   "metadata": {},
   "outputs": [
    {
     "data": {
      "text/plain": [
       "0.5161290322580645"
      ]
     },
     "execution_count": 58,
     "metadata": {},
     "output_type": "execute_result"
    }
   ],
   "source": [
    "#Calculate recall for text 2\n",
    "len(results_text_2[(results_text_2['is_summary'] == results_text_2['predictions'])&(results_text_2['predictions']==1)])\n",
    "len(results_text_2[results_text_2['is_summary']==1])\n",
    "\n",
    "recall_text_2 = len(results_text_2[(results_text_2['is_summary'] == results_text_2['predictions'])&(results_text_2['predictions']==1)])/len(results_text_2[results_text_2['is_summary']==1])\n",
    "recall_text_2"
   ]
  },
  {
   "cell_type": "code",
   "execution_count": 59,
   "metadata": {},
   "outputs": [
    {
     "name": "stdout",
     "output_type": "stream",
     "text": [
      "Real Summary: \n",
      "\n",
      "Think about the time commitment of ferret proofing your home. See if you have enough time to play with a ferret. Remember that ferrets require training. Keep cleaning time in mind. Remember a ferret s lifespan. Consider other factors. Avoid a ferret if you have young children. Think about how busy your home is. Consider your other pets. Decide whether you can tolerate the smell. Make sure you can legally keep a ferret in your home. Learn about adoption and purchase fees. Make sure you can afford vaccinations. Consider the cost of sterilization. Weigh in other general costs of care \n",
      "\n",
      "Predicted Summary: \n",
      "\n",
      "Think about the time commitment of ferret proofing your home. Be honest with yourself about whether you have time for ferret proofing. Ferrets do sleep a lot. Consider other factors. Think about how busy your home is. First, ferrets are underfoot a lot. Consider your other pets. Also, think about legally housing a ferret. Check with your landlord before adopting a ferret. Learn about adoption and purchase fees. Consider the cost of sterilization\n",
      "None\n"
     ]
    }
   ],
   "source": [
    "#New text never before seen and make predictions on it \n",
    "text_3_df = pd.read_csv('./datasets/text_3.csv')\n",
    "text_3_vectors = vectorizer.transform(text_3_df['sentence'])\n",
    "text_3_df['title_similarity'] = text_3_df.apply(lambda x: get_similarity(x['sentence'], x['title']), axis=1)\n",
    "text_3_feat = prediction_preprocessing(text_3_df)\n",
    "text_3_full_feats = scipy.sparse.hstack([text_3_vectors,text_3_feat])\n",
    "pred_text_3 = nb_bow_2.predict(text_3_full_feats)\n",
    "results_text_3 = text_3_df[['sentence','is_summary']]\n",
    "results_text_3['predictions'] = pred_text_3\n",
    "print(recreate_summaries(results_text_3))"
   ]
  },
  {
   "cell_type": "code",
   "execution_count": 60,
   "metadata": {},
   "outputs": [
    {
     "data": {
      "text/plain": [
       "0.4"
      ]
     },
     "execution_count": 60,
     "metadata": {},
     "output_type": "execute_result"
    }
   ],
   "source": [
    "#Calculate recall for text 3\n",
    "len(results_text_3[(results_text_3['is_summary'] == results_text_3['predictions'])&(results_text_3['predictions']==1)])\n",
    "len(results_text_3[results_text_3['is_summary']==1])\n",
    "\n",
    "recall_text_3 = len(results_text_3[(results_text_3['is_summary'] == results_text_3['predictions'])&(results_text_3['predictions']==1)])/len(results_text_3[results_text_3['is_summary']==1])\n",
    "recall_text_3"
   ]
  },
  {
   "cell_type": "code",
   "execution_count": 61,
   "metadata": {},
   "outputs": [
    {
     "name": "stdout",
     "output_type": "stream",
     "text": [
      "Real Compression: 0.0830860534124629 \n",
      "\n",
      "Predicted Compression: 0.10979228486646884 \n",
      "\n",
      "Recall: 0.7142857142857143\n",
      "None\n",
      "Real Compression: 0.11742424242424243 \n",
      "\n",
      "Predicted Compression: 0.09090909090909091 \n",
      "\n",
      "Recall: 0.5161290322580645\n",
      "None\n",
      "Real Compression: 0.14150943396226415 \n",
      "\n",
      "Predicted Compression: 0.10377358490566038 \n",
      "\n",
      "Recall: 0.4\n",
      "None\n"
     ]
    }
   ],
   "source": [
    "print(calculate_compression(results_text_1))\n",
    "print(calculate_compression(results_text_2))\n",
    "print(calculate_compression(results_text_3))"
   ]
  },
  {
   "cell_type": "markdown",
   "metadata": {},
   "source": [
    "## Calculate the recalls accross articles and evaluate the recall distribution "
   ]
  },
  {
   "cell_type": "code",
   "execution_count": 62,
   "metadata": {},
   "outputs": [],
   "source": [
    "recalls = calculate_recall_distribution(X_test, preds_bow_2, y_test)"
   ]
  },
  {
   "cell_type": "code",
   "execution_count": 63,
   "metadata": {},
   "outputs": [],
   "source": [
    "ids = [item[0] for item in recalls ]\n",
    "recalls = [item[1] for item in recalls ]"
   ]
  },
  {
   "cell_type": "code",
   "execution_count": 64,
   "metadata": {},
   "outputs": [],
   "source": [
    "recalls_df = pd.DataFrame(ids , columns=['id'])"
   ]
  },
  {
   "cell_type": "code",
   "execution_count": 65,
   "metadata": {},
   "outputs": [],
   "source": [
    "recalls_df['recalls']= recalls"
   ]
  },
  {
   "cell_type": "code",
   "execution_count": 66,
   "metadata": {},
   "outputs": [
    {
     "data": {
      "text/html": [
       "<div>\n",
       "<style scoped>\n",
       "    .dataframe tbody tr th:only-of-type {\n",
       "        vertical-align: middle;\n",
       "    }\n",
       "\n",
       "    .dataframe tbody tr th {\n",
       "        vertical-align: top;\n",
       "    }\n",
       "\n",
       "    .dataframe thead th {\n",
       "        text-align: right;\n",
       "    }\n",
       "</style>\n",
       "<table border=\"1\" class=\"dataframe\">\n",
       "  <thead>\n",
       "    <tr style=\"text-align: right;\">\n",
       "      <th></th>\n",
       "      <th>id</th>\n",
       "      <th>recalls</th>\n",
       "    </tr>\n",
       "  </thead>\n",
       "  <tbody>\n",
       "    <tr>\n",
       "      <th>0</th>\n",
       "      <td>4354</td>\n",
       "      <td>1.0</td>\n",
       "    </tr>\n",
       "    <tr>\n",
       "      <th>1</th>\n",
       "      <td>4355</td>\n",
       "      <td>1.0</td>\n",
       "    </tr>\n",
       "    <tr>\n",
       "      <th>2</th>\n",
       "      <td>4356</td>\n",
       "      <td>NaN</td>\n",
       "    </tr>\n",
       "    <tr>\n",
       "      <th>3</th>\n",
       "      <td>4357</td>\n",
       "      <td>1.0</td>\n",
       "    </tr>\n",
       "    <tr>\n",
       "      <th>4</th>\n",
       "      <td>4358</td>\n",
       "      <td>1.0</td>\n",
       "    </tr>\n",
       "    <tr>\n",
       "      <th>5</th>\n",
       "      <td>5009</td>\n",
       "      <td>1.0</td>\n",
       "    </tr>\n",
       "    <tr>\n",
       "      <th>6</th>\n",
       "      <td>5010</td>\n",
       "      <td>1.0</td>\n",
       "    </tr>\n",
       "    <tr>\n",
       "      <th>7</th>\n",
       "      <td>5011</td>\n",
       "      <td>0.0</td>\n",
       "    </tr>\n",
       "    <tr>\n",
       "      <th>8</th>\n",
       "      <td>5094</td>\n",
       "      <td>1.0</td>\n",
       "    </tr>\n",
       "    <tr>\n",
       "      <th>9</th>\n",
       "      <td>6245</td>\n",
       "      <td>0.0</td>\n",
       "    </tr>\n",
       "    <tr>\n",
       "      <th>10</th>\n",
       "      <td>7522</td>\n",
       "      <td>NaN</td>\n",
       "    </tr>\n",
       "    <tr>\n",
       "      <th>11</th>\n",
       "      <td>7523</td>\n",
       "      <td>1.0</td>\n",
       "    </tr>\n",
       "    <tr>\n",
       "      <th>12</th>\n",
       "      <td>7924</td>\n",
       "      <td>NaN</td>\n",
       "    </tr>\n",
       "    <tr>\n",
       "      <th>13</th>\n",
       "      <td>7925</td>\n",
       "      <td>0.5</td>\n",
       "    </tr>\n",
       "    <tr>\n",
       "      <th>14</th>\n",
       "      <td>7926</td>\n",
       "      <td>NaN</td>\n",
       "    </tr>\n",
       "    <tr>\n",
       "      <th>15</th>\n",
       "      <td>7962</td>\n",
       "      <td>0.4</td>\n",
       "    </tr>\n",
       "    <tr>\n",
       "      <th>16</th>\n",
       "      <td>8142</td>\n",
       "      <td>1.0</td>\n",
       "    </tr>\n",
       "    <tr>\n",
       "      <th>17</th>\n",
       "      <td>8143</td>\n",
       "      <td>NaN</td>\n",
       "    </tr>\n",
       "    <tr>\n",
       "      <th>18</th>\n",
       "      <td>8144</td>\n",
       "      <td>NaN</td>\n",
       "    </tr>\n",
       "    <tr>\n",
       "      <th>19</th>\n",
       "      <td>8243</td>\n",
       "      <td>1.0</td>\n",
       "    </tr>\n",
       "  </tbody>\n",
       "</table>\n",
       "</div>"
      ],
      "text/plain": [
       "      id  recalls\n",
       "0   4354      1.0\n",
       "1   4355      1.0\n",
       "2   4356      NaN\n",
       "3   4357      1.0\n",
       "4   4358      1.0\n",
       "5   5009      1.0\n",
       "6   5010      1.0\n",
       "7   5011      0.0\n",
       "8   5094      1.0\n",
       "9   6245      0.0\n",
       "10  7522      NaN\n",
       "11  7523      1.0\n",
       "12  7924      NaN\n",
       "13  7925      0.5\n",
       "14  7926      NaN\n",
       "15  7962      0.4\n",
       "16  8142      1.0\n",
       "17  8143      NaN\n",
       "18  8144      NaN\n",
       "19  8243      1.0"
      ]
     },
     "execution_count": 66,
     "metadata": {},
     "output_type": "execute_result"
    }
   ],
   "source": [
    "recalls_df.head(20)"
   ]
  },
  {
   "cell_type": "code",
   "execution_count": 67,
   "metadata": {},
   "outputs": [
    {
     "data": {
      "text/plain": [
       "(array([ 301.,    3.,   26.,   53.,   18.,  287.,  123.,   74.,   59.,\n",
       "        1104.]),\n",
       " array([0. , 0.1, 0.2, 0.3, 0.4, 0.5, 0.6, 0.7, 0.8, 0.9, 1. ]),\n",
       " <a list of 10 Patch objects>)"
      ]
     },
     "execution_count": 67,
     "metadata": {},
     "output_type": "execute_result"
    }
   ],
   "source": [
    "import matplotlib.pyplot as plt\n",
    "plt.figure(figsize=(20,10))\n",
    "\n",
    "plt.hist(recalls_df['recalls'])"
   ]
  },
  {
   "cell_type": "code",
   "execution_count": 68,
   "metadata": {},
   "outputs": [
    {
     "data": {
      "text/plain": [
       "id         471\n",
       "recalls      0\n",
       "dtype: int64"
      ]
     },
     "execution_count": 68,
     "metadata": {},
     "output_type": "execute_result"
    }
   ],
   "source": [
    "recalls_df[recalls_df['recalls'].isnull() == True].count()"
   ]
  },
  {
   "cell_type": "code",
   "execution_count": 69,
   "metadata": {},
   "outputs": [
    {
     "data": {
      "text/plain": [
       "id         2048\n",
       "recalls    2048\n",
       "dtype: int64"
      ]
     },
     "execution_count": 69,
     "metadata": {},
     "output_type": "execute_result"
    }
   ],
   "source": [
    "recalls_df[recalls_df['recalls'].isnull() == False].count()"
   ]
  },
  {
   "cell_type": "markdown",
   "metadata": {},
   "source": [
    "## Using LDA for classification"
   ]
  },
  {
   "cell_type": "code",
   "execution_count": 70,
   "metadata": {},
   "outputs": [
    {
     "data": {
      "text/plain": [
       "array([[0, 0, 0, ..., 0, 0, 0],\n",
       "       [0, 0, 0, ..., 0, 0, 0],\n",
       "       [0, 0, 0, ..., 0, 0, 0],\n",
       "       ...,\n",
       "       [0, 0, 0, ..., 0, 0, 0],\n",
       "       [0, 0, 0, ..., 0, 0, 0],\n",
       "       [0, 0, 0, ..., 0, 0, 0]])"
      ]
     },
     "execution_count": 70,
     "metadata": {},
     "output_type": "execute_result"
    }
   ],
   "source": [
    "X_train_dtm.toarray()"
   ]
  },
  {
   "cell_type": "code",
   "execution_count": 71,
   "metadata": {},
   "outputs": [],
   "source": [
    "from sklearn.decomposition import LatentDirichletAllocation\n",
    "lda = LatentDirichletAllocation(n_components=10,random_state=42)\n",
    "#fit model to the training data\n",
    "#X_train_dtm.toarray().shape\n",
    "lda_dtf = lda.fit_transform(X_train_dtm)"
   ]
  },
  {
   "cell_type": "markdown",
   "metadata": {},
   "source": [
    "## Unsupervised: Using KMeans on these modelled topics "
   ]
  },
  {
   "cell_type": "code",
   "execution_count": 72,
   "metadata": {},
   "outputs": [
    {
     "data": {
      "text/plain": [
       "KMeans(algorithm='auto', copy_x=True, init='k-means++', max_iter=100,\n",
       "       n_clusters=2, n_init=1, n_jobs=None, precompute_distances='auto',\n",
       "       random_state=None, tol=0.0001, verbose=0)"
      ]
     },
     "execution_count": 72,
     "metadata": {},
     "output_type": "execute_result"
    }
   ],
   "source": [
    "from sklearn.cluster import KMeans\n",
    "from sklearn.metrics import adjusted_rand_score\n",
    "true_k = 2\n",
    "model = KMeans(n_clusters=true_k, init='k-means++', max_iter=100, n_init=1)\n",
    "model.fit(lda_dtf)"
   ]
  },
  {
   "cell_type": "code",
   "execution_count": 73,
   "metadata": {},
   "outputs": [],
   "source": [
    "unsupervised_preds = model.predict(lda_dtf)"
   ]
  },
  {
   "cell_type": "code",
   "execution_count": 74,
   "metadata": {},
   "outputs": [
    {
     "data": {
      "text/plain": [
       "array([[0],\n",
       "       [0],\n",
       "       [0],\n",
       "       ...,\n",
       "       [0],\n",
       "       [0],\n",
       "       [0]], dtype=int32)"
      ]
     },
     "execution_count": 74,
     "metadata": {},
     "output_type": "execute_result"
    }
   ],
   "source": [
    "unsupervised_preds.reshape(-1,1)"
   ]
  },
  {
   "cell_type": "code",
   "execution_count": 75,
   "metadata": {},
   "outputs": [
    {
     "name": "stdout",
     "output_type": "stream",
     "text": [
      "Confusion Matrix: \n",
      " [[48884  9466]\n",
      " [ 8891  2759]]\n"
     ]
    }
   ],
   "source": [
    "print(f'Confusion Matrix: \\n {metrics.confusion_matrix(y_train, unsupervised_preds.reshape(-1,1))}')"
   ]
  },
  {
   "cell_type": "code",
   "execution_count": 76,
   "metadata": {},
   "outputs": [
    {
     "name": "stdout",
     "output_type": "stream",
     "text": [
      "Classification Report: \n",
      "\n",
      "               precision    recall  f1-score   support\n",
      "\n",
      "           0       0.85      0.84      0.84     58350\n",
      "           1       0.23      0.24      0.23     11650\n",
      "\n",
      "    accuracy                           0.74     70000\n",
      "   macro avg       0.54      0.54      0.54     70000\n",
      "weighted avg       0.74      0.74      0.74     70000\n",
      "\n"
     ]
    }
   ],
   "source": [
    "print(f'Classification Report: \\n\\n {metrics.classification_report(y_train, unsupervised_preds.reshape(-1,1))}')"
   ]
  },
  {
   "cell_type": "markdown",
   "metadata": {},
   "source": [
    "Precision here is very low"
   ]
  },
  {
   "cell_type": "markdown",
   "metadata": {},
   "source": [
    "## Using all features + LDA in a supervised way (Multinomial Naive Bayes Classifier)"
   ]
  },
  {
   "cell_type": "code",
   "execution_count": 77,
   "metadata": {},
   "outputs": [],
   "source": [
    "#Create X_train by concatenating the full features X_train with lda \n",
    "X_train_feats_lda = scipy.sparse.hstack([X_train_bow_feats_2,lda_dtf])\n"
   ]
  },
  {
   "cell_type": "code",
   "execution_count": 78,
   "metadata": {},
   "outputs": [],
   "source": [
    "#Create X_test \n",
    "lda_dtf_test = lda.transform(X_test_dtm)\n",
    "#Create X_train by concatenating the full features X_train with lda \n",
    "X_test_feats_lda = scipy.sparse.hstack([X_test_bow_feats_2,lda_dtf_test])"
   ]
  },
  {
   "cell_type": "markdown",
   "metadata": {},
   "source": [
    "## Cross validate RF with and without LDA and predict"
   ]
  },
  {
   "cell_type": "code",
   "execution_count": 79,
   "metadata": {},
   "outputs": [
    {
     "data": {
      "text/plain": [
       "GridSearchCV(cv=5, error_score=nan,\n",
       "             estimator=RandomForestClassifier(bootstrap=True, ccp_alpha=0.0,\n",
       "                                              class_weight='balanced',\n",
       "                                              criterion='gini', max_depth=None,\n",
       "                                              max_features='auto',\n",
       "                                              max_leaf_nodes=None,\n",
       "                                              max_samples=None,\n",
       "                                              min_impurity_decrease=0.0,\n",
       "                                              min_impurity_split=None,\n",
       "                                              min_samples_leaf=1,\n",
       "                                              min_samples_split=2,\n",
       "                                              min_weight_fraction_leaf=0.0,\n",
       "                                              n_estimators=100, n_jobs=-1,\n",
       "                                              oob_score=False, random_state=42,\n",
       "                                              verbose=0, warm_start=False),\n",
       "             iid='deprecated', n_jobs=None,\n",
       "             param_grid={'max_depth': [4, 5, 6, 7, 8],\n",
       "                         'n_estimators': [100, 200, 500]},\n",
       "             pre_dispatch='2*n_jobs', refit=True, return_train_score=False,\n",
       "             scoring='f1', verbose=0)"
      ]
     },
     "execution_count": 79,
     "metadata": {},
     "output_type": "execute_result"
    }
   ],
   "source": [
    "#With all the features\n",
    "from sklearn.ensemble import RandomForestClassifier\n",
    "rfc = RandomForestClassifier(random_state=42,n_jobs=-1, class_weight='balanced')\n",
    "param_grid = {\n",
    "    'n_estimators': [100, 200, 500],\n",
    "    'max_depth':[4,5,6,7,8]\n",
    "}\n",
    "# Find the best parameters for both the feature extraction and the classifier\n",
    "CV_rfc = GridSearchCV(estimator=rfc, param_grid=param_grid, cv=5, scoring = 'f1')\n",
    "CV_rfc.fit(X_train_bow_feats_2, y_train)\n"
   ]
  },
  {
   "cell_type": "code",
   "execution_count": 80,
   "metadata": {},
   "outputs": [
    {
     "data": {
      "text/plain": [
       "{'max_depth': 8, 'n_estimators': 500}"
      ]
     },
     "execution_count": 80,
     "metadata": {},
     "output_type": "execute_result"
    }
   ],
   "source": [
    "CV_rfc.best_params_"
   ]
  },
  {
   "cell_type": "code",
   "execution_count": 81,
   "metadata": {},
   "outputs": [
    {
     "data": {
      "text/plain": [
       "array([1, 0, 0, ..., 1, 1, 0])"
      ]
     },
     "execution_count": 81,
     "metadata": {},
     "output_type": "execute_result"
    }
   ],
   "source": [
    "y_pred_class_rfc = CV_rfc.predict(X_test_bow_feats_2)\n",
    "y_pred_class_rfc"
   ]
  },
  {
   "cell_type": "code",
   "execution_count": 82,
   "metadata": {},
   "outputs": [
    {
     "name": "stdout",
     "output_type": "stream",
     "text": [
      "Confusion Matrix: \n",
      " [[20499  4568]\n",
      " [  554  4379]]\n"
     ]
    }
   ],
   "source": [
    "print(f'Confusion Matrix: \\n {metrics.confusion_matrix(y_test, y_pred_class_rfc)}')"
   ]
  },
  {
   "cell_type": "code",
   "execution_count": 83,
   "metadata": {},
   "outputs": [
    {
     "name": "stdout",
     "output_type": "stream",
     "text": [
      "Classification Report: \n",
      "\n",
      "               precision    recall  f1-score   support\n",
      "\n",
      "           0       0.97      0.82      0.89     25067\n",
      "           1       0.49      0.89      0.63      4933\n",
      "\n",
      "    accuracy                           0.83     30000\n",
      "   macro avg       0.73      0.85      0.76     30000\n",
      "weighted avg       0.89      0.83      0.85     30000\n",
      "\n"
     ]
    }
   ],
   "source": [
    "print(f'Classification Report: \\n\\n {metrics.classification_report(y_test, y_pred_class_rfc)}')"
   ]
  },
  {
   "cell_type": "code",
   "execution_count": 84,
   "metadata": {},
   "outputs": [
    {
     "data": {
      "text/plain": [
       "(array([ 124.,    2.,    5.,   17.,    6.,  100.,   72.,   37.,   53.,\n",
       "        1632.]),\n",
       " array([0. , 0.1, 0.2, 0.3, 0.4, 0.5, 0.6, 0.7, 0.8, 0.9, 1. ]),\n",
       " <a list of 10 Patch objects>)"
      ]
     },
     "execution_count": 84,
     "metadata": {},
     "output_type": "execute_result"
    },
    {
     "data": {
      "image/png": "[encoded data removed]",
      "text/plain": [
       "<Figure size 1440x720 with 1 Axes>"
      ]
     },
     "metadata": {
      "needs_background": "light"
     },
     "output_type": "display_data"
    }
   ],
   "source": [
    "recalls = calculate_recall_distribution(X_test, y_pred_class_rfc, y_test)\n",
    "ids = [item[0] for item in recalls ]\n",
    "recalls = [item[1] for item in recalls ]\n",
    "recalls_df_rf = pd.DataFrame(ids , columns=['id'])\n",
    "recalls_df_rf['recalls']= recalls\n",
    "\n",
    "plt.figure(figsize=(20,10))\n",
    "\n",
    "plt.hist(recalls_df_rf['recalls'])"
   ]
  },
  {
   "cell_type": "code",
   "execution_count": 85,
   "metadata": {},
   "outputs": [
    {
     "name": "stdout",
     "output_type": "stream",
     "text": [
      "Real Summary: \n",
      "\n",
      "Stop what you re doing. Take a break. Focus on your senses. Take some deep breaths. Inhale slowly through your nose. Try to relax your muscles. Get some exercise. Recognize what stress looks like for you. Identify the cause of your stress. Acknowledge your role. Determine if you re stressing about something that is in the past. Determine whether you re stressed about the future. Practice relaxation. Inhale deeply through your nose. Think about something else. Choose your response. Make a plan. Be realistic. Take one step at a time. Stop procrastinating. Practice mindfulness. Try a self compassion break. Use the RAIN reminder. Repeat positive statements. Release stress productively. Cry if you want to. Listen to some soothing music. Take a hot shower or bath \n",
      "\n",
      "Predicted Summary: \n",
      "\n",
      "Stop what you re doing. Take a break. I can do this. Focus on your senses. My heart is beating very fast. My palms feel sweaty. I feel nauseated. Take some deep breaths. Aim to breathe from your diaphragm instead. Inhale slowly through your nose. Hold the breath for seconds. Then, slowly exhale through your nose or mouth. Try to relax your muscles. There are several free guided PMR routines online. MIT has a free minute audio guide to doing PMR. Loosen tight clothing if possible. Breathe evenly as you do your PMR groups. Squeeze your eyes shut tightly for seconds, then release the tension. Give yourself seconds to notice how these areas feel. Move to the next group. Purse your lips tightly for seconds, then release. Give yourself a second relaxation break between groups. Get some exercise. Exercise may also have a preventive effect. Try exercises such as yoga and tai chi. Recognize what stress looks like for you. Identify the cause of your stress. Common sources of stress include Family. School or work. You may worry about feeling good enough. Acknowledge your role. Take a step back and consider how you think about stress. Try thinking about your past in a more productive way. Determine whether you re stressed about the future. We all worry about our futures at some point. Remember the future isn t set. I could even fail the semester. Then, consider whether you could handle it. Chances are almost always yes. Finally, consider the real likelihood that this will occur. Practice relaxation. Inhale deeply through your nose. Think about something else. Get away from the cause of the stress. Acknowledge that anxiety is not always bad. Choose your response. You can choose to refocus your thinking. Consider some questions when deciding your approach. Can you avoid it. Can you alter it. Can you accept it. Some things you simply cannot change. You cannot change or control others feelings, actions, or reactions. Make a plan. Additionally, many stressful situations are avoidable. An ounce of prevention is worth a pound of cure. Be realistic. Learn from your experience, but let it go. Take one step at a time. Just focus on one small goal at a time. Stop procrastinating. Often, perfectionism is a culprit. Remind yourself that you cannot control outcomes, only actions. Acknowledge that perfection is an unrealistic standard. Watch out for should statements. Everyone makes mistakes in life. Practice mindfulness. Stress can be a great motivator. Try it for minutes a day. Begin with a handful of raisins. Take one between your fingers and hold it. Make a mental note of what the raisin feels like. Examine the raisin visually. Notice its colors, its shape, its textures. Smell the raisin. Enjoy any aroma that you smell. Try to describe it to yourself. Place the raisin on your tongue. Notice how it feels there. Can you feel the weight. Taste the raisin by taking a small bite. Swallow the raisin. What muscles are you using. What does it feel like. Try a self compassion break. Think of the stressful situation. Use the RAIN reminder. It stands for Recognize what is going on. Investigate with kindness. She makes me so mad. I made a mistake that I can acknowledge. We can work together to solve this issue. Natural awareness arises from not over personalizing the experience. Avoid having your TV, computer, or cellphone on. Close your eyes and breathe evenly and deeply. Begin by focusing just on your breath. Notice your sensations without judgment. MITand the UCLA Mindful Awareness Research Centerboth have online MP meditations. Repeat positive statements. I can do my best. That is enough. I am bigger than my problems. My mistakes do not define me. I am human. We all make errors. Release stress productively. Cry if you want to. Listen to some soothing music. Take a hot shower or bath\n",
      "None\n"
     ]
    }
   ],
   "source": [
    "#New text never before seen and make predictions on it \n",
    "text_1_df = pd.read_csv('./datasets/text_1.csv')\n",
    "text_1_vectors = vectorizer.transform(text_1_df['sentence'])\n",
    "text_1_df['title_similarity'] = text_1_df.apply(lambda x: get_similarity(x['sentence'], x['title']), axis=1)\n",
    "text_1_feat = prediction_preprocessing(text_1_df)\n",
    "text_1_full_feats = scipy.sparse.hstack([text_1_vectors,text_1_feat])\n",
    "pred_text_1_rf = CV_rfc.predict(text_1_full_feats)\n",
    "results_text_1_rf = text_1_df[['sentence','is_summary']]\n",
    "results_text_1_rf['predictions'] = pred_text_1_rf\n",
    "print(recreate_summaries(results_text_1_rf))"
   ]
  },
  {
   "cell_type": "code",
   "execution_count": 86,
   "metadata": {},
   "outputs": [
    {
     "name": "stdout",
     "output_type": "stream",
     "text": [
      "Real Summary: \n",
      "\n",
      "Know that everyone has their own unique experience with grief. Acknowledge that there are many kinds of loss. Recognize that stages of mourning do not really exist. Distinguish between grief and mourning. Learn about the necessary tasks of mourning. Acknowledge that you and others may not experience grief the same way. Recognize physical symptoms of grief. Recognize emotional symptoms of grief. Recognize signs of grief in children. Recognize signs of complicated grief. Acknowledge your emotions. Express your feelings through a tangible medium. Acknowledge that your grief is yours. Maintain your physical health. Avoid using alcohol, drugs, or food to deal with your grief. Do things that you enjoy. Prepare for things that may trigger your grief. Pamper yourself. Look to family members and friends for support. Join a support group. Speak with a grief counselor or therapist. Find comfort in the things you believe in. Get involved with your community. Allow yourself to remember your loss. Recognize that you are changed by loss. Allow yourself to feel shock. Recognize denial. Know that you may feel anger. Know that at some point you may make mental bargains. Allow yourself to feel great sadness. Search for acceptance within yourself \n",
      "\n",
      "Predicted Summary: \n",
      "\n",
      "Know that everyone has their own unique experience with grief. Allow yourself to feel your own unique emotions and acknowledge your unique experience. Acknowledge that there are many kinds of loss. Do not be afraid to mourn. Acknowledge your emotions as a natural response. There are many losses you may experience in life. No loss is greater or less than any other. Recognize that stages of mourning do not really exist. Avoid expecting yourself to progress through particular stages. Elisabeth Kübler Ross famously defined five stages of emotional reaction to death and dying in. These stages are denial, anger, bargaining, depression, and acceptance. Distinguish between grief and mourning. Grief includes your emotions and thoughts after you experience a loss. You cannot control your experience of grief. Grief may feel like a rollercoaster. The full mourning process may take years, even a lifetime. Learn about the necessary tasks of mourning. These tasks are Accepting the reality of loss. This can take time. Processing grief. Grief in response to a loss is a natural emotional reaction. Adjusting to the world after loss. Recognize physical symptoms of grief. Recognize emotional symptoms of grief. Grief is emotionally complex and deeply personal. These are all natural reactions to grief. Recognize signs of grief in children. These signs include Emotional shock. S he may refuse to talk about the loss. Regressive or immature behaviors. Explosive behavior and misbehaving. Repeating questions. Defensive behavior. Defensive behavior attempts to distract the child from his or her feelings. Physical symptoms. Grief and anxiety often manifest themselves in physical symptoms, particularly in very young children. Symptoms such as headaches and stomachaches are common. Recognize signs of complicated grief. Acknowledge your emotions. Express your feelings through a tangible medium. Acknowledge that your grief is yours. Maintain your physical health. Eat a healthy, balanced diet with plenty of fresh fruits and vegetables, whole grains, and lean proteins. These may worsen feelings of depression. Get at least minutes of moderate physical exercise per day. Avoid using alcohol, drugs, or food to deal with your grief. Use these as prescribed by your doctor. Do things that you enjoy. Prepare for things that may trigger your grief. This is completely normal. Pamper yourself. Look to family members and friends for support. Join a support group. Speak with a grief counselor or therapist. Find comfort in the things you believe in. Get involved with your community. Allow yourself to remember your loss. Allow yourself to remember your loved one. Do what feels best for you. Recognize that you are changed by loss. Allow yourself to feel shock. This is normal. Recognize denial. Know that you may feel anger. You might find yourself dwelling on if onlys. Allow yourself to feel great sadness. You may feel empty or depressed. Search for acceptance within yourself\n",
      "None\n"
     ]
    }
   ],
   "source": [
    "#New text never before seen and make predictions on it \n",
    "text_2_df = pd.read_csv('./datasets/text_2.csv')\n",
    "text_2_vectors = vectorizer.transform(text_2_df['sentence'])\n",
    "text_2_df['title_similarity'] = text_2_df.apply(lambda x: get_similarity(x['sentence'], x['title']), axis=1)\n",
    "text_2_feat = prediction_preprocessing(text_2_df)\n",
    "text_2_full_feats = scipy.sparse.hstack([text_2_vectors,text_2_feat])\n",
    "pred_text_2_rf = CV_rfc.predict(text_2_full_feats)\n",
    "results_text_2_rf = text_2_df[['sentence','is_summary']]\n",
    "results_text_2_rf['predictions'] = pred_text_2_rf\n",
    "print(recreate_summaries(results_text_2_rf))"
   ]
  },
  {
   "cell_type": "code",
   "execution_count": 87,
   "metadata": {},
   "outputs": [
    {
     "name": "stdout",
     "output_type": "stream",
     "text": [
      "Real Summary: \n",
      "\n",
      "Think about the time commitment of ferret proofing your home. See if you have enough time to play with a ferret. Remember that ferrets require training. Keep cleaning time in mind. Remember a ferret s lifespan. Consider other factors. Avoid a ferret if you have young children. Think about how busy your home is. Consider your other pets. Decide whether you can tolerate the smell. Make sure you can legally keep a ferret in your home. Learn about adoption and purchase fees. Make sure you can afford vaccinations. Consider the cost of sterilization. Weigh in other general costs of care \n",
      "\n",
      "Predicted Summary: \n",
      "\n",
      "Think about the time commitment of ferret proofing your home. Ferrets will chew such objects. Ferrets are social animals. Ferrets do sleep a lot. Remember that ferrets require training. Also, ferrets must be taught proper behavior. Ferrets are intelligent and highly trainable. However, like any animal, training takes time and persistence. Keep cleaning time in mind. Remember a ferret s lifespan. Ferrets live between to years. Think about the stability of your living situation. Consider other factors. Avoid a ferret if you have young children. Ferrets do not do well with young children. Ferrets will bite if handled roughly. Think about how busy your home is. First, ferrets are underfoot a lot. Second, ferrets have tendency to escape. Consider your other pets. Cats and dogs are often aggressive with ferrets. Decide whether you can tolerate the smell. Ferrets come with a strong odor. The scent glands a ferret uses to mark territory secrete oil, leaving a musty scent in your home. Also, think about legally housing a ferret. Check with your landlord before adopting a ferret. Learn about adoption and purchase fees. Ferrets are not cheap. Not all vets are familiar with treating ferrets. Consider the cost of sterilization. Weigh in other general costs of care\n",
      "None\n"
     ]
    }
   ],
   "source": [
    "#New text never before seen and make predictions on it \n",
    "text_3_df = pd.read_csv('./datasets/text_3.csv')\n",
    "text_3_vectors = vectorizer.transform(text_3_df['sentence'])\n",
    "text_3_df['title_similarity'] = text_3_df.apply(lambda x: get_similarity(x['sentence'], x['title']), axis=1)\n",
    "text_3_feat = prediction_preprocessing(text_3_df)\n",
    "text_3_full_feats = scipy.sparse.hstack([text_3_vectors,text_3_feat])\n",
    "pred_text_3_rf = CV_rfc.predict(text_3_full_feats)\n",
    "results_text_3_rf = text_3_df[['sentence','is_summary']]\n",
    "results_text_3_rf['predictions'] = pred_text_3_rf\n",
    "print(recreate_summaries(results_text_3_rf))"
   ]
  },
  {
   "cell_type": "code",
   "execution_count": 88,
   "metadata": {},
   "outputs": [
    {
     "name": "stdout",
     "output_type": "stream",
     "text": [
      "Real Compression: 0.0830860534124629 \n",
      "\n",
      "Predicted Compression: 0.32344213649851633 \n",
      "\n",
      "Recall: 0.9642857142857143\n",
      "None\n",
      "Real Compression: 0.11742424242424243 \n",
      "\n",
      "Predicted Compression: 0.25757575757575757 \n",
      "\n",
      "Recall: 0.9354838709677419\n",
      "None\n",
      "Real Compression: 0.14150943396226415 \n",
      "\n",
      "Predicted Compression: 0.29245283018867924 \n",
      "\n",
      "Recall: 0.8\n",
      "None\n"
     ]
    }
   ],
   "source": [
    "print(calculate_compression(results_text_1_rf))\n",
    "print(calculate_compression(results_text_2_rf))\n",
    "print(calculate_compression(results_text_3_rf))"
   ]
  },
  {
   "cell_type": "code",
   "execution_count": 89,
   "metadata": {},
   "outputs": [
    {
     "data": {
      "text/plain": [
       "GridSearchCV(cv=5, error_score=nan,\n",
       "             estimator=RandomForestClassifier(bootstrap=True, ccp_alpha=0.0,\n",
       "                                              class_weight='balanced',\n",
       "                                              criterion='gini', max_depth=None,\n",
       "                                              max_features='auto',\n",
       "                                              max_leaf_nodes=None,\n",
       "                                              max_samples=None,\n",
       "                                              min_impurity_decrease=0.0,\n",
       "                                              min_impurity_split=None,\n",
       "                                              min_samples_leaf=1,\n",
       "                                              min_samples_split=2,\n",
       "                                              min_weight_fraction_leaf=0.0,\n",
       "                                              n_estimators=100, n_jobs=-1,\n",
       "                                              oob_score=False, random_state=42,\n",
       "                                              verbose=0, warm_start=False),\n",
       "             iid='deprecated', n_jobs=None,\n",
       "             param_grid={'max_depth': [4, 5, 6, 7, 8],\n",
       "                         'n_estimators': [100, 200, 500]},\n",
       "             pre_dispatch='2*n_jobs', refit=True, return_train_score=False,\n",
       "             scoring='f1', verbose=0)"
      ]
     },
     "execution_count": 89,
     "metadata": {},
     "output_type": "execute_result"
    }
   ],
   "source": [
    "rfc_lda = RandomForestClassifier(random_state=42,n_jobs=-1, class_weight='balanced')\n",
    "param_grid = {\n",
    "    'n_estimators': [100, 200, 500],\n",
    "    'max_depth':[4,5,6,7,8]\n",
    "}\n",
    "# Find the best parameters for both the feature extraction and the classifier\n",
    "CV_rfc_lda = GridSearchCV(estimator=rfc_lda, param_grid=param_grid, cv=5, scoring = 'f1')\n",
    "CV_rfc_lda.fit(X_train_feats_lda, y_train)"
   ]
  },
  {
   "cell_type": "code",
   "execution_count": 90,
   "metadata": {},
   "outputs": [
    {
     "data": {
      "text/plain": [
       "{'max_depth': 6, 'n_estimators': 100}"
      ]
     },
     "execution_count": 90,
     "metadata": {},
     "output_type": "execute_result"
    }
   ],
   "source": [
    "CV_rfc_lda.best_params_"
   ]
  },
  {
   "cell_type": "code",
   "execution_count": 91,
   "metadata": {},
   "outputs": [
    {
     "data": {
      "text/plain": [
       "array([1, 0, 0, ..., 1, 1, 0])"
      ]
     },
     "execution_count": 91,
     "metadata": {},
     "output_type": "execute_result"
    }
   ],
   "source": [
    "y_pred_class_rf = CV_rfc_lda.predict(X_test_feats_lda)\n",
    "y_pred_class_rf"
   ]
  },
  {
   "cell_type": "code",
   "execution_count": 92,
   "metadata": {},
   "outputs": [
    {
     "name": "stdout",
     "output_type": "stream",
     "text": [
      "Confusion Matrix: \n",
      " [[20248  4819]\n",
      " [  543  4390]]\n"
     ]
    }
   ],
   "source": [
    "print(f'Confusion Matrix: \\n {metrics.confusion_matrix(y_test, y_pred_class_rf)}')"
   ]
  },
  {
   "cell_type": "code",
   "execution_count": 93,
   "metadata": {},
   "outputs": [
    {
     "name": "stdout",
     "output_type": "stream",
     "text": [
      "Classification Report: \n",
      "\n",
      "               precision    recall  f1-score   support\n",
      "\n",
      "           0       0.97      0.81      0.88     25067\n",
      "           1       0.48      0.89      0.62      4933\n",
      "\n",
      "    accuracy                           0.82     30000\n",
      "   macro avg       0.73      0.85      0.75     30000\n",
      "weighted avg       0.89      0.82      0.84     30000\n",
      "\n"
     ]
    }
   ],
   "source": [
    "print(f'Classification Report: \\n\\n {metrics.classification_report(y_test, y_pred_class_rf)}')"
   ]
  },
  {
   "cell_type": "code",
   "execution_count": 94,
   "metadata": {},
   "outputs": [
    {
     "data": {
      "text/plain": [
       "(array([1.220e+02, 1.000e+00, 3.000e+00, 2.000e+01, 8.000e+00, 9.000e+01,\n",
       "        7.200e+01, 3.600e+01, 4.200e+01, 1.654e+03]),\n",
       " array([0. , 0.1, 0.2, 0.3, 0.4, 0.5, 0.6, 0.7, 0.8, 0.9, 1. ]),\n",
       " <a list of 10 Patch objects>)"
      ]
     },
     "execution_count": 94,
     "metadata": {},
     "output_type": "execute_result"
    },
    {
     "data": {
      "image/png": "[encoded data removed]",
      "text/plain": [
       "<Figure size 1440x720 with 1 Axes>"
      ]
     },
     "metadata": {
      "needs_background": "light"
     },
     "output_type": "display_data"
    }
   ],
   "source": [
    "recalls = calculate_recall_distribution(X_test, y_pred_class_rf, y_test)\n",
    "ids = [item[0] for item in recalls ]\n",
    "recalls = [item[1] for item in recalls ]\n",
    "recalls_df_rf_lda = pd.DataFrame(ids , columns=['id'])\n",
    "recalls_df_rf_lda['recalls']= recalls\n",
    "\n",
    "plt.figure(figsize=(20,10))\n",
    "\n",
    "plt.hist(recalls_df_rf_lda['recalls'])"
   ]
  },
  {
   "cell_type": "code",
   "execution_count": 95,
   "metadata": {},
   "outputs": [
    {
     "name": "stdout",
     "output_type": "stream",
     "text": [
      "Real Summary: \n",
      "\n",
      "Stop what you re doing. Take a break. Focus on your senses. Take some deep breaths. Inhale slowly through your nose. Try to relax your muscles. Get some exercise. Recognize what stress looks like for you. Identify the cause of your stress. Acknowledge your role. Determine if you re stressing about something that is in the past. Determine whether you re stressed about the future. Practice relaxation. Inhale deeply through your nose. Think about something else. Choose your response. Make a plan. Be realistic. Take one step at a time. Stop procrastinating. Practice mindfulness. Try a self compassion break. Use the RAIN reminder. Repeat positive statements. Release stress productively. Cry if you want to. Listen to some soothing music. Take a hot shower or bath \n",
      "\n",
      "Predicted Summary: \n",
      "\n",
      "Stop what you re doing. Take a break. I can do this. Focus on your senses. My heart is beating very fast. My palms feel sweaty. I feel nauseated. Take some deep breaths. Aim to breathe from your diaphragm instead. Inhale slowly through your nose. Hold the breath for seconds. Then, slowly exhale through your nose or mouth. Aim to exhale for a count if you can. Try to relax your muscles. PMR focuses on consciously tensing and then releasing muscles by groups. There are several free guided PMR routines online. Berkeley has a script you can follow along with. MIT has a free minute audio guide to doing PMR. Find a quiet, comfortable place if you can. Loosen tight clothing if possible. Breathe evenly as you do your PMR groups. Give yourself seconds to notice how these areas feel. Move to the next group. Purse your lips tightly for seconds, then release. Give yourself a second relaxation break between groups. Get some exercise. Exercise may also have a preventive effect. Try exercises such as yoga and tai chi. Recognize what stress looks like for you. Identify the cause of your stress. Common sources of stress include Family. School or work. These sources can be intense. You may worry about feeling good enough. Acknowledge your role. Take a step back and consider how you think about stress. For example, perhaps you think, My family are all worriers. Try thinking about your past in a more productive way. Determine whether you re stressed about the future. We all worry about our futures at some point. Remember the future isn t set. I could even fail the semester. Then, consider whether you could handle it. Chances are almost always yes. Finally, consider the real likelihood that this will occur. Practice relaxation. Inhale deeply through your nose. Think about something else. Visualize relaxing things, such as a deserted island or a country road. Get away from the cause of the stress. Acknowledge that anxiety is not always bad. Choose your response. You can choose to refocus your thinking. Consider some questions when deciding your approach. Can you avoid it. You can sometimes avoid stressors, thereby changing the situation. Can you alter it. Can you adapt to it. Can you accept it. Some things you simply cannot change. You cannot change or control others feelings, actions, or reactions. Make a plan. Additionally, many stressful situations are avoidable. An ounce of prevention is worth a pound of cure. Be realistic. Learn from your experience, but let it go. Take one step at a time. Just focus on one small goal at a time. Show yourself patience and kindness as you enact your plans. Stop procrastinating. Often, perfectionism is a culprit. Remind yourself that you cannot control outcomes, only actions. The rest of it is out of your hands. Acknowledge that perfection is an unrealistic standard. Watch out for should statements. Everyone makes mistakes in life. Practice mindfulness. Stress can be a great motivator. Try it for minutes a day. Begin with a handful of raisins. Take one between your fingers and hold it. Turn it around, notice its texture, its ridges and valleys. Make a mental note of what the raisin feels like. Examine the raisin visually. Notice its colors, its shape, its textures. Smell the raisin. Enjoy any aroma that you smell. Try to describe it to yourself. Place the raisin on your tongue. Notice how it feels there. Can you feel the weight. Taste the raisin by taking a small bite. Try to discern what muscles you re using to chew. Swallow the raisin. What muscles are you using. What does it feel like. Try a self compassion break. Think of the stressful situation. Use the RAIN reminder. It stands for Recognize what is going on. For example, I am feeling very angry and stressed right now. Investigate with kindness. She makes me so mad. I made a mistake that I can acknowledge. We can work together to solve this issue. Natural awareness arises from not over personalizing the experience. Begin by finding a quiet place without distractions or interruptions. Avoid having your TV, computer, or cellphone on. Close your eyes and breathe evenly and deeply. Begin by focusing just on your breath. Notice your sensations without judgment. You can also find free audio meditations online. MITand the UCLA Mindful Awareness Research Centerboth have online MP meditations. Repeat positive statements. Here are some examples I can do this. I can do my best. That is all I can do. That is enough. I am bigger than my problems. My mistakes do not define me. I am human. We all make errors. This is temporary and will pass. I can ask for help when I need it. Release stress productively. Try something less harmful, like squeezing a stress ball or doodling. Cry if you want to. Sometimes, you just need to cry. Listen to some soothing music. Take a hot shower or bath\n",
      "None\n"
     ]
    }
   ],
   "source": [
    "#New text never before seen and make predictions on it \n",
    "text_1_df = pd.read_csv('./datasets/text_1.csv')\n",
    "text_1_vectors = vectorizer.transform(text_1_df['sentence'])\n",
    "text_1_df['title_similarity'] = text_1_df.apply(lambda x: get_similarity(x['sentence'], x['title']), axis=1)\n",
    "text_1_feat = prediction_preprocessing(text_1_df)\n",
    "text_1_full_feats = scipy.sparse.hstack([text_1_vectors,text_1_feat])\n",
    "lda_dtf_text_1 = lda.transform(text_1_vectors)\n",
    "text_1_feats_lda = scipy.sparse.hstack([text_1_full_feats,lda_dtf_text_1])\n",
    "pred_text_1_rf = CV_rfc_lda.predict(text_1_feats_lda)\n",
    "results_text_1_rf = text_1_df[['sentence','is_summary']]\n",
    "results_text_1_rf['predictions'] = pred_text_1_rf\n",
    "print(recreate_summaries(results_text_1_rf))"
   ]
  },
  {
   "cell_type": "code",
   "execution_count": 96,
   "metadata": {},
   "outputs": [
    {
     "name": "stdout",
     "output_type": "stream",
     "text": [
      "Real Summary: \n",
      "\n",
      "Know that everyone has their own unique experience with grief. Acknowledge that there are many kinds of loss. Recognize that stages of mourning do not really exist. Distinguish between grief and mourning. Learn about the necessary tasks of mourning. Acknowledge that you and others may not experience grief the same way. Recognize physical symptoms of grief. Recognize emotional symptoms of grief. Recognize signs of grief in children. Recognize signs of complicated grief. Acknowledge your emotions. Express your feelings through a tangible medium. Acknowledge that your grief is yours. Maintain your physical health. Avoid using alcohol, drugs, or food to deal with your grief. Do things that you enjoy. Prepare for things that may trigger your grief. Pamper yourself. Look to family members and friends for support. Join a support group. Speak with a grief counselor or therapist. Find comfort in the things you believe in. Get involved with your community. Allow yourself to remember your loss. Recognize that you are changed by loss. Allow yourself to feel shock. Recognize denial. Know that you may feel anger. Know that at some point you may make mental bargains. Allow yourself to feel great sadness. Search for acceptance within yourself \n",
      "\n",
      "Predicted Summary: \n",
      "\n",
      "Acknowledge that there are many kinds of loss. Do not be afraid to mourn. Acknowledge your emotions as a natural response. There are many losses you may experience in life. No loss is greater or less than any other. Recognize that stages of mourning do not really exist. Avoid expecting yourself to progress through particular stages. These stages are denial, anger, bargaining, depression, and acceptance. Distinguish between grief and mourning. Grief includes your emotions and thoughts after you experience a loss. You cannot control your experience of grief. Many cultures and religions offer guidelines for how to mourn. Grief may feel like a rollercoaster. The full mourning process may take years, even a lifetime. Learn about the necessary tasks of mourning. These tasks are Accepting the reality of loss. This can take time. Processing grief. Grief in response to a loss is a natural emotional reaction. Adjusting to the world after loss. Recognize physical symptoms of grief. Recognize emotional symptoms of grief. Grief is emotionally complex and deeply personal. These are all natural reactions to grief. Recognize signs of grief in children. These signs include Emotional shock. S he may refuse to talk about the loss. Regressive or immature behaviors. Explosive behavior and misbehaving. The child may act out or explode with sudden bursts of emotion. These emotions commonly include feelings of anger, frustration, confusion, or helplessness. Repeating questions. Defensive behavior. Physical symptoms. Symptoms such as headaches and stomachaches are common. Recognize signs of complicated grief. Acknowledge your emotions. Express your feelings through a tangible medium. Personal rituals may also help you process your grief. Acknowledge that your grief is yours. One good example of this is crying. Maintain your physical health. These may worsen feelings of depression. Use these as prescribed by your doctor. Do things that you enjoy. Prepare for things that may trigger your grief. This is completely normal. Pamper yourself. Look to family members and friends for support. Join a support group. Speak with a grief counselor or therapist. Find comfort in the things you believe in. Get involved with your community. Allow yourself to remember your loss. Allow yourself to remember your loved one. Do what feels best for you. Recognize that you are changed by loss. Allow yourself to feel shock. This is normal. Recognize denial. Know that you may feel anger. Anger can be directed at a certain person, event, or thing. You might find yourself dwelling on if onlys. Allow yourself to feel great sadness. You may feel empty or depressed. Search for acceptance within yourself\n",
      "None\n"
     ]
    }
   ],
   "source": [
    "#New text never before seen and make predictions on it \n",
    "text_2_df = pd.read_csv('./datasets/text_2.csv')\n",
    "text_2_vectors = vectorizer.transform(text_2_df['sentence'])\n",
    "text_2_df['title_similarity'] = text_2_df.apply(lambda x: get_similarity(x['sentence'], x['title']), axis=1)\n",
    "text_2_feat = prediction_preprocessing(text_2_df)\n",
    "text_2_full_feats = scipy.sparse.hstack([text_2_vectors,text_2_feat])\n",
    "lda_dtf_text_2 = lda.transform(text_2_vectors)\n",
    "text_2_feats_lda = scipy.sparse.hstack([text_2_full_feats,lda_dtf_text_2])\n",
    "pred_text_2_rf = CV_rfc_lda.predict(text_2_feats_lda)\n",
    "results_text_2_rf = text_2_df[['sentence','is_summary']]\n",
    "results_text_2_rf['predictions'] = pred_text_2_rf\n",
    "print(recreate_summaries(results_text_2_rf))"
   ]
  },
  {
   "cell_type": "code",
   "execution_count": 97,
   "metadata": {},
   "outputs": [
    {
     "data": {
      "text/plain": [
       "<264x3 sparse matrix of type '<class 'numpy.float64'>'\n",
       "\twith 792 stored elements in COOrdinate format>"
      ]
     },
     "execution_count": 97,
     "metadata": {},
     "output_type": "execute_result"
    }
   ],
   "source": [
    "#text_2_vectors\n",
    "text_2_feat"
   ]
  },
  {
   "cell_type": "code",
   "execution_count": 98,
   "metadata": {},
   "outputs": [
    {
     "name": "stdout",
     "output_type": "stream",
     "text": [
      "Real Summary: \n",
      "\n",
      "Think about the time commitment of ferret proofing your home. See if you have enough time to play with a ferret. Remember that ferrets require training. Keep cleaning time in mind. Remember a ferret s lifespan. Consider other factors. Avoid a ferret if you have young children. Think about how busy your home is. Consider your other pets. Decide whether you can tolerate the smell. Make sure you can legally keep a ferret in your home. Learn about adoption and purchase fees. Make sure you can afford vaccinations. Consider the cost of sterilization. Weigh in other general costs of care \n",
      "\n",
      "Predicted Summary: \n",
      "\n",
      "Think about the time commitment of ferret proofing your home. Ferrets will chew such objects. Ferrets are social animals. Ferrets do sleep a lot. Remember that ferrets require training. Also, ferrets must be taught proper behavior. Ferrets are intelligent and highly trainable. However, like any animal, training takes time and persistence. Keep cleaning time in mind. You will also need to periodically clean their cage. Remember a ferret s lifespan. Ferrets live between to years. Think about the stability of your living situation. Consider other factors. Avoid a ferret if you have young children. Ferrets do not do well with young children. Ferrets will bite if handled roughly. Ferrets can get along well with older children, however. Think about how busy your home is. First, ferrets are underfoot a lot. Second, ferrets have tendency to escape. Consider your other pets. Ferrets generally do best in a home without other pets. Cats and dogs are often aggressive with ferrets. Ferrets will pray on smaller animals, like mice and rats. Even during play, a dog or cat could accidentally harm a ferret. Decide whether you can tolerate the smell. Ferrets come with a strong odor. The scent glands a ferret uses to mark territory secrete oil, leaving a musty scent in your home. Also, think about legally housing a ferret. Check with your landlord before adopting a ferret. Learn about adoption and purchase fees. Ferrets are not cheap. Make sure you can afford vaccinations. Like all animals, ferrets need basic vaccinations to prevent diseases like rabies. Not all vets are familiar with treating ferrets. Consider the cost of sterilization. Weigh in other general costs of care. You will need extra money for vet bills\n",
      "None\n"
     ]
    }
   ],
   "source": [
    "#New text never before seen and make predictions on it \n",
    "text_3_df = pd.read_csv('./datasets/text_3.csv')\n",
    "text_3_vectors = vectorizer.transform(text_3_df['sentence'])\n",
    "text_3_df['title_similarity'] = text_3_df.apply(lambda x: get_similarity(x['sentence'], x['title']), axis=1)\n",
    "text_3_feat = prediction_preprocessing(text_3_df)\n",
    "text_3_full_feats = scipy.sparse.hstack([text_3_vectors,text_3_feat])\n",
    "lda_dtf_text_3 = lda.transform(text_3_vectors)\n",
    "text_3_feats_lda = scipy.sparse.hstack([text_3_full_feats,lda_dtf_text_3])\n",
    "pred_text_3_rf = CV_rfc_lda.predict(text_3_feats_lda)\n",
    "results_text_3_rf = text_3_df[['sentence','is_summary']]\n",
    "results_text_3_rf['predictions'] = pred_text_3_rf\n",
    "print(recreate_summaries(results_text_3_rf))"
   ]
  },
  {
   "cell_type": "code",
   "execution_count": 99,
   "metadata": {},
   "outputs": [
    {
     "name": "stdout",
     "output_type": "stream",
     "text": [
      "Real Compression: 0.0830860534124629 \n",
      "\n",
      "Predicted Compression: 0.3857566765578635 \n",
      "\n",
      "Recall: 0.9642857142857143\n",
      "None\n",
      "Real Compression: 0.11742424242424243 \n",
      "\n",
      "Predicted Compression: 0.25 \n",
      "\n",
      "Recall: 0.8709677419354839\n",
      "None\n",
      "Real Compression: 0.14150943396226415 \n",
      "\n",
      "Predicted Compression: 0.36792452830188677 \n",
      "\n",
      "Recall: 0.8666666666666667\n",
      "None\n"
     ]
    }
   ],
   "source": [
    "print(calculate_compression(results_text_1_rf))\n",
    "print(calculate_compression(results_text_2_rf))\n",
    "print(calculate_compression(results_text_3_rf))"
   ]
  },
  {
   "cell_type": "markdown",
   "metadata": {},
   "source": [
    "## Cross validate MultinomialNB and predict"
   ]
  },
  {
   "cell_type": "code",
   "execution_count": 100,
   "metadata": {},
   "outputs": [
    {
     "data": {
      "text/plain": [
       "{'alpha': 0.1}"
      ]
     },
     "execution_count": 100,
     "metadata": {},
     "output_type": "execute_result"
    }
   ],
   "source": [
    "nb_lda = MultinomialNB()\n",
    "param_grid = {'alpha': (0.1, 1, 5, 10, 50)}\n",
    "nb_CV_lda = GridSearchCV(estimator=nb_lda, param_grid=param_grid, cv=5, scoring = 'f1')\n",
    "nb_CV_lda.fit(X_train_feats_lda, y_train)\n",
    "nb_CV_lda.best_params_"
   ]
  },
  {
   "cell_type": "code",
   "execution_count": 101,
   "metadata": {},
   "outputs": [
    {
     "data": {
      "text/plain": [
       "array([0, 0, 0, ..., 1, 0, 0])"
      ]
     },
     "execution_count": 101,
     "metadata": {},
     "output_type": "execute_result"
    }
   ],
   "source": [
    "y_pred_class_nb = nb_CV_lda.predict(X_test_feats_lda)\n",
    "y_pred_class_nb"
   ]
  },
  {
   "cell_type": "code",
   "execution_count": 102,
   "metadata": {},
   "outputs": [
    {
     "name": "stdout",
     "output_type": "stream",
     "text": [
      "Confusion Matrix: \n",
      " [[23432  1635]\n",
      " [ 1296  3637]]\n"
     ]
    }
   ],
   "source": [
    "print(f'Confusion Matrix: \\n {metrics.confusion_matrix(y_test, y_pred_class_nb)}')"
   ]
  },
  {
   "cell_type": "code",
   "execution_count": 103,
   "metadata": {},
   "outputs": [
    {
     "name": "stdout",
     "output_type": "stream",
     "text": [
      "Classification Report: \n",
      "\n",
      "               precision    recall  f1-score   support\n",
      "\n",
      "           0       0.95      0.93      0.94     25067\n",
      "           1       0.69      0.74      0.71      4933\n",
      "\n",
      "    accuracy                           0.90     30000\n",
      "   macro avg       0.82      0.84      0.83     30000\n",
      "weighted avg       0.91      0.90      0.90     30000\n",
      "\n"
     ]
    }
   ],
   "source": [
    "print(f'Classification Report: \\n\\n {metrics.classification_report(y_test, y_pred_class_nb)}')"
   ]
  },
  {
   "cell_type": "code",
   "execution_count": 104,
   "metadata": {},
   "outputs": [
    {
     "data": {
      "text/plain": [
       "(array([ 275.,    3.,   17.,   48.,   20.,  270.,  118.,   80.,   58.,\n",
       "        1159.]),\n",
       " array([0. , 0.1, 0.2, 0.3, 0.4, 0.5, 0.6, 0.7, 0.8, 0.9, 1. ]),\n",
       " <a list of 10 Patch objects>)"
      ]
     },
     "execution_count": 104,
     "metadata": {},
     "output_type": "execute_result"
    },
    {
     "data": {
      "image/png": "[encoded data removed]",
      "text/plain": [
       "<Figure size 1440x720 with 1 Axes>"
      ]
     },
     "metadata": {
      "needs_background": "light"
     },
     "output_type": "display_data"
    }
   ],
   "source": [
    "recalls = calculate_recall_distribution(X_test, y_pred_class_nb, y_test)\n",
    "ids = [item[0] for item in recalls ]\n",
    "recalls = [item[1] for item in recalls ]\n",
    "recalls_df_nb_lda = pd.DataFrame(ids , columns=['id'])\n",
    "recalls_df_nb_lda['recalls']= recalls\n",
    "\n",
    "plt.figure(figsize=(20,10))\n",
    "\n",
    "plt.hist(recalls_df_nb_lda['recalls'])"
   ]
  },
  {
   "cell_type": "code",
   "execution_count": 105,
   "metadata": {},
   "outputs": [
    {
     "name": "stdout",
     "output_type": "stream",
     "text": [
      "Real Summary: \n",
      "\n",
      "Stop what you re doing. Take a break. Focus on your senses. Take some deep breaths. Inhale slowly through your nose. Try to relax your muscles. Get some exercise. Recognize what stress looks like for you. Identify the cause of your stress. Acknowledge your role. Determine if you re stressing about something that is in the past. Determine whether you re stressed about the future. Practice relaxation. Inhale deeply through your nose. Think about something else. Choose your response. Make a plan. Be realistic. Take one step at a time. Stop procrastinating. Practice mindfulness. Try a self compassion break. Use the RAIN reminder. Repeat positive statements. Release stress productively. Cry if you want to. Listen to some soothing music. Take a hot shower or bath \n",
      "\n",
      "Predicted Summary: \n",
      "\n",
      "Take a break. Focus on your senses. I feel nauseated. Try to relax your muscles. Loosen tight clothing if possible. Give yourself seconds to notice how these areas feel. Give yourself a second relaxation break between groups. Get some exercise. Recognize what stress looks like for you. Identify the cause of your stress. School or work. Acknowledge your role. Take a step back and consider how you think about stress. Determine whether you re stressed about the future. Remember the future isn t set. Practice relaxation. Think about something else. Choose your response. Be realistic. If that s the case, revise your timeline or lower your expectations. Learn from your experience, but let it go. Stop procrastinating. Often, perfectionism is a culprit. Watch out for should statements. Practice mindfulness. Try it for minutes a day. Examine the raisin visually. Smell the raisin. Place the raisin on your tongue. Try a self compassion break. Think of the stressful situation. Use the RAIN reminder. Investigate with kindness. Repeat positive statements. I am human. Cry if you want to. Listen to some soothing music. Take a hot shower or bath\n",
      "None\n"
     ]
    }
   ],
   "source": [
    "#New text never before seen and make predictions on it \n",
    "text_1_df = pd.read_csv('./datasets/text_1.csv')\n",
    "text_1_vectors = vectorizer.transform(text_1_df['sentence'])\n",
    "text_1_df['title_similarity'] = text_1_df.apply(lambda x: get_similarity(x['sentence'], x['title']), axis=1)\n",
    "text_1_feat = prediction_preprocessing(text_1_df)\n",
    "text_1_full_feats = scipy.sparse.hstack([text_1_vectors,text_1_feat])\n",
    "lda_dtf_text_1 = lda.transform(text_1_vectors)\n",
    "text_1_feats_lda = scipy.sparse.hstack([text_1_full_feats,lda_dtf_text_1])\n",
    "pred_text_1_nb = nb_CV_lda.predict(text_1_feats_lda)\n",
    "results_text_1_nb = text_1_df[['sentence','is_summary']]\n",
    "results_text_1_nb['predictions'] = pred_text_1_nb\n",
    "print(recreate_summaries(results_text_1_nb))"
   ]
  },
  {
   "cell_type": "code",
   "execution_count": 106,
   "metadata": {},
   "outputs": [
    {
     "name": "stdout",
     "output_type": "stream",
     "text": [
      "Real Summary: \n",
      "\n",
      "Know that everyone has their own unique experience with grief. Acknowledge that there are many kinds of loss. Recognize that stages of mourning do not really exist. Distinguish between grief and mourning. Learn about the necessary tasks of mourning. Acknowledge that you and others may not experience grief the same way. Recognize physical symptoms of grief. Recognize emotional symptoms of grief. Recognize signs of grief in children. Recognize signs of complicated grief. Acknowledge your emotions. Express your feelings through a tangible medium. Acknowledge that your grief is yours. Maintain your physical health. Avoid using alcohol, drugs, or food to deal with your grief. Do things that you enjoy. Prepare for things that may trigger your grief. Pamper yourself. Look to family members and friends for support. Join a support group. Speak with a grief counselor or therapist. Find comfort in the things you believe in. Get involved with your community. Allow yourself to remember your loss. Recognize that you are changed by loss. Allow yourself to feel shock. Recognize denial. Know that you may feel anger. Know that at some point you may make mental bargains. Allow yourself to feel great sadness. Search for acceptance within yourself \n",
      "\n",
      "Predicted Summary: \n",
      "\n",
      "Acknowledge your emotions as a natural response. Distinguish between grief and mourning. Learn about the necessary tasks of mourning. Processing grief. Recognize physical symptoms of grief. Recognize emotional symptoms of grief. Grief is emotionally complex and deeply personal. Recognize signs of grief in children. Regressive or immature behaviors. Defensive behavior. Physical symptoms. Recognize signs of complicated grief. Acknowledge your emotions. Express your feelings through a tangible medium. Acknowledge that your grief is yours. Maintain your physical health. Avoid highly processed foods and foods with a lot of fat or sugar. Focus on the good things about your relationship with your loved one. Pamper yourself. Look to family members and friends for support. Join a support group. Try to focus on positive memories and things you loved about your relationship. Allow yourself to feel shock. Recognize denial. Search for acceptance within yourself\n",
      "None\n"
     ]
    }
   ],
   "source": [
    "text_2_df = pd.read_csv('./datasets/text_2.csv')\n",
    "text_2_vectors = vectorizer.transform(text_2_df['sentence'])\n",
    "text_2_df['title_similarity'] = text_2_df.apply(lambda x: get_similarity(x['sentence'], x['title']), axis=1)\n",
    "text_2_feat = prediction_preprocessing(text_2_df)\n",
    "text_2_full_feats = scipy.sparse.hstack([text_2_vectors,text_2_feat])\n",
    "lda_dtf_text_2 = lda.transform(text_2_vectors)\n",
    "text_2_feats_lda = scipy.sparse.hstack([text_2_full_feats,lda_dtf_text_2])\n",
    "pred_text_2_nb = nb_CV_lda.predict(text_2_feats_lda)\n",
    "results_text_2_nb = text_2_df[['sentence','is_summary']]\n",
    "results_text_2_nb['predictions'] = pred_text_2_nb\n",
    "print(recreate_summaries(results_text_2_nb))"
   ]
  },
  {
   "cell_type": "code",
   "execution_count": 107,
   "metadata": {},
   "outputs": [
    {
     "name": "stdout",
     "output_type": "stream",
     "text": [
      "Real Summary: \n",
      "\n",
      "Think about the time commitment of ferret proofing your home. See if you have enough time to play with a ferret. Remember that ferrets require training. Keep cleaning time in mind. Remember a ferret s lifespan. Consider other factors. Avoid a ferret if you have young children. Think about how busy your home is. Consider your other pets. Decide whether you can tolerate the smell. Make sure you can legally keep a ferret in your home. Learn about adoption and purchase fees. Make sure you can afford vaccinations. Consider the cost of sterilization. Weigh in other general costs of care \n",
      "\n",
      "Predicted Summary: \n",
      "\n",
      "Think about the time commitment of ferret proofing your home. Ferrets will chew such objects. Ferrets do sleep a lot. Remember a ferret s lifespan. Think about the stability of your living situation. Consider other factors. Think about how busy your home is. First, ferrets are underfoot a lot. Consider your other pets. Also, think about legally housing a ferret. Check with your landlord before adopting a ferret. Learn about adoption and purchase fees. Consider the cost of sterilization\n",
      "None\n"
     ]
    }
   ],
   "source": [
    "text_3_df = pd.read_csv('./datasets/text_3.csv')\n",
    "text_3_vectors = vectorizer.transform(text_3_df['sentence'])\n",
    "text_3_df['title_similarity'] = text_3_df.apply(lambda x: get_similarity(x['sentence'], x['title']), axis=1)\n",
    "text_3_feat = prediction_preprocessing(text_3_df)\n",
    "text_3_full_feats = scipy.sparse.hstack([text_3_vectors,text_3_feat])\n",
    "lda_dtf_text_3 = lda.transform(text_3_vectors)\n",
    "text_3_feats_lda = scipy.sparse.hstack([text_3_full_feats,lda_dtf_text_3])\n",
    "pred_text_3_nb = nb_CV_lda.predict(text_3_feats_lda)\n",
    "results_text_3_nb = text_3_df[['sentence','is_summary']]\n",
    "results_text_3_nb['predictions'] = pred_text_3_nb\n",
    "print(recreate_summaries(results_text_3_nb))"
   ]
  },
  {
   "cell_type": "code",
   "execution_count": 108,
   "metadata": {},
   "outputs": [
    {
     "name": "stdout",
     "output_type": "stream",
     "text": [
      "Real Compression: 0.0830860534124629 \n",
      "\n",
      "Predicted Compression: 0.11275964391691394 \n",
      "\n",
      "Recall: 0.7142857142857143\n",
      "None\n",
      "Real Compression: 0.11742424242424243 \n",
      "\n",
      "Predicted Compression: 0.0946969696969697 \n",
      "\n",
      "Recall: 0.5161290322580645\n",
      "None\n",
      "Real Compression: 0.14150943396226415 \n",
      "\n",
      "Predicted Compression: 0.12264150943396226 \n",
      "\n",
      "Recall: 0.4666666666666667\n",
      "None\n"
     ]
    }
   ],
   "source": [
    "print(calculate_compression(results_text_1_nb))\n",
    "print(calculate_compression(results_text_2_nb))\n",
    "print(calculate_compression(results_text_3_nb))"
   ]
  },
  {
   "cell_type": "code",
   "execution_count": 109,
   "metadata": {},
   "outputs": [
    {
     "data": {
      "text/plain": [
       "337"
      ]
     },
     "execution_count": 109,
     "metadata": {},
     "output_type": "execute_result"
    }
   ],
   "source": [
    "results_text_1_nb['sentence'].count()"
   ]
  },
  {
   "cell_type": "code",
   "execution_count": null,
   "metadata": {},
   "outputs": [],
   "source": []
  }
 ],
 "metadata": {
  "kernelspec": {
   "display_name": "Python 3",
   "language": "python",
   "name": "python3"
  },
  "language_info": {
   "codemirror_mode": {
    "name": "ipython",
    "version": 3
   },
   "file_extension": ".py",
   "mimetype": "text/x-python",
   "name": "python",
   "nbconvert_exporter": "python",
   "pygments_lexer": "ipython3",
   "version": "3.7.0"
  }
 },
 "nbformat": 4,
 "nbformat_minor": 2
}
